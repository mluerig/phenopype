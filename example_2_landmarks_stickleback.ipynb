{
 "cells": [
  {
   "cell_type": "markdown",
   "metadata": {},
   "source": [
    "# Example 2: Stickleback morphometrics - landmarks\n",
    "\n",
    "Functional morphology of organisms is often measured by placing landmarks at specific points that show structural, functional or developmental significance. In this example phenopype is used to place morphometric landmarks across the anterior half of a stickleback (*Gasterosteus aculeatus*) stained with alizarin red.\n",
    "\n",
    "First we place landmarks in low throughput mode to learn how the landmark-function works, then we look at a high throughput landkmark example with a project directory and a global scale. "
   ]
  },
  {
   "cell_type": "markdown",
   "metadata": {},
   "source": [
    "<div class=\"row; text-align: left\">\n",
    "    \n",
    "<div class=\"col-md-6\">\n",
    "<img src=\"_assets/ex2_before.jpg\">\n",
    "\n",
    "**Input** - Stained threespine stickleback, photographed in a glycerol bath from a camera stand\n",
    "</div>\n",
    "<div class=\"col-md-6\">\n",
    "<img src=\"_assets/ex2_after.jpg\">\n",
    "\n",
    "**Results** - 22 landmarks are placed using the `landmark` tool from the `phenopype.measurements` module\n",
    "</div>\n",
    "</div>\n"
   ]
  },
  {
   "cell_type": "markdown",
   "metadata": {},
   "source": [
    "## Low throughput"
   ]
  },
  {
   "cell_type": "code",
   "execution_count": 1,
   "metadata": {},
   "outputs": [],
   "source": [
    "import phenopype as pp"
   ]
  },
  {
   "cell_type": "code",
   "execution_count": 2,
   "metadata": {},
   "outputs": [],
   "source": [
    "filepath = r\"images/stickle1.jpg\"\n",
    "image, img_data = pp.load_image(filepath, \n",
    "                                df=True)\n",
    "pp.show_image(image)"
   ]
  },
  {
   "cell_type": "markdown",
   "metadata": {},
   "source": [
    "Start by playing a few test landmarks:"
   ]
  },
  {
   "cell_type": "code",
   "execution_count": 3,
   "metadata": {},
   "outputs": [
    {
     "name": "stdout",
     "output_type": "stream",
     "text": [
      "- setting landmarks\n"
     ]
    }
   ],
   "source": [
    "df_landmarks = pp.measurement.landmarks(image, \n",
    "                                        point_size=15, \n",
    "                                        point_colour=\"green\", \n",
    "                                        label_size=1) \n"
   ]
  },
  {
   "cell_type": "markdown",
   "metadata": {},
   "source": [
    "The landmark function does not manipulate the image, but instead returns a dataframe with the landmark coordinates. To create an image with the selected points, we first need te select the background image (or \"canvas\") with `select_canvas`. This can be the raw image (\"raw\"), its grayscale version (\"gray\"), or any of the separate colour channels (\"r\", \"g\", \"b\"). We then use the `draw_landmarks` function to draw the landmarks onto the canvas. These explicit steps are necessary when using the low throughput, but not the high throughput routine (see below)."
   ]
  },
  {
   "cell_type": "code",
   "execution_count": 4,
   "metadata": {},
   "outputs": [
    {
     "name": "stdout",
     "output_type": "stream",
     "text": [
      "- raw image\n"
     ]
    }
   ],
   "source": [
    "canvas = pp.visualization.select_canvas(image, canvas=\"raw\")\n",
    "\n",
    "## draw landmarks on canvas (point colour and size can be redefined here)\n",
    "canvas = pp.visualization.draw_landmarks(canvas, df_landmarks=df_landmarks, point_size=15, \n",
    "                                point_colour=\"red\", \n",
    "                                label_size=2) \n",
    "pp.show_image(canvas)\n"
   ]
  },
  {
   "cell_type": "markdown",
   "metadata": {},
   "source": [
    "We also have to explicitly save the landmarks, and the canvas:"
   ]
  },
  {
   "cell_type": "code",
   "execution_count": 5,
   "metadata": {},
   "outputs": [
    {
     "name": "stdout",
     "output_type": "stream",
     "text": [
      "- landmarks saved under _temp/output/ex2\\landmarks.csv (overwritten).\n",
      "- canvas saved under _temp/output/ex2\\canvas.jpg (overwritten).\n"
     ]
    }
   ],
   "source": [
    "pp.export.save_landmarks(df_landmarks, dirpath=r\"_temp/output/ex2\") ## save landmarks as csv to folder\n",
    "pp.export.save_canvas(canvas, dirpath=r\"_temp/output/ex2\") ## also save canvas for quality control "
   ]
  },
  {
   "cell_type": "markdown",
   "metadata": {},
   "source": [
    "###  Adding a reference scale\n",
    "\n",
    "Now we will map a reference card so we can adjust our landmark coordinate space. This is important if for example the distance between the camera and your sample changes.  \n",
    "\n",
    "<center>\n",
    "<div style=\"width:500px; text-align: left\">\n",
    "    \n",
    "![Adding a scale](_assets/ex2_scale.gif)\n",
    "    \n",
    "</div>\n",
    "</center>"
   ]
  },
  {
   "cell_type": "markdown",
   "metadata": {},
   "source": [
    "After loading the reference image, we measure the distance on the millimeter scale (click on two points inside the image), enter the distance (e.g. 10 mm), and then we create a template by dragging a rectangle around the whole (!) reference card. Finish each step with \"enter\"."
   ]
  },
  {
   "cell_type": "code",
   "execution_count": 6,
   "metadata": {},
   "outputs": [
    {
     "name": "stdout",
     "output_type": "stream",
     "text": [
      "- measure pixel-to-mm-ratio\n",
      "Reference set\n",
      "- add column length\n",
      "Template selected\n"
     ]
    }
   ],
   "source": [
    "import phenopype as pp\n",
    "\n",
    "ref_path = r\"images/stickleback_side.jpg\"\n",
    "filepath = r\"images/stickle1.jpg\"\n",
    "\n",
    "ref_image = pp.load_image(ref_path)\n",
    "ref_ratio, df_masks, template_img = pp.preprocessing.create_reference(ref_image,  \n",
    "                                                                      template=True)"
   ]
  },
  {
   "cell_type": "markdown",
   "metadata": {},
   "source": [
    "In the next step, we load the sample image again. The `find_scale` uses a classic machine learning algorithm to find the scale inside our already processed image."
   ]
  },
  {
   "cell_type": "code",
   "execution_count": 7,
   "metadata": {},
   "outputs": [
    {
     "name": "stdout",
     "output_type": "stream",
     "text": [
      "---------------------------------------------------\n",
      "Reference card found with 262 keypoint matches:\n",
      "template image has 37.210885504110216 pixel per mm.\n",
      "current image has 36.0 pixel per mm.\n",
      "= 96.814 % of template image.\n",
      "---------------------------------------------------\n"
     ]
    }
   ],
   "source": [
    "filepath = r\"images/stickle1.jpg\"\n",
    "image, img_data = pp.load_image(filepath, \n",
    "                                df=True)\n",
    "img_data, masks, _ = pp.preprocessing.detect_reference(image, \n",
    "                                                       img_data,\n",
    "                                                       template_image=template_img, \n",
    "                                                       template_px_mm_ratio=ref_ratio)"
   ]
  },
  {
   "cell_type": "code",
   "execution_count": 8,
   "metadata": {},
   "outputs": [
    {
     "data": {
      "text/html": [
       "<div>\n",
       "<style scoped>\n",
       "    .dataframe tbody tr th:only-of-type {\n",
       "        vertical-align: middle;\n",
       "    }\n",
       "\n",
       "    .dataframe tbody tr th {\n",
       "        vertical-align: top;\n",
       "    }\n",
       "\n",
       "    .dataframe thead th {\n",
       "        text-align: right;\n",
       "    }\n",
       "</style>\n",
       "<table border=\"1\" class=\"dataframe\">\n",
       "  <thead>\n",
       "    <tr style=\"text-align: right;\">\n",
       "      <th></th>\n",
       "      <th>filename</th>\n",
       "      <th>width</th>\n",
       "      <th>height</th>\n",
       "      <th>current_px_mm_ratio</th>\n",
       "    </tr>\n",
       "  </thead>\n",
       "  <tbody>\n",
       "    <tr>\n",
       "      <th>0</th>\n",
       "      <td>stickle1.jpg</td>\n",
       "      <td>2400</td>\n",
       "      <td>1600</td>\n",
       "      <td>36.0</td>\n",
       "    </tr>\n",
       "  </tbody>\n",
       "</table>\n",
       "</div>"
      ],
      "text/plain": [
       "       filename  width  height  current_px_mm_ratio\n",
       "0  stickle1.jpg   2400    1600                 36.0"
      ]
     },
     "execution_count": 8,
     "metadata": {},
     "output_type": "execute_result"
    }
   ],
   "source": [
    "img_data"
   ]
  },
  {
   "cell_type": "markdown",
   "metadata": {},
   "source": [
    "This was successful - we see that the reference card found in the image has only ~ 96 % if the size of the card we marked in the template image. "
   ]
  },
  {
   "cell_type": "markdown",
   "metadata": {},
   "source": [
    "## Enter some data\n",
    "\n",
    "For high data quality it is important to verify the ID of the specimen in the current picture. Often, the picture name contains the ID, but typically an label is placed inside the image. Using the `enter_data` tool we open the image and an entry prompt that will create a column with a name of our chosing inside all exported results:"
   ]
  },
  {
   "cell_type": "code",
   "execution_count": 9,
   "metadata": {},
   "outputs": [
    {
     "name": "stdout",
     "output_type": "stream",
     "text": [
      "- add column ID\n"
     ]
    }
   ],
   "source": [
    "img_data = pp.preprocessing.enter_data(image, \n",
    "                                       img_data, \n",
    "                                       columns=\"ID\")"
   ]
  },
  {
   "cell_type": "markdown",
   "metadata": {},
   "source": [
    "Now we place our landmarks again. The resulting csv now contains a column for the pixel-to-mm-ratio from the scale we detected."
   ]
  },
  {
   "cell_type": "code",
   "execution_count": 10,
   "metadata": {},
   "outputs": [
    {
     "name": "stdout",
     "output_type": "stream",
     "text": [
      "- setting landmarks\n"
     ]
    }
   ],
   "source": [
    "df_landmarks = pp.measurement.landmarks(image, \n",
    "                                        point_size=15, \n",
    "                                        point_colour=\"green\", \n",
    "                                        label_size=1, \n",
    "                                        overwrite=True) "
   ]
  },
  {
   "cell_type": "code",
   "execution_count": 11,
   "metadata": {},
   "outputs": [
    {
     "name": "stdout",
     "output_type": "stream",
     "text": [
      "- raw image\n",
      "drawing mask: reference\n"
     ]
    }
   ],
   "source": [
    "canvas = pp.visualization.select_canvas(image, canvas=\"raw\")\n",
    "canvas = pp.visualization.draw_landmarks(canvas, df_landmarks, point_size=15, point_colour=\"green\", label_size=1) \n",
    "\n",
    "## detected reference\n",
    "canvas = pp.visualization.draw_masks(canvas, df_masks=masks)"
   ]
  },
  {
   "cell_type": "code",
   "execution_count": 12,
   "metadata": {},
   "outputs": [],
   "source": [
    "pp.show_image(canvas)"
   ]
  },
  {
   "cell_type": "code",
   "execution_count": 13,
   "metadata": {},
   "outputs": [
    {
     "name": "stdout",
     "output_type": "stream",
     "text": [
      "- landmarks saved under _temp/output/ex2\\landmarks.csv (overwritten).\n",
      "- canvas saved under _temp/output/ex2\\canvas.jpg (overwritten).\n"
     ]
    }
   ],
   "source": [
    "pp.export.save_landmarks(df_landmarks, dirpath=r\"_temp/output/ex2\") \n",
    "pp.export.save_canvas(canvas, dirpath=r\"_temp/output/ex2\")"
   ]
  },
  {
   "cell_type": "markdown",
   "metadata": {},
   "source": [
    "## High throughput"
   ]
  },
  {
   "cell_type": "markdown",
   "metadata": {},
   "source": [
    "ow we will use the high throughput workflow function to place landmarks - first on a single file, and then from within a Phenopype project. For more information on how to analyze multiple images and whole datasets with this approach, check [Tutorials 3](tutorial_3_phenopype_workflow.ipynb) and [Tutorial 4](tutorial_4_managing_projects.ipynb).\n",
    "\n",
    "<center>\n",
    "<div style=\"text-align: left\">\n",
    "    \n",
    "![Landmarks in high throughput](_assets/ex2_ht.gif)\n",
    "    \n",
    "The `pype` method opens the image and a text editor with the pype configuration file. Any change to the configuration file, in this case the point size for landmarks, will be immediately applied to the image.  \n",
    "</div>\n",
    "</center>"
   ]
  },
  {
   "cell_type": "code",
   "execution_count": 14,
   "metadata": {},
   "outputs": [],
   "source": [
    "import phenopype as pp\n",
    "import os"
   ]
  },
  {
   "cell_type": "code",
   "execution_count": 15,
   "metadata": {},
   "outputs": [
    {
     "data": {
      "text/plain": [
       "{'demo.yaml': 'd:\\\\workspace\\\\git\\\\phenopype\\\\phenopype\\\\templates\\\\demo.yaml',\n",
       " 'ex1.yaml': 'd:\\\\workspace\\\\git\\\\phenopype\\\\phenopype\\\\templates\\\\ex1.yaml',\n",
       " 'ex2.yaml': 'd:\\\\workspace\\\\git\\\\phenopype\\\\phenopype\\\\templates\\\\ex2.yaml',\n",
       " 'ex3.yaml': 'd:\\\\workspace\\\\git\\\\phenopype\\\\phenopype\\\\templates\\\\ex3.yaml',\n",
       " 'ex5_1.yaml': 'd:\\\\workspace\\\\git\\\\phenopype\\\\phenopype\\\\templates\\\\ex5_1.yaml',\n",
       " 'ex5_2.yaml': 'd:\\\\workspace\\\\git\\\\phenopype\\\\phenopype\\\\templates\\\\ex5_2.yaml',\n",
       " 'ex6.yaml': 'd:\\\\workspace\\\\git\\\\phenopype\\\\phenopype\\\\templates\\\\ex6.yaml',\n",
       " 'ex7.yaml': 'd:\\\\workspace\\\\git\\\\phenopype\\\\phenopype\\\\templates\\\\ex7.yaml',\n",
       " 'ex8_1.yaml': 'd:\\\\workspace\\\\git\\\\phenopype\\\\phenopype\\\\templates\\\\ex8_1.yaml',\n",
       " 'ex8_2.yaml': 'd:\\\\workspace\\\\git\\\\phenopype\\\\phenopype\\\\templates\\\\ex8_2.yaml',\n",
       " 'landmarks1.yaml': 'd:\\\\workspace\\\\git\\\\phenopype\\\\phenopype\\\\templates\\\\landmarks1.yaml',\n",
       " 'landmarks2.yaml': 'd:\\\\workspace\\\\git\\\\phenopype\\\\phenopype\\\\templates\\\\landmarks2.yaml',\n",
       " 'tut3.yaml': 'd:\\\\workspace\\\\git\\\\phenopype\\\\phenopype\\\\templates\\\\tut3.yaml'}"
      ]
     },
     "execution_count": 15,
     "metadata": {},
     "output_type": "execute_result"
    }
   ],
   "source": [
    "pp.pype_config_templates"
   ]
  },
  {
   "cell_type": "code",
   "execution_count": 16,
   "metadata": {},
   "outputs": [
    {
     "name": "stdout",
     "output_type": "stream",
     "text": [
      "SHOWING BUILTIN PHENOPYPE TEMPLATE ex2.yaml\n",
      "\n",
      "\n",
      "- preprocessing:\n",
      "  - detect_reference\n",
      "  - enter_data\n",
      "- measurement:\n",
      "  - landmarks:\n",
      "      point_size: 12\n",
      "      point_colour: green\n",
      "      label_size: 2\n",
      "      label_width: 2\n",
      "- visualization:\n",
      "  - draw_masks\n",
      "  - draw_landmarks:\n",
      "      point_size: 12\n",
      "      point_colour: green\n",
      "      label_size: 2\n",
      "      label_width: 2\n",
      "- export:\n",
      "  - save_landmarks\n",
      "  - save_masks\n",
      "  - save_data_entry\n"
     ]
    }
   ],
   "source": [
    "pp.show_config_template(\"ex2\")"
   ]
  },
  {
   "cell_type": "markdown",
   "metadata": {},
   "source": [
    "The `pype` can be used on single images by supplying a filepath. Run the `pype` function, go to the output dirpath, and check the collected results."
   ]
  },
  {
   "cell_type": "code",
   "execution_count": 17,
   "metadata": {},
   "outputs": [
    {
     "name": "stdout",
     "output_type": "stream",
     "text": [
      "Directory to save phenopype-container output set to parent folder of image:\n",
      "D:\\workspace\\git\\phenopype\\tutorials\\images\n",
      "pype_config_lm1.yaml already exists - overwrite?\n",
      "y: yes, file will be overwritten and loaded\n",
      "n: no, existing file will be loaded instead\n",
      "To load an existing file, use \"config\" instead of \"template\".y\n",
      "New pype configuration created (ex2.yaml) from phenopype template:\n",
      "d:\\workspace\\git\\phenopype\\phenopype\\templates\\ex2.yaml\n",
      "\n",
      "\n",
      "------------+++ new pype iteration 2021:05:10 15:37:15 +++--------------\n",
      "\n",
      "\n",
      "=== AUTOLOAD ===\n",
      "- columns ID from attributes.yaml\n",
      "- landmarks_lm1.csv\n",
      "- masks_lm1.csv\n",
      "PREPROCESSING\n",
      "detect_reference\n",
      "- reference information missing - abort\n",
      "preprocessing.detect_reference: UnboundLocalError - local variable 'detected_px_mm_ratio' referenced before assignment\n",
      "enter_data\n",
      "- column ID already created (overwrite=False)\n",
      "MEASUREMENT\n",
      "landmarks\n",
      "- landmarks already set (overwrite=False)\n",
      "VISUALIZATION\n",
      "- modifed image\n",
      "- autoselect canvas\n",
      "draw_masks\n",
      "draw_landmarks\n",
      "EXPORT\n",
      "save_landmarks\n",
      "- landmarks saved under _temp/output/ex2\\landmarks_lm1.csv (overwritten).\n",
      "save_masks\n",
      "- masks saved under _temp/output/ex2\\masks_lm1.csv (overwritten).\n",
      "save_data_entry\n",
      "- add column ID (overwriting)\n",
      "=== AUTOSAVE ===\n",
      "save_canvas\n",
      "- canvas saved under _temp/output/ex2\\canvas_lm1.jpg (overwritten).\n",
      "\n",
      "\n",
      "------------+++ finished pype iteration +++--------------\n",
      "-------(End with Ctrl+Enter or re-run with Enter)--------\n",
      "\n",
      "\n",
      "\n",
      "\n",
      "------------+++ new pype iteration 2021:05:10 15:37:23 +++--------------\n",
      "\n",
      "\n",
      "Nothing loaded.\n",
      "PREPROCESSING\n",
      "detect_reference\n",
      "- reference information missing - abort\n",
      "preprocessing.detect_reference: UnboundLocalError - local variable 'detected_px_mm_ratio' referenced before assignment\n",
      "enter_data\n",
      "- column ID already created (overwrite=False)\n",
      "MEASUREMENT\n",
      "landmarks\n",
      "- landmarks already set (overwrite=False)\n",
      "VISUALIZATION\n",
      "- modifed image\n",
      "- autoselect canvas\n",
      "draw_masks\n",
      "draw_landmarks\n",
      "EXPORT\n",
      "save_landmarks\n",
      "- landmarks saved under _temp/output/ex2\\landmarks_lm1.csv (overwritten).\n",
      "save_masks\n",
      "- masks saved under _temp/output/ex2\\masks_lm1.csv (overwritten).\n",
      "save_data_entry\n",
      "- add column ID (overwriting)\n",
      "=== AUTOSAVE ===\n",
      "save_canvas\n",
      "- canvas saved under _temp/output/ex2\\canvas_lm1.jpg (overwritten).\n",
      "\n",
      "\n",
      "------------+++ finished pype iteration +++--------------\n",
      "-------(End with Ctrl+Enter or re-run with Enter)--------\n",
      "\n",
      "\n",
      "\n",
      "\n",
      "TERMINATE\n"
     ]
    },
    {
     "data": {
      "text/plain": [
       "<phenopype.main.pype at 0x25dca7e7e48>"
      ]
     },
     "execution_count": 17,
     "metadata": {},
     "output_type": "execute_result"
    }
   ],
   "source": [
    "filepath = r\"images/stickle1.jpg\" # works\n",
    "\n",
    "## dirpath specifies a directory where all results are saved\n",
    "pp.pype(filepath, \n",
    "        name=\"lm1\", \n",
    "        template=\"ex2\", \n",
    "        dirpath=r\"_temp/output/ex2\") "
   ]
  },
  {
   "cell_type": "markdown",
   "metadata": {},
   "source": [
    "We will now use the `pype` function together with files organized within a phenopype project. We start with providing some paths, and including select images into the project (i.e. all stickleback images). "
   ]
  },
  {
   "cell_type": "code",
   "execution_count": 18,
   "metadata": {},
   "outputs": [],
   "source": [
    "## relative from now (phenopype-master/tutorials)\n",
    "project_root = r\"_temp/output/ex2_project\"\n",
    "\n",
    "## relative from project root directory (phenopype-master/_temp/project) \n",
    "image_dir = \"images\"\n",
    "reference_image = \"images/stickleback_side.jpg\""
   ]
  },
  {
   "cell_type": "code",
   "execution_count": 19,
   "metadata": {},
   "outputs": [
    {
     "name": "stdout",
     "output_type": "stream",
     "text": [
      "--------------------------------------------\n",
      "Phenopype will create a new project at\n",
      "D:\\workspace\\git\\phenopype\\tutorials\\_temp\\output\\ex2_project\n",
      "\n",
      "Proceed? (y/n)\n",
      "y\n",
      "Warning - project root_dir already exists - overwrite? (y/n)y\n",
      "\n",
      "\"D:\\workspace\\git\\phenopype\\tutorials\\_temp\\output\\ex2_project\" created (overwritten)\n",
      "\n",
      "project attributes written to D:\\workspace\\git\\phenopype\\tutorials\\_temp\\output\\ex2_project\\attributes.yaml\n",
      "--------------------------------------------\n"
     ]
    }
   ],
   "source": [
    "myproj = pp.project(root_dir=project_root)"
   ]
  },
  {
   "cell_type": "markdown",
   "metadata": {},
   "source": [
    "First we add the image files in the directory, but only \"stickle1\", \"stickle2\", and \"stickle3\". Then we add the appropriate configuration file. As for the other examples I have created a template (\"ex2\") with appropriate settings, which is passed to the pype using `template=\"ex2\"`."
   ]
  },
  {
   "cell_type": "code",
   "execution_count": 20,
   "metadata": {},
   "outputs": [
    {
     "name": "stdout",
     "output_type": "stream",
     "text": [
      "--------------------------------------------\n",
      "phenopype will search for image files at\n",
      "\n",
      "D:\\workspace\\git\\phenopype\\tutorials\\images\n",
      "\n",
      "using the following settings:\n",
      "\n",
      "filetypes: ['jpg', 'JPG', 'jpeg', 'JPEG', 'tif', 'png', 'bmp'], include: stickle, exclude: ['side', 'top'], mode: copy, recursive: False, resize: False, unique: path\n",
      "\n",
      "Found image stickle1.JPG - phenopype-project folder 0__stickle1 created\n",
      "Found image stickle2.JPG - phenopype-project folder 0__stickle2 created\n",
      "Found image stickle3.JPG - phenopype-project folder 0__stickle3 created\n",
      "\n",
      "Found 3 files\n",
      "--------------------------------------------\n",
      "New pype configuration created (ex2.yaml) from phenopype template:\n",
      "d:\\workspace\\git\\phenopype\\phenopype\\templates\\ex2.yaml\n",
      "pype_lm2.yaml created for 0__stickle1\n",
      "pype_lm2.yaml created for 0__stickle2\n",
      "pype_lm2.yaml created for 0__stickle3\n"
     ]
    }
   ],
   "source": [
    "myproj.add_files(image_dir=image_dir, \n",
    "                 include=\"stickle\", \n",
    "                 exclude=[\"side\",\"top\"])\n",
    "myproj.add_config(name = \"lm2\", \n",
    "                  template=\"ex2\")"
   ]
  },
  {
   "cell_type": "markdown",
   "metadata": {},
   "source": [
    "Now we again set scale, but this time we pass on the information to all images included in the project. Afterwards, we save the project (to the root folder). "
   ]
  },
  {
   "cell_type": "code",
   "execution_count": 21,
   "metadata": {},
   "outputs": [
    {
     "name": "stdout",
     "output_type": "stream",
     "text": [
      "Reference image loaded from images/stickleback_side.jpg\n",
      "- measure pixel-to-mm-ratio\n",
      "Reference set\n",
      "- add column length\n",
      "Template selected\n",
      "Reference image saved under D:\\workspace\\git\\phenopype\\tutorials\\_temp\\output\\ex2_project\\reference_lm2.tif\n",
      "Reference image saved under D:\\workspace\\git\\phenopype\\tutorials\\_temp\\output\\ex2_project\\reference_template_lm2.tif\n",
      "Saved reference info to project attributes.\n",
      "setting active reference to \"lm2\" for 0__stickle1 (active=True)\n",
      "setting active reference to \"lm2\" for 0__stickle2 (active=True)\n",
      "setting active reference to \"lm2\" for 0__stickle3 (active=True)\n"
     ]
    }
   ],
   "source": [
    "myproj.add_reference(name=\"lm2\",\n",
    "                     reference_image=reference_image, \n",
    "                     template=True, \n",
    "                     overwrite=True)"
   ]
  },
  {
   "cell_type": "code",
   "execution_count": 22,
   "metadata": {},
   "outputs": [
    {
     "name": "stdout",
     "output_type": "stream",
     "text": [
      "Project data saved under D:\\workspace\\git\\phenopype\\tutorials\\_temp\\output\\ex2_project\\project.data.\n"
     ]
    }
   ],
   "source": [
    "pp.project.save(myproj)"
   ]
  },
  {
   "cell_type": "code",
   "execution_count": 23,
   "metadata": {},
   "outputs": [],
   "source": [
    "## if you have already run above cell you can load your project using \"project.load\":\n",
    "# myproj = pp.project.load(r\"_temp/project/project.data\") ## run this if you "
   ]
  },
  {
   "cell_type": "markdown",
   "metadata": {},
   "source": [
    "After creating the project files, we can run the `pype` routine with a simple loop on `myproj.dirpaths`, which is a list of all project directories that contain the copied raw images and the config files we generated before. \n",
    "\n",
    "Move on to the next image with `Ctrl+Enter`, interrupt the loop with `Esc`. To resume to the point where you left, add the `skip` argument so directory with processed files are not run again."
   ]
  },
  {
   "cell_type": "code",
   "execution_count": 24,
   "metadata": {},
   "outputs": [
    {
     "name": "stdout",
     "output_type": "stream",
     "text": [
      "Succesfully loaded existing pype config (pype_config_lm2.yaml) from:\n",
      "D:\\workspace\\git\\phenopype\\tutorials\\_temp\\output\\ex2_project\\data\\0__stickle1\\pype_config_lm2.yaml \n",
      "\n",
      "\n",
      "------------+++ new pype iteration 2021:05:10 15:38:13 +++--------------\n",
      "\n",
      "\n",
      "=== AUTOLOAD ===\n",
      "- project level reference information loaded for lm2\n",
      "- reference template image loaded from root directory\n",
      "PREPROCESSING\n",
      "detect_reference\n",
      "---------------------------------------------------\n",
      "Reference card found with 251 keypoint matches:\n",
      "template image has 36.90121949204389 pixel per mm.\n",
      "current image has 35.7 pixel per mm.\n",
      "= 96.802 % of template image.\n",
      "---------------------------------------------------\n",
      "enter_data\n",
      "- add column ID\n",
      "MEASUREMENT\n",
      "landmarks\n",
      "- setting landmarks\n",
      "VISUALIZATION\n",
      "- modifed image\n",
      "- autoselect canvas\n",
      "draw_masks\n",
      "drawing mask: reference\n",
      "draw_landmarks\n",
      "EXPORT\n",
      "save_landmarks\n",
      "- landmarks saved under D:\\workspace\\git\\phenopype\\tutorials\\_temp\\output\\ex2_project\\data\\0__stickle1\\landmarks_lm2.csv.\n",
      "save_masks\n",
      "- masks saved under D:\\workspace\\git\\phenopype\\tutorials\\_temp\\output\\ex2_project\\data\\0__stickle1\\masks_lm2.csv.\n",
      "save_data_entry\n",
      "- add column ID\n",
      "=== AUTOSAVE ===\n",
      "save_canvas\n",
      "- canvas saved under D:\\workspace\\git\\phenopype\\tutorials\\_temp\\output\\ex2_project\\data\\0__stickle1\\canvas_lm2.jpg.\n",
      "save_reference\n",
      "lm2\n",
      "- save reference to attributes\n",
      "\n",
      "\n",
      "------------+++ finished pype iteration +++--------------\n",
      "-------(End with Ctrl+Enter or re-run with Enter)--------\n",
      "\n",
      "\n",
      "\n",
      "\n",
      "------------+++ new pype iteration 2021:05:10 15:38:23 +++--------------\n",
      "\n",
      "\n",
      "=== AUTOLOAD ===\n",
      "- project level reference information loaded for lm2\n",
      "- reference template image loaded from root directory\n",
      "PREPROCESSING\n",
      "detect_reference\n",
      "- reference already detected (overwrite=False)\n",
      "enter_data\n",
      "- column ID already created (overwrite=False)\n",
      "MEASUREMENT\n",
      "landmarks\n",
      "- landmarks already set (overwrite=False)\n",
      "VISUALIZATION\n",
      "- modifed image\n",
      "- autoselect canvas\n",
      "draw_masks\n",
      "drawing mask: reference\n",
      "draw_landmarks\n",
      "EXPORT\n",
      "save_landmarks\n",
      "- landmarks saved under D:\\workspace\\git\\phenopype\\tutorials\\_temp\\output\\ex2_project\\data\\0__stickle1\\landmarks_lm2.csv (overwritten).\n",
      "save_masks\n",
      "- masks saved under D:\\workspace\\git\\phenopype\\tutorials\\_temp\\output\\ex2_project\\data\\0__stickle1\\masks_lm2.csv (overwritten).\n",
      "save_data_entry\n",
      "- add column ID (overwriting)\n",
      "=== AUTOSAVE ===\n",
      "save_canvas\n",
      "- canvas saved under D:\\workspace\\git\\phenopype\\tutorials\\_temp\\output\\ex2_project\\data\\0__stickle1\\canvas_lm2.jpg (overwritten).\n",
      "save_reference\n",
      "lm2\n",
      "- save reference to attributes (overwriting)\n",
      "\n",
      "\n",
      "------------+++ finished pype iteration +++--------------\n",
      "-------(End with Ctrl+Enter or re-run with Enter)--------\n",
      "\n",
      "\n",
      "\n",
      "\n",
      "TERMINATE\n",
      "Succesfully loaded existing pype config (pype_config_lm2.yaml) from:\n",
      "D:\\workspace\\git\\phenopype\\tutorials\\_temp\\output\\ex2_project\\data\\0__stickle2\\pype_config_lm2.yaml \n",
      "\n",
      "\n",
      "------------+++ new pype iteration 2021:05:10 15:38:27 +++--------------\n",
      "\n",
      "\n",
      "=== AUTOLOAD ===\n",
      "- project level reference information loaded for lm2\n",
      "- reference template image loaded from root directory\n",
      "PREPROCESSING\n",
      "detect_reference\n",
      "---------------------------------------------------\n",
      "Reference card found with 222 keypoint matches:\n",
      "template image has 36.90121949204389 pixel per mm.\n",
      "current image has 35.7 pixel per mm.\n",
      "= 96.631 % of template image.\n",
      "---------------------------------------------------\n",
      "enter_data\n",
      "- add column ID\n",
      "MEASUREMENT\n",
      "landmarks\n",
      "- setting landmarks\n",
      "VISUALIZATION\n",
      "- modifed image\n",
      "- autoselect canvas\n",
      "draw_masks\n",
      "drawing mask: reference\n",
      "draw_landmarks\n",
      "EXPORT\n",
      "save_landmarks\n",
      "- landmarks saved under D:\\workspace\\git\\phenopype\\tutorials\\_temp\\output\\ex2_project\\data\\0__stickle2\\landmarks_lm2.csv.\n",
      "save_masks\n",
      "- masks saved under D:\\workspace\\git\\phenopype\\tutorials\\_temp\\output\\ex2_project\\data\\0__stickle2\\masks_lm2.csv.\n",
      "save_data_entry\n",
      "- add column ID\n",
      "=== AUTOSAVE ===\n",
      "save_canvas\n",
      "- canvas saved under D:\\workspace\\git\\phenopype\\tutorials\\_temp\\output\\ex2_project\\data\\0__stickle2\\canvas_lm2.jpg.\n",
      "save_reference\n",
      "lm2\n",
      "- save reference to attributes\n",
      "\n",
      "\n",
      "------------+++ finished pype iteration +++--------------\n",
      "-------(End with Ctrl+Enter or re-run with Enter)--------\n",
      "\n",
      "\n",
      "\n",
      "\n",
      "------------+++ new pype iteration 2021:05:10 15:38:36 +++--------------\n",
      "\n",
      "\n",
      "=== AUTOLOAD ===\n",
      "- project level reference information loaded for lm2\n",
      "- reference template image loaded from root directory\n",
      "PREPROCESSING\n",
      "detect_reference\n",
      "- reference already detected (overwrite=False)\n",
      "enter_data\n",
      "- column ID already created (overwrite=False)\n",
      "MEASUREMENT\n",
      "landmarks\n",
      "- landmarks already set (overwrite=False)\n",
      "VISUALIZATION\n",
      "- modifed image\n",
      "- autoselect canvas\n",
      "draw_masks\n",
      "drawing mask: reference\n",
      "draw_landmarks\n",
      "EXPORT\n",
      "save_landmarks\n",
      "- landmarks saved under D:\\workspace\\git\\phenopype\\tutorials\\_temp\\output\\ex2_project\\data\\0__stickle2\\landmarks_lm2.csv (overwritten).\n",
      "save_masks\n",
      "- masks saved under D:\\workspace\\git\\phenopype\\tutorials\\_temp\\output\\ex2_project\\data\\0__stickle2\\masks_lm2.csv (overwritten).\n",
      "save_data_entry\n",
      "- add column ID (overwriting)\n",
      "=== AUTOSAVE ===\n",
      "save_canvas\n",
      "- canvas saved under D:\\workspace\\git\\phenopype\\tutorials\\_temp\\output\\ex2_project\\data\\0__stickle2\\canvas_lm2.jpg (overwritten).\n",
      "save_reference\n",
      "lm2\n",
      "- save reference to attributes (overwriting)\n",
      "\n",
      "\n",
      "------------+++ finished pype iteration +++--------------\n",
      "-------(End with Ctrl+Enter or re-run with Enter)--------\n",
      "\n",
      "\n",
      "\n",
      "\n",
      "TERMINATE\n",
      "Succesfully loaded existing pype config (pype_config_lm2.yaml) from:\n",
      "D:\\workspace\\git\\phenopype\\tutorials\\_temp\\output\\ex2_project\\data\\0__stickle3\\pype_config_lm2.yaml \n",
      "\n",
      "\n",
      "------------+++ new pype iteration 2021:05:10 15:38:38 +++--------------\n",
      "\n",
      "\n",
      "=== AUTOLOAD ===\n",
      "- project level reference information loaded for lm2\n",
      "- reference template image loaded from root directory\n",
      "PREPROCESSING\n",
      "detect_reference\n",
      "---------------------------------------------------\n",
      "Reference card found with 260 keypoint matches:\n",
      "template image has 36.90121949204389 pixel per mm.\n",
      "current image has 35.7 pixel per mm.\n",
      "= 96.765 % of template image.\n",
      "---------------------------------------------------\n",
      "enter_data\n",
      "- add column ID\n",
      "MEASUREMENT\n",
      "landmarks\n",
      "- setting landmarks\n",
      "VISUALIZATION\n",
      "- modifed image\n",
      "- autoselect canvas\n",
      "draw_masks\n",
      "drawing mask: reference\n",
      "draw_landmarks\n",
      "EXPORT\n",
      "save_landmarks\n",
      "- landmarks saved under D:\\workspace\\git\\phenopype\\tutorials\\_temp\\output\\ex2_project\\data\\0__stickle3\\landmarks_lm2.csv.\n",
      "save_masks\n",
      "- masks saved under D:\\workspace\\git\\phenopype\\tutorials\\_temp\\output\\ex2_project\\data\\0__stickle3\\masks_lm2.csv.\n",
      "save_data_entry\n",
      "- add column ID\n",
      "=== AUTOSAVE ===\n",
      "save_canvas\n",
      "- canvas saved under D:\\workspace\\git\\phenopype\\tutorials\\_temp\\output\\ex2_project\\data\\0__stickle3\\canvas_lm2.jpg.\n",
      "save_reference\n",
      "lm2\n",
      "- save reference to attributes\n",
      "\n",
      "\n",
      "------------+++ finished pype iteration +++--------------\n",
      "-------(End with Ctrl+Enter or re-run with Enter)--------\n",
      "\n",
      "\n",
      "\n",
      "\n",
      "TERMINATE\n"
     ]
    }
   ],
   "source": [
    "for dirpath in myproj.dirpaths:\n",
    "    out = pp.pype(dirpath, name=\"lm2\", skip=True) "
   ]
  },
  {
   "cell_type": "code",
   "execution_count": null,
   "metadata": {},
   "outputs": [],
   "source": []
  }
 ],
 "metadata": {
  "kernelspec": {
   "display_name": "Python 3",
   "language": "python",
   "name": "python3"
  },
  "language_info": {
   "codemirror_mode": {
    "name": "ipython",
    "version": 3
   },
   "file_extension": ".py",
   "mimetype": "text/x-python",
   "name": "python",
   "nbconvert_exporter": "python",
   "pygments_lexer": "ipython3",
   "version": "3.7.9"
  }
 },
 "nbformat": 4,
 "nbformat_minor": 2
}
