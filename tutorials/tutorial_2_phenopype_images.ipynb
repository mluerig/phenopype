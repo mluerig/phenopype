{
 "cells": [
  {
   "cell_type": "markdown",
   "metadata": {},
   "source": [
    "# Tutorial 2: Interacting with images in phenopype\n",
    "\n",
    "In this tutorial we learn how to open and close images in phenopype, and how to use the interactive featues of the program.  Phenopype uses OpenCV's [HighGUI module](https://docs.opencv.org/3.4/d7/dfc/group__highgui.html) to display images and to allow users to interact with images. HighGUI has a few pros and cons: \n",
    "\n",
    "```\n",
    "+ native OpenCV GUI (no extra GUI libraries required)\n",
    "+ the module is extremely fast in displaying images \n",
    "+ it can display very large image-arrays (> 10000x10000 pixels)\n",
    "+ it can display multiple images side by side\n",
    "+ interactions (drawing and measuring) are possible \n",
    "\n",
    "- sometimes unstable (e.g. windows are not closed but freeze)\n",
    "- issues with cross plattform stability (e.g. on macOS)\n",
    "- displaying instructions is hacky (text is \"painted\" onto a displayed image) \n",
    "- user input (key strokes and mouse clicks) sometimes isn't captured properly\n",
    "```\n",
    "\n",
    "Currently Phenopype uses the standard HighGUI libraries that ship with the most recent precompiled `opencv-contrib-python` package that is listed on the [Python package index](https://pypi.org/project/opencv-python/), which is `Qt` for Linux and macOS, and `Win32 UI` on Windows. The `Qt` GUI is a bit more userfriendly with builtin buttons, scrollbars, RGB info and zoom ([see the OpenCV docs](https://docs.opencv.org/master/dc/d46/group__highgui__qt.html)), but you don't actually need those things for basic Phenopype GUI interactions."
   ]
  },
  {
   "cell_type": "markdown",
   "metadata": {},
   "source": [
    "## Window control\n",
    "\n",
    "**IMPORTANT - READ BEFORE RUNNING THE CODE** \n",
    "\n",
    "### Open\n",
    "\n",
    "In a very simple case, where you want to just inspect an image file from within phenopype, you use the `load_image` function to load an image file into Python as an array, and then display it with `show_image`. A HighGUI window will pop up and display the array. While the window is open, the Python kernel is \"busy\", and you cannot interact with the console, i.e. run any code - you first have to close the image again.\n",
    "\n",
    "### Close\n",
    " \n",
    "Although the HighGUI window has the \"red crossed\" close button in the upper right corner, DO NOT USE IT! For practical reasons,  phenopype relies on key strokes to control the windows. Make sure that the window is selected / highlighted, and use the following key combinations to close it:  \n",
    "\n",
    "`Enter` - close a window\n",
    "`Ctrl+Enter` - close and finish a window in `pype`-mode \n",
    "`Esc` - close a window and quit the Phenoype process that invoked it. This may also work when the process is frozen. \n",
    "\n",
    "### Issues\n",
    "\n",
    "- If a keystroke doen't do anything the first time, try a few times more (Phenopype \"listens\" to your keystroke while refreshing the presented image, and sometimes a refreshing operation overlaps with user input and it is not recognized).\n",
    "- If your keystore still isn't recognized, make sure the window is highlighted (i.e. click on it) and try again.\n",
    "- If you killed a process but the window still open (i.e. the kernel is not busy anymore), type \n",
    "`import cv2` and `cv2.destroyAllWindows()` into the console to close the window.\n",
    "- If a window and the Python kernel is frozen permanently, you need to restart it - sorry!"
   ]
  },
  {
   "cell_type": "markdown",
   "metadata": {},
   "source": [
    "## Opening images in phenopype\n",
    "\n",
    "To open an image, it first has to be loaded as an array using `load_image`. The array can then be passed on to `show_image`, which simply displays an image (no interactions, except zooming in using the mousewheel). The window is closed by keystroke (`Enter`, or `Esc` which both closes the window and ends ongoing processes). "
   ]
  },
  {
   "cell_type": "code",
   "execution_count": 1,
   "metadata": {},
   "outputs": [],
   "source": [
    "import phenopype as pp\n",
    "import os\n",
    "\n",
    "img = pp.load_image(os.path.join(\"images\",'isopods.jpg')) \n",
    "pp.show_image(img)"
   ]
  },
  {
   "cell_type": "markdown",
   "metadata": {},
   "source": [
    "`show_image` can also handle multiple images. Here we loop through the *images* folder, attach all images to a list, and pass that list of arrays to the functions - it will give a warning if more than 10 images are being opened at the same time. "
   ]
  },
  {
   "cell_type": "code",
   "execution_count": null,
   "metadata": {},
   "outputs": [],
   "source": [
    "import os\n",
    "images = [] # square-brakets make an empty list\n",
    "names = os.listdir(\"images\") # making a list of all the files names inside a directory\n",
    "\n",
    "for i in names: # looping along our list of names\n",
    "    filepath = os.path.join(\"images\", i) # joining name and path strings \n",
    "    images.append(pp.load_image(filepath)) # load images and store them in list\n",
    "\n",
    "pp.show_image(images, position_offset=100) ## show all images in the image folder in the tutorial directory"
   ]
  },
  {
   "cell_type": "markdown",
   "metadata": {},
   "source": [
    "The function has a few more options to arrange and separte images across the screen. Future version of phenopype will do this in more meaningful manner (e.g., arrange small images side by side until the screen is filled).  "
   ]
  },
  {
   "cell_type": "code",
   "execution_count": null,
   "metadata": {},
   "outputs": [],
   "source": [
    "pp.show_image(images, \n",
    "              max_dim=250,           # maximum dimension (in either direction) for the windows\n",
    "              check=False,           # don't issue warning if more than 10 images are opened\n",
    "              position_offset=50,    # window offset if multiple windows are displayed\n",
    "              position_reset=False)  # don't reset position of windows (i.e. window position will be remembered)"
   ]
  },
  {
   "cell_type": "markdown",
   "metadata": {},
   "source": [
    "## Creating masks\n",
    "\n",
    "Masking, i.e. removing unwanted parts of an image that contain noise by including or excluding certain parts of the image, is an important preprocessing step in any computer vision workflow. Phenopype's `create_mask` tool provides flexibility when drawing masks.   \n",
    "\n",
    "<center>\n",
    "<div style=\"width:500px; text-align: left\" >\n",
    "    \n",
    "![Create masks](_assets/masks1.gif)\n",
    "    \n",
    "**Fig. 1:** Phenopype's mask tool in action. You can include or exclude certain parts of the image; the resulting coordinates are recognized in subsequent computer vision steps (e.g. thresholding)\n",
    "    \n",
    "</div>\n",
    "</center>"
   ]
  },
  {
   "cell_type": "markdown",
   "metadata": {},
   "source": [
    "Using `create_mask` results in a DataFrame object that contains coordinates of the created mask. You can add multiple \"submasks\" that belong to the same mask layer that don't have to be connected. Finish with `Enter`."
   ]
  },
  {
   "cell_type": "code",
   "execution_count": 2,
   "metadata": {},
   "outputs": [
    {
     "name": "stdout",
     "output_type": "stream",
     "text": [
      "- creating mask\n"
     ]
    },
    {
     "data": {
      "text/html": [
       "<div>\n",
       "<style scoped>\n",
       "    .dataframe tbody tr th:only-of-type {\n",
       "        vertical-align: middle;\n",
       "    }\n",
       "\n",
       "    .dataframe tbody tr th {\n",
       "        vertical-align: top;\n",
       "    }\n",
       "\n",
       "    .dataframe thead th {\n",
       "        text-align: right;\n",
       "    }\n",
       "</style>\n",
       "<table border=\"1\" class=\"dataframe\">\n",
       "  <thead>\n",
       "    <tr style=\"text-align: right;\">\n",
       "      <th></th>\n",
       "      <th>filename</th>\n",
       "      <th>coords</th>\n",
       "      <th>include</th>\n",
       "      <th>mask</th>\n",
       "    </tr>\n",
       "  </thead>\n",
       "  <tbody>\n",
       "    <tr>\n",
       "      <th>0</th>\n",
       "      <td>unknown</td>\n",
       "      <td>[(262, 153), (1879, 153), (1879, 1347), (262, ...</td>\n",
       "      <td>1.0</td>\n",
       "      <td>tray</td>\n",
       "    </tr>\n",
       "  </tbody>\n",
       "</table>\n",
       "</div>"
      ],
      "text/plain": [
       "  filename                                             coords  include  mask\n",
       "0  unknown  [(262, 153), (1879, 153), (1879, 1347), (262, ...      1.0  tray"
      ]
     },
     "execution_count": 2,
     "metadata": {},
     "output_type": "execute_result"
    }
   ],
   "source": [
    "img = pp.load_image(os.path.join(\"images\",'isopods.jpg')) \n",
    "masks = pp.preprocessing.create_mask(img, label=\"tray\")\n",
    "masks"
   ]
  },
  {
   "cell_type": "markdown",
   "metadata": {},
   "source": [
    "The masks DataFrame can also be attached to an existing DataFrame, when provided via `df_image_data`, to concatenate information, e.g. to pass on the image file name. "
   ]
  },
  {
   "cell_type": "code",
   "execution_count": 9,
   "metadata": {},
   "outputs": [
    {
     "name": "stdout",
     "output_type": "stream",
     "text": [
      "- creating mask\n"
     ]
    },
    {
     "data": {
      "text/html": [
       "<div>\n",
       "<style scoped>\n",
       "    .dataframe tbody tr th:only-of-type {\n",
       "        vertical-align: middle;\n",
       "    }\n",
       "\n",
       "    .dataframe tbody tr th {\n",
       "        vertical-align: top;\n",
       "    }\n",
       "\n",
       "    .dataframe thead th {\n",
       "        text-align: right;\n",
       "    }\n",
       "</style>\n",
       "<table border=\"1\" class=\"dataframe\">\n",
       "  <thead>\n",
       "    <tr style=\"text-align: right;\">\n",
       "      <th></th>\n",
       "      <th>filename</th>\n",
       "      <th>width</th>\n",
       "      <th>height</th>\n",
       "      <th>coords</th>\n",
       "      <th>include</th>\n",
       "      <th>mask</th>\n",
       "    </tr>\n",
       "  </thead>\n",
       "  <tbody>\n",
       "    <tr>\n",
       "      <th>0</th>\n",
       "      <td>isopods.jpg</td>\n",
       "      <td>2100.0</td>\n",
       "      <td>1400.0</td>\n",
       "      <td>[(212, 174), (1917, 174), (1917, 1345), (212, ...</td>\n",
       "      <td>1.0</td>\n",
       "      <td>tray</td>\n",
       "    </tr>\n",
       "  </tbody>\n",
       "</table>\n",
       "</div>"
      ],
      "text/plain": [
       "      filename   width  height  \\\n",
       "0  isopods.jpg  2100.0  1400.0   \n",
       "\n",
       "                                              coords  include  mask  \n",
       "0  [(212, 174), (1917, 174), (1917, 1345), (212, ...      1.0  tray  "
      ]
     },
     "execution_count": 9,
     "metadata": {},
     "output_type": "execute_result"
    }
   ],
   "source": [
    "img, df = pp.load_image(os.path.join(\"images\",'isopods.jpg'), df=True) \n",
    "masks = pp.preprocessing.create_mask(img, label=\"tray\",df_image_data=df)\n",
    "masks"
   ]
  },
  {
   "cell_type": "markdown",
   "metadata": {},
   "source": [
    "Creating masks like this corresponds to the [prototyping workflow](tutorial_3_phenopype_workflow.ipynb#Prototyping-worflow), which requires an explicit call of `draw_masks` to visualize the mask that was just created. A \"canvas\" is created with the original image and the mask coordinates, which can then be shown using `show_image`:"
   ]
  },
  {
   "cell_type": "code",
   "execution_count": 10,
   "metadata": {},
   "outputs": [
    {
     "name": "stdout",
     "output_type": "stream",
     "text": [
      "drawing mask: tray\n"
     ]
    }
   ],
   "source": [
    "canvas = pp.visualization.draw_masks(img, \n",
    "                                     df_masks=masks, \n",
    "                                     label=True, \n",
    "                                     label_colour=\"black\", \n",
    "                                     label_size=3, \n",
    "                                     line_width=2,\n",
    "                                     label_width=4)    \n",
    "pp.show_image(canvas)"
   ]
  },
  {
   "cell_type": "markdown",
   "metadata": {},
   "source": [
    "Existing mask DataFrames can be updated if they are provided via `df_mask`. In this step, select the reference card to and set `include=False` to exclude it. We use the previously created canvas to know which areas have been masked already. Then we create and visualize a new canvas, which will draw both masks onto the original image. Note that the masks with `include=False` are drawn in red."
   ]
  },
  {
   "cell_type": "code",
   "execution_count": 12,
   "metadata": {},
   "outputs": [
    {
     "name": "stdout",
     "output_type": "stream",
     "text": [
      "- mask with label scale already created (edit/overwrite=False)\n",
      "drawing mask: tray\n",
      "drawing mask: scale\n"
     ]
    }
   ],
   "source": [
    "masks = pp.preprocessing.create_mask(canvas, \n",
    "                                     df_masks=masks, \n",
    "                                     label=\"scale\", \n",
    "                                     include=False # will be automatically drawn in red\n",
    "                                    )\n",
    "canvas = pp.visualization.draw_masks(img, \n",
    "                                     df_masks=masks, \n",
    "                                     label=True, \n",
    "                                     label_colour=\"black\", \n",
    "                                     label_size=3, \n",
    "                                     line_width=2,\n",
    "                                     label_width=4)    \n",
    "pp.show_image(canvas)"
   ]
  },
  {
   "cell_type": "markdown",
   "metadata": {},
   "source": [
    "If you need more flexibility while drawin a mask, try the `polygon` tool - single polygons are finished with `Ctrl`, finish with `Enter` - the last open polyon will automatically be completed."
   ]
  },
  {
   "cell_type": "code",
   "execution_count": 13,
   "metadata": {},
   "outputs": [
    {
     "name": "stdout",
     "output_type": "stream",
     "text": [
      "drawing mask: tray\n",
      "drawing mask: scale\n",
      "drawing mask: mask1\n"
     ]
    }
   ],
   "source": [
    "masks = pp.preprocessing.create_mask(img, df_masks=masks, tool=\"polygon\")\n",
    "canvas = pp.visualization.draw_masks(img, df_masks=masks)    \n",
    "pp.show_image(canvas)"
   ]
  },
  {
   "cell_type": "markdown",
   "metadata": {},
   "source": [
    "## Landmarks, lines, and drawings\n",
    "\n",
    "Functional morphology of organisms is often measured by placing landmarks at specific points that show structural, functional or developmental significance. In Phenopype, this is done using the `landmark` tool. \n",
    "\n",
    "<center>\n",
    "<div style=\"text-align: left\">\n",
    "    \n",
    "![Landmarks in high throughput](_assets/ex2_ht.gif)\n",
    "    \n",
    "**Fig. 2:** Phenopype's landmark tool (here called with the high throughput method). \n",
    "</div>\n",
    "</center>"
   ]
  },
  {
   "cell_type": "markdown",
   "metadata": {},
   "source": [
    "Load the image, and place landmarks. Finish with `Enter`."
   ]
  },
  {
   "cell_type": "code",
   "execution_count": null,
   "metadata": {},
   "outputs": [],
   "source": [
    "img = pp.load_image(os.path.join(\"images\",'stickle1.jpg')) \n",
    "df_lm = pp.measurement.landmarks(img)"
   ]
  },
  {
   "cell_type": "markdown",
   "metadata": {},
   "source": [
    "There are a few options to customize the landmarks ..."
   ]
  },
  {
   "cell_type": "code",
   "execution_count": null,
   "metadata": {},
   "outputs": [],
   "source": [
    "df_lm = pp.measurement.landmarks(img, \n",
    "                                 point_size=15, \n",
    "                                 point_colour=\"red\", \n",
    "                                 label_size=2,\n",
    "                                 label_width=3, \n",
    "                                 label_colour=\"blue\") "
   ]
  },
  {
   "cell_type": "markdown",
   "metadata": {},
   "source": [
    "... and, just like for the masks, we need to explicitly call a drawing function. These options can be different from the actual `landmark` function."
   ]
  },
  {
   "cell_type": "code",
   "execution_count": null,
   "metadata": {},
   "outputs": [],
   "source": [
    "canvas = pp.visualization.draw_landmarks(img, df_landmarks=df_lm,\n",
    "                                         point_size=15, \n",
    "                                         point_colour=\"green\", \n",
    "                                         label_size=2,\n",
    "                                         label_width=3, \n",
    "                                         label_colour=\"blue\")    \n",
    "pp.show_image(canvas)"
   ]
  },
  {
   "cell_type": "markdown",
   "metadata": {},
   "source": [
    "Similiar to the `polygon` tool in the `create_mask` function, one can use the `draw_polyline` tool to measure an object. Try to measure the length of the lateral area on the stickleback is plated. "
   ]
  },
  {
   "cell_type": "code",
   "execution_count": null,
   "metadata": {},
   "outputs": [],
   "source": [
    "df_lines = pp.measurement.polylines(img, \n",
    "                                 line_width=2, \n",
    "                                 line_colour=\"green\") \n",
    "canvas = pp.visualization.draw_polylines(canvas, df_polylines=df_lines,\n",
    "                                         line_width=2, \n",
    "                                         line_colour=\"green\")    \n",
    "pp.show_image(canvas)\n",
    "df_lines"
   ]
  },
  {
   "cell_type": "markdown",
   "metadata": {},
   "source": [
    "Similar to this function is the `draw` tool, which is useful to separate objects after binarization. Here, for example, use a combination of `create_mask` and `draw` to detect and separate connected stickleback plates: first draw a mask, then do the segmentation. The `draw` tool is used directly on the binary image, and always creates lines with two points (or rectangles when `tool=\"rectangle\"` is selected. Then find the contours, and show the result."
   ]
  },
  {
   "cell_type": "code",
   "execution_count": 14,
   "metadata": {},
   "outputs": [
    {
     "name": "stdout",
     "output_type": "stream",
     "text": [
      "- creating mask\n"
     ]
    }
   ],
   "source": [
    "image = pp.load_image(os.path.join(\"images\",'stickle1.jpg')) \n",
    "mask = pp.preprocessing.create_mask(image, tool=\"polygon\")"
   ]
  },
  {
   "cell_type": "code",
   "execution_count": 15,
   "metadata": {},
   "outputs": [
    {
     "name": "stdout",
     "output_type": "stream",
     "text": [
      "- including pixels from 1 drawn masks \n"
     ]
    }
   ],
   "source": [
    "image_bin = pp.segmentation.threshold(image, \n",
    "                                      method=\"adaptive\", \n",
    "                                      channel=\"red\",\n",
    "                                      blocksize=199, \n",
    "                                      constant=5,\n",
    "                                      df_masks=mask) \n",
    "image_morph = pp.segmentation.morphology(image_bin, \n",
    "                                         operation=\"open\", \n",
    "                                         shape=\"ellipse\",\n",
    "                                         kernel_size=3, \n",
    "                                         iterations=1)"
   ]
  },
  {
   "cell_type": "code",
   "execution_count": 18,
   "metadata": {},
   "outputs": [
    {
     "name": "stdout",
     "output_type": "stream",
     "text": [
      "- drawing\n"
     ]
    }
   ],
   "source": [
    "image_bin_draw, drawing_coords = pp.segmentation.draw(image_morph)"
   ]
  },
  {
   "cell_type": "code",
   "execution_count": 19,
   "metadata": {},
   "outputs": [
    {
     "name": "stdout",
     "output_type": "stream",
     "text": [
      "- found 11 contours that match criteria\n"
     ]
    }
   ],
   "source": [
    "contours = pp.segmentation.find_contours(image_bin_draw,  retrieval=\"ext\", min_area=150)\n",
    "image_drawn = pp.visualization.draw_contours(image, df_contours=contours) \n",
    "pp.show_image(image_drawn)"
   ]
  },
  {
   "cell_type": "markdown",
   "metadata": {},
   "source": [
    "## Data entry\n",
    "\n",
    "When phenopype windows are openened they can also receive text input, for example, to type in data that is visible inside the image: often, the picture name contains the ID, but typically an label is placed inside the image. Using the `enter_data` tool we open the image and an entry prompt that will create a column with a name of our chosing inside all exported results."
   ]
  },
  {
   "cell_type": "code",
   "execution_count": 20,
   "metadata": {},
   "outputs": [],
   "source": [
    "image, df_img_data = pp.load_image(os.path.join(\"images\",'stickle1.jpg'), df=True) "
   ]
  },
  {
   "cell_type": "code",
   "execution_count": 21,
   "metadata": {},
   "outputs": [
    {
     "name": "stdout",
     "output_type": "stream",
     "text": [
      "- add column ID\n"
     ]
    }
   ],
   "source": [
    "df_img_data = pp.preprocessing.enter_data(image, df_img_data, columns=\"ID\")"
   ]
  },
  {
   "cell_type": "code",
   "execution_count": 22,
   "metadata": {},
   "outputs": [
    {
     "data": {
      "text/html": [
       "<div>\n",
       "<style scoped>\n",
       "    .dataframe tbody tr th:only-of-type {\n",
       "        vertical-align: middle;\n",
       "    }\n",
       "\n",
       "    .dataframe tbody tr th {\n",
       "        vertical-align: top;\n",
       "    }\n",
       "\n",
       "    .dataframe thead th {\n",
       "        text-align: right;\n",
       "    }\n",
       "</style>\n",
       "<table border=\"1\" class=\"dataframe\">\n",
       "  <thead>\n",
       "    <tr style=\"text-align: right;\">\n",
       "      <th></th>\n",
       "      <th>filename</th>\n",
       "      <th>width</th>\n",
       "      <th>height</th>\n",
       "      <th>ID</th>\n",
       "    </tr>\n",
       "  </thead>\n",
       "  <tbody>\n",
       "    <tr>\n",
       "      <th>0</th>\n",
       "      <td>stickle1.jpg</td>\n",
       "      <td>2400</td>\n",
       "      <td>1600</td>\n",
       "      <td>142501</td>\n",
       "    </tr>\n",
       "  </tbody>\n",
       "</table>\n",
       "</div>"
      ],
      "text/plain": [
       "       filename  width  height      ID\n",
       "0  stickle1.jpg   2400    1600  142501"
      ]
     },
     "execution_count": 22,
     "metadata": {},
     "output_type": "execute_result"
    }
   ],
   "source": [
    "df_img_data"
   ]
  }
 ],
 "metadata": {
  "kernelspec": {
   "display_name": "Python 3",
   "language": "python",
   "name": "python3"
  },
  "language_info": {
   "codemirror_mode": {
    "name": "ipython",
    "version": 3
   },
   "file_extension": ".py",
   "mimetype": "text/x-python",
   "name": "python",
   "nbconvert_exporter": "python",
   "pygments_lexer": "ipython3",
   "version": "3.7.9"
  }
 },
 "nbformat": 4,
 "nbformat_minor": 4
}
