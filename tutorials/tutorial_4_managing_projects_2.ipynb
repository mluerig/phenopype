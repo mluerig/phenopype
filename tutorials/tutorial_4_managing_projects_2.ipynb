{
 "cells": [
  {
   "cell_type": "markdown",
   "metadata": {},
   "source": [
    "# Tutorial 4:  Project wide actions  (e.g. size and colour reference)\n",
    "\n",
    "Unless images are taken in a highly standardized environment, e.g. via a scanner or a microscope, variation will be introduced in terms of exposure or distance between camera and photographed object, zooming, etc. To compensate this variation among images within and across datasets, Phenopype contains some preprocessing tools that can automatically correct images.  "
   ]
  },
  {
   "cell_type": "markdown",
   "metadata": {},
   "source": [
    "## Load project\n",
    "\n",
    "First we load the project we created in the last tutorial. If we haven't done so, we should create a project: "
   ]
  },
  {
   "cell_type": "code",
   "execution_count": 1,
   "metadata": {},
   "outputs": [],
   "source": [
    "import phenopype as pp\n",
    "import os\n",
    "\n",
    "# os.chdir(r\"/phenopype-master/tutorials\")\n",
    "\n",
    "proj_dir = r\"../_temp/my_project/phenopype\"\n",
    "\n"
   ]
  },
  {
   "cell_type": "code",
   "execution_count": 2,
   "metadata": {},
   "outputs": [
    {
     "name": "stdout",
     "output_type": "stream",
     "text": [
      "--------------------------------------------\n",
      "Project loaded and current working directory changed to\n",
      "\n",
      "E:\\git_repos\\phenopype\\_temp\\my_project\\phenopype\n",
      "--------------------------------------------\n"
     ]
    }
   ],
   "source": [
    "if os.path.isdir(proj_dir):\n",
    "    myproj = pp.project.load(proj_dir)     ## from /phenopype-master/tutorials\n",
    "else:\n",
    "    images = \"../../../tutorials/images\"\n",
    "    myproj = pp.project(root_dir=proj_dir) \n",
    "    myproj.add_files(image_dir=images,\n",
    "                 include=\"stickle\",\n",
    "                 exclude=[\"side\",\"top\"]) \n",
    "    myproj.add_config(name = \"lm\", \n",
    "                      config_preset=\"landmarks_plain\")\n",
    "    pp.project.save(myproj, overwrite=True)"
   ]
  },
  {
   "cell_type": "markdown",
   "metadata": {},
   "source": [
    "## Create reference template"
   ]
  },
  {
   "cell_type": "markdown",
   "metadata": {},
   "source": [
    "The reference image can be any image, but choose it carefully: if you plan on doing brightness and colour corrections, it should be in the middle of the distribution of all exposures and colours so corrections will not over-expose or over-saturate the images. \n",
    "\n",
    "We will use the image `stickleback_side.jpg` from the `image` folder in `tutorials`:"
   ]
  },
  {
   "cell_type": "code",
   "execution_count": 3,
   "metadata": {},
   "outputs": [
    {
     "data": {
      "text/plain": [
       "['isopods.jpg',\n",
       " 'isopods_fish.mp4',\n",
       " 'phytoplankton.jpg',\n",
       " 'snail.jpg',\n",
       " 'stickle1.JPG',\n",
       " 'stickle2.JPG',\n",
       " 'stickle3.JPG',\n",
       " 'stickleback_side.jpg',\n",
       " 'stickleback_top.jpg',\n",
       " 'worms.jpg']"
      ]
     },
     "execution_count": 3,
     "metadata": {},
     "output_type": "execute_result"
    }
   ],
   "source": [
    "images = \"../../../tutorials/images\"\n",
    "os.listdir(images)"
   ]
  },
  {
   "cell_type": "markdown",
   "metadata": {},
   "source": [
    "Within a project, the reference image is set with the `add_scale` method of the project object:\n",
    "1. click on two points inside the provided image\n",
    "2. enter the distance (returns the pixel-to-mm-ratio)\n",
    "3. drag a rectangle mask over the reference card \n",
    "\n",
    "The pixel-to-mm-ratio for reference image gets saved to every image included in the project, the mask is stored as a template for automatic scale detection with the `find_scale` function. "
   ]
  },
  {
   "cell_type": "code",
   "execution_count": 5,
   "metadata": {},
   "outputs": [
    {
     "name": "stdout",
     "output_type": "stream",
     "text": [
      "- scale template saved under scale_template.jpg (overwritten).\n",
      "- measure pixel-to-mm-ratio\n",
      "Scale set\n",
      "- add column length\n",
      "Template selected\n",
      "- scale pixel-to-mm-ratio already measured (overwrite=False)\n",
      "added scale information to 0__stickle1 (overwritten)\n",
      "added scale information to 0__stickle2 (overwritten)\n",
      "added scale information to 0__stickle3 (overwritten)\n"
     ]
    }
   ],
   "source": [
    "myproj.add_scale(reference_image=\"../../../tutorials/images/stickleback_side.jpg\", overwrite=True)"
   ]
  },
  {
   "cell_type": "markdown",
   "metadata": {},
   "source": [
    "If we now load the first image in the phenopype directory folders (`(myproj.dirpaths[0]`), we retrieve the scale information we just collected:"
   ]
  },
  {
   "cell_type": "code",
   "execution_count": 6,
   "metadata": {},
   "outputs": [
    {
     "data": {
      "text/html": [
       "<div>\n",
       "<style scoped>\n",
       "    .dataframe tbody tr th:only-of-type {\n",
       "        vertical-align: middle;\n",
       "    }\n",
       "\n",
       "    .dataframe tbody tr th {\n",
       "        vertical-align: top;\n",
       "    }\n",
       "\n",
       "    .dataframe thead th {\n",
       "        text-align: right;\n",
       "    }\n",
       "</style>\n",
       "<table border=\"1\" class=\"dataframe\">\n",
       "  <thead>\n",
       "    <tr style=\"text-align: right;\">\n",
       "      <th></th>\n",
       "      <th>filename</th>\n",
       "      <th>width</th>\n",
       "      <th>height</th>\n",
       "      <th>size_ratio_original</th>\n",
       "      <th>template_px_mm_ratio</th>\n",
       "    </tr>\n",
       "  </thead>\n",
       "  <tbody>\n",
       "    <tr>\n",
       "      <th>0</th>\n",
       "      <td>stickle1.JPG</td>\n",
       "      <td>2400</td>\n",
       "      <td>1600</td>\n",
       "      <td>1</td>\n",
       "      <td>35</td>\n",
       "    </tr>\n",
       "  </tbody>\n",
       "</table>\n",
       "</div>"
      ],
      "text/plain": [
       "       filename  width  height  size_ratio_original  template_px_mm_ratio\n",
       "0  stickle1.JPG   2400    1600                    1                    35"
      ]
     },
     "execution_count": 6,
     "metadata": {},
     "output_type": "execute_result"
    }
   ],
   "source": [
    "image, df_img_data = pp.load_directory(myproj.dirpaths[0],  # first directory in project folder\n",
    "                                       df=True,             # return DataFrame\n",
    "                                       cont=False)          # return as image, not as container (default)\n",
    "df_img_data\n"
   ]
  },
  {
   "cell_type": "markdown",
   "metadata": {},
   "source": [
    "We then supply the image, the DataFrame containing `template_px_mm_ratio`, and the scale template to the `find_scale` function. The template mask is always stored in the root directory, which made the current Python working directory when a project is created or loaded. The function will return the updated image meta DataFrame, a mask dataframe containing the coordinates of the detected reference card, and the original image. "
   ]
  },
  {
   "cell_type": "code",
   "execution_count": 7,
   "metadata": {},
   "outputs": [
    {
     "name": "stdout",
     "output_type": "stream",
     "text": [
      "---------------------------------------------------\n",
      "Reference card found with 243 keypoint matches:\n",
      "template image has 0    35\n",
      "Name: template_px_mm_ratio, dtype: int64 pixel per mm.\n",
      "current image has 0    33.8\n",
      "Name: template_px_mm_ratio, dtype: float64 pixel per mm.\n",
      "= 96.71 % of template image.\n",
      "---------------------------------------------------\n"
     ]
    },
    {
     "data": {
      "text/html": [
       "<div>\n",
       "<style scoped>\n",
       "    .dataframe tbody tr th:only-of-type {\n",
       "        vertical-align: middle;\n",
       "    }\n",
       "\n",
       "    .dataframe tbody tr th {\n",
       "        vertical-align: top;\n",
       "    }\n",
       "\n",
       "    .dataframe thead th {\n",
       "        text-align: right;\n",
       "    }\n",
       "</style>\n",
       "<table border=\"1\" class=\"dataframe\">\n",
       "  <thead>\n",
       "    <tr style=\"text-align: right;\">\n",
       "      <th></th>\n",
       "      <th>filename</th>\n",
       "      <th>width</th>\n",
       "      <th>height</th>\n",
       "      <th>size_ratio_original</th>\n",
       "      <th>template_px_mm_ratio</th>\n",
       "      <th>current_px_mm_ratio</th>\n",
       "    </tr>\n",
       "  </thead>\n",
       "  <tbody>\n",
       "    <tr>\n",
       "      <th>0</th>\n",
       "      <td>stickle1.JPG</td>\n",
       "      <td>2400</td>\n",
       "      <td>1600</td>\n",
       "      <td>1</td>\n",
       "      <td>35</td>\n",
       "      <td>33.8</td>\n",
       "    </tr>\n",
       "  </tbody>\n",
       "</table>\n",
       "</div>"
      ],
      "text/plain": [
       "       filename  width  height  size_ratio_original  template_px_mm_ratio  \\\n",
       "0  stickle1.JPG   2400    1600                    1                    35   \n",
       "\n",
       "   current_px_mm_ratio  \n",
       "0                 33.8  "
      ]
     },
     "execution_count": 7,
     "metadata": {},
     "output_type": "execute_result"
    }
   ],
   "source": [
    "templ = pp.load_image(\"scale_template.jpg\")\n",
    "df_image_data, masks, image = pp.preprocessing.find_scale(image, \n",
    "                                                          template=templ, \n",
    "                                                          df_image_data = df_img_data)\n",
    "df_image_data"
   ]
  },
  {
   "cell_type": "code",
   "execution_count": 8,
   "metadata": {},
   "outputs": [
    {
     "name": "stdout",
     "output_type": "stream",
     "text": [
      " - show mask: scale.\n"
     ]
    }
   ],
   "source": [
    "image = pp.visualization.draw_masks(image, df_masks=masks)\n",
    "pp.show_image(image)"
   ]
  },
  {
   "cell_type": "markdown",
   "metadata": {},
   "source": [
    "If the scale contains colour information, you can also set the `equalize=True` flag. This will adjust the target image's pixel-value-histogram (https://en.wikipedia.org/wiki/Image_histogram) to the histogram of the scale in the reference image, **based on the values only inside the detected scale**.  "
   ]
  },
  {
   "cell_type": "code",
   "execution_count": 9,
   "metadata": {},
   "outputs": [
    {
     "name": "stdout",
     "output_type": "stream",
     "text": [
      "---------------------------------------------------\n",
      "Reference card found with 239 keypoint matches:\n",
      "template image has 0    35\n",
      "Name: template_px_mm_ratio, dtype: int64 pixel per mm.\n",
      "current image has 0    33.9\n",
      "Name: template_px_mm_ratio, dtype: float64 pixel per mm.\n",
      "= 96.764 % of template image.\n",
      "---------------------------------------------------\n",
      "histograms equalized\n"
     ]
    }
   ],
   "source": [
    "df_image_data, masks, image = pp.preprocessing.find_scale(image, \n",
    "                                                          template=templ, \n",
    "                                                          df_image_data = df_img_data,\n",
    "                                                          equalize=True)\n",
    "pp.show_image(image)"
   ]
  },
  {
   "cell_type": "markdown",
   "metadata": {},
   "source": [
    "## Find scale in high throughput workflow\n",
    "\n",
    "These operations are of course also possible in the fly as part of the high throughput workflow. For this we just add a new configuration file that contains the `find_scale` instruction. However, we need to switch to interactive configuration mode, and add the `equalize: true` string: "
   ]
  },
  {
   "cell_type": "code",
   "execution_count": 1,
   "metadata": {},
   "outputs": [
    {
     "ename": "NameError",
     "evalue": "name 'myproj' is not defined",
     "output_type": "error",
     "traceback": [
      "\u001b[1;31m---------------------------------------------------------------------------\u001b[0m",
      "\u001b[1;31mNameError\u001b[0m                                 Traceback (most recent call last)",
      "\u001b[1;32m<ipython-input-1-fd67495ea407>\u001b[0m in \u001b[0;36m<module>\u001b[1;34m\u001b[0m\n\u001b[1;32m----> 1\u001b[1;33m myproj.add_config(name = \"lm2\", \n\u001b[0m\u001b[0;32m      2\u001b[0m                   \u001b[0mconfig_preset\u001b[0m\u001b[1;33m=\u001b[0m\u001b[1;34m\"landmarks_scale\"\u001b[0m\u001b[1;33m,\u001b[0m\u001b[1;33m\u001b[0m\u001b[1;33m\u001b[0m\u001b[0m\n\u001b[0;32m      3\u001b[0m                   \u001b[0moverwrite\u001b[0m\u001b[1;33m=\u001b[0m\u001b[1;32mTrue\u001b[0m\u001b[1;33m,\u001b[0m\u001b[1;33m\u001b[0m\u001b[1;33m\u001b[0m\u001b[0m\n\u001b[0;32m      4\u001b[0m                   interactive=True)\n",
      "\u001b[1;31mNameError\u001b[0m: name 'myproj' is not defined"
     ]
    }
   ],
   "source": [
    "myproj.add_config(name = \"lm2\", \n",
    "                  config_preset=\"landmarks_scale\", \n",
    "                  overwrite=True,\n",
    "                  interactive=True)"
   ]
  },
  {
   "cell_type": "code",
   "execution_count": 2,
   "metadata": {},
   "outputs": [
    {
     "ename": "NameError",
     "evalue": "name 'myproj' is not defined",
     "output_type": "error",
     "traceback": [
      "\u001b[1;31m---------------------------------------------------------------------------\u001b[0m",
      "\u001b[1;31mNameError\u001b[0m                                 Traceback (most recent call last)",
      "\u001b[1;32m<ipython-input-2-21834d2215b4>\u001b[0m in \u001b[0;36m<module>\u001b[1;34m\u001b[0m\n\u001b[1;32m----> 1\u001b[1;33m \u001b[1;32mfor\u001b[0m \u001b[0mdirectory\u001b[0m \u001b[1;32min\u001b[0m \u001b[0mmyproj\u001b[0m\u001b[1;33m.\u001b[0m\u001b[0mdirpaths\u001b[0m\u001b[1;33m:\u001b[0m\u001b[1;33m\u001b[0m\u001b[1;33m\u001b[0m\u001b[0m\n\u001b[0m\u001b[0;32m      2\u001b[0m     p1 = pp.pype(directory, \n\u001b[0;32m      3\u001b[0m            name=\"lm2\")\n",
      "\u001b[1;31mNameError\u001b[0m: name 'myproj' is not defined"
     ]
    }
   ],
   "source": [
    "for directory in myproj.dirpaths:\n",
    "    p1 = pp.pype(directory, \n",
    "           name=\"lm2\")"
   ]
  },
  {
   "cell_type": "markdown",
   "metadata": {},
   "source": [
    "## Collect results\n",
    "\n",
    "Using `collect_results` one can search the project folder for results, and copy them to a folder in the root directory (\"results\" is the default, but can be changed). "
   ]
  },
  {
   "cell_type": "code",
   "execution_count": null,
   "metadata": {},
   "outputs": [],
   "source": [
    "myproj.collect_results(name=\"lm2\",          # these two arguments create the search string for \"landmarks_lm2.csv\"\n",
    "                       files=[\"landmarks\"], # \n",
    "                       overwrite=True)"
   ]
  }
 ],
 "metadata": {
  "kernelspec": {
   "display_name": "Python 3",
   "language": "python",
   "name": "python3"
  },
  "language_info": {
   "codemirror_mode": {
    "name": "ipython",
    "version": 3
   },
   "file_extension": ".py",
   "mimetype": "text/x-python",
   "name": "python",
   "nbconvert_exporter": "python",
   "pygments_lexer": "ipython3",
   "version": "3.7.6"
  }
 },
 "nbformat": 4,
 "nbformat_minor": 2
}
