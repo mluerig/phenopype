{
 "cells": [
  {
   "cell_type": "markdown",
   "metadata": {},
   "source": [
    "# Example 5: Stickleback morphometrics - body and armor-plate shape\n",
    "\n",
    "Variation in continuous phenotypic traits like shape or area of certain structures are difficult to quantify with landmarks, because they are too complex or have no underlying assumption of homology. In this example, the number and area of armor plating was measured as a continuous trait in a two-step process: first, a mask was set around the posterior region that contains the plates, second, the red channel (highest signal-to-noise-ratio) of the image was thresholded. "
   ]
  },
  {
   "cell_type": "markdown",
   "metadata": {},
   "source": [
    "In this example we use the `watershed` algorithm, which helps to separate detected objects into \"peaks of wanted information\" and \"valleys of unwanted information\". The principle is explained here: https://docs.opencv.org/master/d3/db4/tutorial_py_watershed.html "
   ]
  },
  {
   "cell_type": "markdown",
   "metadata": {},
   "source": [
    "<div class=\"row; text-align: left\">\n",
    "    \n",
    "<div class=\"col-md-6\">\n",
    "    \n",
    "![Before](_assets/ex5_before.jpg)\n",
    "    \n",
    "**Input** - Stained threespine stickleback. The size of plates at a given plate index varies within at between ecotypes (e.g. lake and stream morphs)  \n",
    "</div>\n",
    "<div class=\"col-md-6\">\n",
    "\n",
    "![After](_assets/ex5_after.jpg)\n",
    "    \n",
    "**Results** - After applying adaptive thresholding and watershed algorithms, the plates separate. Where this is not the case they can be separated manually.\n",
    "</div>\n",
    "</div>"
   ]
  },
  {
   "cell_type": "markdown",
   "metadata": {},
   "source": [
    "## High throughput workflow\n",
    "\n",
    "First we need to create a project, as described in [Tutorial 3](tutorial_3_managing_projects_1.ipynb) and [Tutorial 4](tutorial_4_managing_projects_2.ipynb). \n",
    "\n",
    "**Note:** If you have already created a project you can skip the following steps and load the project with `pp.project.load(\"path/to/project\")`."
   ]
  },
  {
   "cell_type": "code",
   "execution_count": 1,
   "metadata": {},
   "outputs": [],
   "source": [
    "import phenopype as pp\n",
    "\n",
    "## relative from phenopype-master/tutorials\n",
    "project_root = r\"../_temp/output/ex5_project\"\n",
    "image_dir = \"images\"\n",
    "reference_image = \"images/stickleback_side.jpg\""
   ]
  },
  {
   "cell_type": "markdown",
   "metadata": {},
   "source": [
    "### Create project"
   ]
  },
  {
   "cell_type": "code",
   "execution_count": 4,
   "metadata": {},
   "outputs": [
    {
     "name": "stdout",
     "output_type": "stream",
     "text": [
      "--------------------------------------------\n",
      "Phenopype will create a new project at\n",
      "E:\\git_repos\\phenopype\\_temp\\output\\ex5_project\n",
      "\n",
      "Proceed? (y/n)\n",
      "y\n",
      "\n",
      "project attributes written to E:\\git_repos\\phenopype\\_temp\\output\\ex5_project\\attributes.yaml\n",
      "--------------------------------------------\n"
     ]
    }
   ],
   "source": [
    "ex5 = pp.project(root_dir=project_root)"
   ]
  },
  {
   "cell_type": "markdown",
   "metadata": {},
   "source": [
    "This will create a folder structure and allows for easy creation of the `pype`-configuration files needed for high throughput. First we add the image files in the directory, but only \"stickle1\", \"stickle2\", and \"stickle3\". "
   ]
  },
  {
   "cell_type": "code",
   "execution_count": 6,
   "metadata": {},
   "outputs": [
    {
     "name": "stdout",
     "output_type": "stream",
     "text": [
      "--------------------------------------------\n",
      "phenopype will search for files at\n",
      "\n",
      "E:\\git_repos\\phenopype\\tutorials\\images\n",
      "\n",
      "using the following settings:\n",
      "\n",
      "filetypes: ['jpg', 'JPG', 'jpeg', 'JPEG', 'tif', 'png'], include: stickle, exclude: ['side', 'top'], raw_mode: copy, search_mode: dir, unique_mode: path\n",
      "\n",
      "Found image stickle1.JPG - phenopype-project folder 0__stickle1 created\n",
      "dirpath defaulted to file directory - E:\\git_repos\\phenopype\\tutorials\\images\n",
      "Directory to save files set at - E:\\git_repos\\phenopype\\tutorials\\images\n",
      "no meta-data found\n",
      "Found image stickle2.JPG - phenopype-project folder 0__stickle2 created\n",
      "dirpath defaulted to file directory - E:\\git_repos\\phenopype\\tutorials\\images\n",
      "Directory to save files set at - E:\\git_repos\\phenopype\\tutorials\\images\n",
      "no meta-data found\n",
      "Found image stickle3.JPG - phenopype-project folder 0__stickle3 created\n",
      "dirpath defaulted to file directory - E:\\git_repos\\phenopype\\tutorials\\images\n",
      "Directory to save files set at - E:\\git_repos\\phenopype\\tutorials\\images\n",
      "no meta-data found\n",
      "\n",
      "Found 3 files\n",
      "--------------------------------------------\n"
     ]
    }
   ],
   "source": [
    "ex5.add_files(image_dir=image_dir, include=\"stickle\", exclude=[\"side\",\"top\"])"
   ]
  },
  {
   "cell_type": "markdown",
   "metadata": {},
   "source": [
    "Now we add the appropriate configuration file. As for the other examples I have created a preset (\"ex5\") with appropriate settings, which is passed to the pype using `config_preset=\"ex5\"`."
   ]
  },
  {
   "cell_type": "code",
   "execution_count": 7,
   "metadata": {},
   "outputs": [
    {
     "name": "stdout",
     "output_type": "stream",
     "text": [
      "pype config generated from ex5.\n",
      "pype_v1.yaml created for 0__stickle1\n",
      "pype_v1.yaml created for 0__stickle2\n",
      "pype_v1.yaml created for 0__stickle3\n",
      "\n",
      "preprocessing:\n",
      "- create_mask:\n",
      "    tool: polygon\n",
      "- find_scale\n",
      "- enter_data:\n",
      "    columns: ID\n",
      "segmentation:\n",
      "- blur:\n",
      "    kernel_size: 9\n",
      "- threshold:\n",
      "    method: adaptive\n",
      "    blocksize: 99\n",
      "    constant: 3\n",
      "    channel: red\n",
      "- morphology:\n",
      "    operation: close\n",
      "    shape: ellipse\n",
      "    kernel_size: 3\n",
      "    iterations: 3\n",
      "- watershed:\n",
      "    distance_cutoff: 0.8\n",
      "# - draw:\n",
      "    # line_colour: white\n",
      "    # overwrite: True\n",
      "- find_contours:\n",
      "    retrieval: ccomp\n",
      "    min_area: 100\n",
      "measurement:\n",
      "visualization:\n",
      "- select_canvas:\n",
      "    canvas: red\n",
      "- draw_contours:\n",
      "    line_width: 2\n",
      "    label_width: 0\n",
      "    label_size: 1\n",
      "    fill: 0.3\n",
      "- draw_masks\n",
      "export:\n",
      "- save_contours:\n",
      "    overwrite: true\n",
      "\n"
     ]
    }
   ],
   "source": [
    "ex5.add_config(name = \"v1\", config_preset=\"ex5\")\n",
    "print(pp.presets.ex5)"
   ]
  },
  {
   "cell_type": "markdown",
   "metadata": {},
   "source": [
    "Now we add reference image to create a scale-template so we can adjust our landmark coordinate space. This is important if for example the distance between the camera and your sample changes.  \n",
    "\n",
    "<center>\n",
    "<div style=\"width:500px; text-align: left\">\n",
    "    \n",
    "![Adding a scale](_assets/ex2_scale.gif)\n",
    "    \n",
    "</div>\n",
    "</center>"
   ]
  },
  {
   "cell_type": "code",
   "execution_count": 9,
   "metadata": {},
   "outputs": [
    {
     "name": "stdout",
     "output_type": "stream",
     "text": [
      "- scale template saved under E:\\git_repos\\phenopype\\_temp\\output\\ex5_project\\scale_template.jpg.\n",
      "- measure pixel-to-mm-ratio\n",
      "Scale set\n",
      "- add column length\n",
      "Template selected\n",
      "added scale information to 0__stickle1\n",
      "added scale information to 0__stickle2\n",
      "added scale information to 0__stickle3\n"
     ]
    }
   ],
   "source": [
    "ex5.add_scale(reference_image = reference_image, overwrite=True)"
   ]
  },
  {
   "cell_type": "markdown",
   "metadata": {},
   "source": [
    "Afterwards, we save the project (to the root folder). "
   ]
  },
  {
   "cell_type": "code",
   "execution_count": 10,
   "metadata": {},
   "outputs": [
    {
     "name": "stdout",
     "output_type": "stream",
     "text": [
      "Project data saved under E:\\git_repos\\phenopype\\_temp\\output\\ex5_project\\project.data.\n"
     ]
    }
   ],
   "source": [
    "pp.project.save(ex5)"
   ]
  },
  {
   "cell_type": "markdown",
   "metadata": {},
   "source": [
    "### Load project"
   ]
  },
  {
   "cell_type": "code",
   "execution_count": 11,
   "metadata": {},
   "outputs": [
    {
     "name": "stdout",
     "output_type": "stream",
     "text": [
      "--------------------------------------------\n",
      "Project loaded from \n",
      "E:\\git_repos\\phenopype\\_temp\\output\\ex5_project\n",
      "--------------------------------------------\n"
     ]
    }
   ],
   "source": [
    "ex5 = pp.project.load(project_root)"
   ]
  },
  {
   "cell_type": "markdown",
   "metadata": {},
   "source": [
    "### The template\n",
    "The basic points of the preprocessing procedure are:\n",
    "\n",
    "1. Draw a mask around the area of interest (i.e. the plates)\n",
    "2. Let the algorithm find the scale\n",
    "3. Enter the ID from the reference card into the mask\n",
    "\n",
    "<center>\n",
    "<div style=\"width:500px; text-align: left\" >\n",
    "    \n",
    "![Create masks](_assets/masks2.gif)\n",
    "    \n",
    "</div>\n",
    "</center>\n",
    "\n",
    "The rest is automatic: a watershed algorithm helps to separate the plates. Sensitivity of the algorithm can be mostly controlled with the `distance_cutoff` argument, but also playing around with the thresholding arguments (`blocksize` and `constant`) can help to improve results. \n",
    "\n",
    "Sometimes the overall results are goog except for one or two cases of plates that touch each other. In this case, the `draw` function can be used to separate those plates without changing the whole procedure. "
   ]
  },
  {
   "cell_type": "markdown",
   "metadata": {},
   "source": [
    "Now we can run the `pype` routine with a simple loop on `ex5.dirpaths`, which is a list of all project directories that contain the copied raw images and the config files we generated before. Interrupt the loop with Esc. To resume to the point where you left, add the `skip` argument so directory with processed files are not run again."
   ]
  },
  {
   "cell_type": "code",
   "execution_count": 12,
   "metadata": {},
   "outputs": [
    {
     "name": "stdout",
     "output_type": "stream",
     "text": [
      "E:\\git_repos\\phenopype\\_temp\\output\\ex5_project\\data\\0__stickle1\\pype_config_v1.yaml\n",
      "\n",
      "\n",
      "------------+++ new pype iteration 2020:05:18 19:34:15 +++--------------\n",
      "\n",
      "\n",
      "AUTOLOAD\n",
      "- template scale information loaded from attributes.yaml\n",
      "- template loaded from root directory\n",
      "PREPROCESSING\n",
      "create_mask\n",
      "- create mask\n",
      "find_scale\n",
      "---------------------------------------------------\n",
      "Reference card found with 241 keypoint matches:\n",
      "template image has 36 pixel per mm.\n",
      "current image has 34.8 pixel per mm.\n",
      "= 96.782 % of template image.\n",
      "---------------------------------------------------\n",
      "enter_data\n",
      "- add column ID\n",
      "SEGMENTATION\n",
      "blur\n",
      "threshold\n",
      "- include mask \"mask1\" pixels\n",
      "- exclude mask \"scale\" pixels\n",
      "morphology\n",
      "watershed\n",
      "find_contours\n",
      "VISUALIZATION\n",
      "select_canvas\n",
      "- red channel\n",
      "draw_contours\n",
      "draw_masks\n",
      " - show mask: mask1.\n",
      " - show mask: scale.\n",
      "EXPORT\n",
      "save_contours\n",
      "- contours saved under E:\\git_repos\\phenopype\\_temp\\output\\ex5_project\\data\\0__stickle1\\contours_v1.csv.\n",
      "AUTOSAVE\n",
      "save_canvas\n",
      "- canvas saved under E:\\git_repos\\phenopype\\_temp\\output\\ex5_project\\data\\0__stickle1\\canvas_v1.jpg.\n",
      "save_data_entry\n",
      "- add column ID\n",
      "save_masks\n",
      "- masks saved under E:\\git_repos\\phenopype\\_temp\\output\\ex5_project\\data\\0__stickle1\\masks_v1.csv.\n",
      "save_scale\n",
      "- save scale to attributes\n",
      "\n",
      "\n",
      "TERMINATE\n",
      "E:\\git_repos\\phenopype\\_temp\\output\\ex5_project\\data\\0__stickle2\\pype_config_v1.yaml\n",
      "\n",
      "\n",
      "------------+++ new pype iteration 2020:05:18 19:34:30 +++--------------\n",
      "\n",
      "\n",
      "AUTOLOAD\n",
      "- template scale information loaded from attributes.yaml\n",
      "- template loaded from root directory\n",
      "PREPROCESSING\n",
      "create_mask\n",
      "- create mask\n"
     ]
    },
    {
     "ename": "SystemExit",
     "evalue": "\n\nTERMINATE (by user)",
     "output_type": "error",
     "traceback": [
      "An exception has occurred, use %tb to see the full traceback.\n",
      "\u001b[1;31mSystemExit\u001b[0m\u001b[1;31m:\u001b[0m \n\nTERMINATE (by user)\n"
     ]
    },
    {
     "name": "stderr",
     "output_type": "stream",
     "text": [
      "WARNING: To exit: use 'exit', 'quit', or Ctrl-D.\n"
     ]
    }
   ],
   "source": [
    "for dirpath in ex5.dirpaths:\n",
    "    out = pp.pype(dirpath, name=\"v1\", skip=True) "
   ]
  },
  {
   "cell_type": "code",
   "execution_count": 13,
   "metadata": {},
   "outputs": [
    {
     "data": {
      "text/html": [
       "<div>\n",
       "<style scoped>\n",
       "    .dataframe tbody tr th:only-of-type {\n",
       "        vertical-align: middle;\n",
       "    }\n",
       "\n",
       "    .dataframe tbody tr th {\n",
       "        vertical-align: top;\n",
       "    }\n",
       "\n",
       "    .dataframe thead th {\n",
       "        text-align: right;\n",
       "    }\n",
       "</style>\n",
       "<table border=\"1\" class=\"dataframe\">\n",
       "  <thead>\n",
       "    <tr style=\"text-align: right;\">\n",
       "      <th></th>\n",
       "      <th>filename</th>\n",
       "      <th>width</th>\n",
       "      <th>height</th>\n",
       "      <th>size_ratio_original</th>\n",
       "      <th>template_px_mm_ratio</th>\n",
       "      <th>current_px_mm_ratio</th>\n",
       "      <th>ID</th>\n",
       "      <th>contour</th>\n",
       "      <th>center</th>\n",
       "      <th>diameter</th>\n",
       "      <th>area</th>\n",
       "    </tr>\n",
       "  </thead>\n",
       "  <tbody>\n",
       "    <tr>\n",
       "      <th>0</th>\n",
       "      <td>stickle1.JPG</td>\n",
       "      <td>2400</td>\n",
       "      <td>1600</td>\n",
       "      <td>1</td>\n",
       "      <td>36</td>\n",
       "      <td>34.8</td>\n",
       "      <td>142501</td>\n",
       "      <td>1</td>\n",
       "      <td>(1770, 400)</td>\n",
       "      <td>14</td>\n",
       "      <td>122</td>\n",
       "    </tr>\n",
       "    <tr>\n",
       "      <th>1</th>\n",
       "      <td>stickle1.JPG</td>\n",
       "      <td>2400</td>\n",
       "      <td>1600</td>\n",
       "      <td>1</td>\n",
       "      <td>36</td>\n",
       "      <td>34.8</td>\n",
       "      <td>142501</td>\n",
       "      <td>2</td>\n",
       "      <td>(1800, 399)</td>\n",
       "      <td>20</td>\n",
       "      <td>207</td>\n",
       "    </tr>\n",
       "    <tr>\n",
       "      <th>2</th>\n",
       "      <td>stickle1.JPG</td>\n",
       "      <td>2400</td>\n",
       "      <td>1600</td>\n",
       "      <td>1</td>\n",
       "      <td>36</td>\n",
       "      <td>34.8</td>\n",
       "      <td>142501</td>\n",
       "      <td>3</td>\n",
       "      <td>(1743, 396)</td>\n",
       "      <td>20</td>\n",
       "      <td>193</td>\n",
       "    </tr>\n",
       "    <tr>\n",
       "      <th>3</th>\n",
       "      <td>stickle1.JPG</td>\n",
       "      <td>2400</td>\n",
       "      <td>1600</td>\n",
       "      <td>1</td>\n",
       "      <td>36</td>\n",
       "      <td>34.8</td>\n",
       "      <td>142501</td>\n",
       "      <td>4</td>\n",
       "      <td>(1717, 396)</td>\n",
       "      <td>24</td>\n",
       "      <td>232</td>\n",
       "    </tr>\n",
       "    <tr>\n",
       "      <th>4</th>\n",
       "      <td>stickle1.JPG</td>\n",
       "      <td>2400</td>\n",
       "      <td>1600</td>\n",
       "      <td>1</td>\n",
       "      <td>36</td>\n",
       "      <td>34.8</td>\n",
       "      <td>142501</td>\n",
       "      <td>5</td>\n",
       "      <td>(1690, 391)</td>\n",
       "      <td>39</td>\n",
       "      <td>426</td>\n",
       "    </tr>\n",
       "    <tr>\n",
       "      <th>...</th>\n",
       "      <td>...</td>\n",
       "      <td>...</td>\n",
       "      <td>...</td>\n",
       "      <td>...</td>\n",
       "      <td>...</td>\n",
       "      <td>...</td>\n",
       "      <td>...</td>\n",
       "      <td>...</td>\n",
       "      <td>...</td>\n",
       "      <td>...</td>\n",
       "      <td>...</td>\n",
       "    </tr>\n",
       "    <tr>\n",
       "      <th>10</th>\n",
       "      <td>stickle1.JPG</td>\n",
       "      <td>2400</td>\n",
       "      <td>1600</td>\n",
       "      <td>1</td>\n",
       "      <td>36</td>\n",
       "      <td>34.8</td>\n",
       "      <td>142501</td>\n",
       "      <td>11</td>\n",
       "      <td>(1521, 365)</td>\n",
       "      <td>101</td>\n",
       "      <td>1235</td>\n",
       "    </tr>\n",
       "    <tr>\n",
       "      <th>11</th>\n",
       "      <td>stickle1.JPG</td>\n",
       "      <td>2400</td>\n",
       "      <td>1600</td>\n",
       "      <td>1</td>\n",
       "      <td>36</td>\n",
       "      <td>34.8</td>\n",
       "      <td>142501</td>\n",
       "      <td>12</td>\n",
       "      <td>(1485, 360)</td>\n",
       "      <td>114</td>\n",
       "      <td>1559</td>\n",
       "    </tr>\n",
       "    <tr>\n",
       "      <th>12</th>\n",
       "      <td>stickle1.JPG</td>\n",
       "      <td>2400</td>\n",
       "      <td>1600</td>\n",
       "      <td>1</td>\n",
       "      <td>36</td>\n",
       "      <td>34.8</td>\n",
       "      <td>142501</td>\n",
       "      <td>13</td>\n",
       "      <td>(1453, 355)</td>\n",
       "      <td>119</td>\n",
       "      <td>1638</td>\n",
       "    </tr>\n",
       "    <tr>\n",
       "      <th>13</th>\n",
       "      <td>stickle1.JPG</td>\n",
       "      <td>2400</td>\n",
       "      <td>1600</td>\n",
       "      <td>1</td>\n",
       "      <td>36</td>\n",
       "      <td>34.8</td>\n",
       "      <td>142501</td>\n",
       "      <td>14</td>\n",
       "      <td>(1423, 355)</td>\n",
       "      <td>128</td>\n",
       "      <td>1755</td>\n",
       "    </tr>\n",
       "    <tr>\n",
       "      <th>14</th>\n",
       "      <td>stickle1.JPG</td>\n",
       "      <td>2400</td>\n",
       "      <td>1600</td>\n",
       "      <td>1</td>\n",
       "      <td>36</td>\n",
       "      <td>34.8</td>\n",
       "      <td>142501</td>\n",
       "      <td>15</td>\n",
       "      <td>(1391, 344)</td>\n",
       "      <td>115</td>\n",
       "      <td>1542</td>\n",
       "    </tr>\n",
       "  </tbody>\n",
       "</table>\n",
       "<p>15 rows × 11 columns</p>\n",
       "</div>"
      ],
      "text/plain": [
       "        filename  width  height  size_ratio_original  template_px_mm_ratio  \\\n",
       "0   stickle1.JPG   2400    1600                    1                    36   \n",
       "1   stickle1.JPG   2400    1600                    1                    36   \n",
       "2   stickle1.JPG   2400    1600                    1                    36   \n",
       "3   stickle1.JPG   2400    1600                    1                    36   \n",
       "4   stickle1.JPG   2400    1600                    1                    36   \n",
       "..           ...    ...     ...                  ...                   ...   \n",
       "10  stickle1.JPG   2400    1600                    1                    36   \n",
       "11  stickle1.JPG   2400    1600                    1                    36   \n",
       "12  stickle1.JPG   2400    1600                    1                    36   \n",
       "13  stickle1.JPG   2400    1600                    1                    36   \n",
       "14  stickle1.JPG   2400    1600                    1                    36   \n",
       "\n",
       "    current_px_mm_ratio      ID contour       center diameter  area  \n",
       "0                  34.8  142501       1  (1770, 400)       14   122  \n",
       "1                  34.8  142501       2  (1800, 399)       20   207  \n",
       "2                  34.8  142501       3  (1743, 396)       20   193  \n",
       "3                  34.8  142501       4  (1717, 396)       24   232  \n",
       "4                  34.8  142501       5  (1690, 391)       39   426  \n",
       "..                  ...     ...     ...          ...      ...   ...  \n",
       "10                 34.8  142501      11  (1521, 365)      101  1235  \n",
       "11                 34.8  142501      12  (1485, 360)      114  1559  \n",
       "12                 34.8  142501      13  (1453, 355)      119  1638  \n",
       "13                 34.8  142501      14  (1423, 355)      128  1755  \n",
       "14                 34.8  142501      15  (1391, 344)      115  1542  \n",
       "\n",
       "[15 rows x 11 columns]"
      ]
     },
     "execution_count": 13,
     "metadata": {},
     "output_type": "execute_result"
    }
   ],
   "source": [
    "## inspect results\n",
    "## DataFrame\n",
    "out.container.df_contours.drop(columns=[\"order\", \"idx_child\", \"idx_parent\", \"coords\"])"
   ]
  },
  {
   "cell_type": "code",
   "execution_count": 14,
   "metadata": {},
   "outputs": [],
   "source": [
    "## image\n",
    "pp.show_image(out.container.canvas)"
   ]
  },
  {
   "cell_type": "code",
   "execution_count": null,
   "metadata": {},
   "outputs": [],
   "source": []
  }
 ],
 "metadata": {
  "kernelspec": {
   "display_name": "Python 3",
   "language": "python",
   "name": "python3"
  },
  "language_info": {
   "codemirror_mode": {
    "name": "ipython",
    "version": 3
   },
   "file_extension": ".py",
   "mimetype": "text/x-python",
   "name": "python",
   "nbconvert_exporter": "python",
   "pygments_lexer": "ipython3",
   "version": "3.7.7"
  }
 },
 "nbformat": 4,
 "nbformat_minor": 4
}
