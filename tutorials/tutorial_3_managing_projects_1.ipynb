{
 "cells": [
  {
   "cell_type": "markdown",
   "metadata": {},
   "source": [
    "# Tutorial 3: Setting up and managing phenopype projects\n"
   ]
  },
  {
   "cell_type": "markdown",
   "metadata": {},
   "source": [
    "A central aspect of efficiently using Phenopype is to work from within a `project`. Phenopype projects are composed of a directory tree in which each folder contains the copy or a link to a single raw image file (1). Alongside the images to be processed, users can store configuration file for the `pype` routine that we covered in the  [previous tutorial](tutorial_2_phenopype_workflow.ipynb): configurations files can be created using preconfigured templates, which can easily be modifed (2). Once raw images have been added and configuration files are in place, the `pype` routine is used until results are satisfactory (3). Together, the raw images, the `pype`-configuration files and the saved results files are all that is needed to completely reproduce any phenotypic data that was collected in the process (4). "
   ]
  },
  {
   "cell_type": "markdown",
   "metadata": {},
   "source": [
    "## Create project and add images"
   ]
  },
  {
   "cell_type": "markdown",
   "metadata": {},
   "source": [
    "<center>\n",
    "<div style=\"width:500px; text-align: left\" >\n",
    "    \n",
    "![Step 1](_assets/workflow_high_step1.png)\n",
    "    \n",
    "**Step. 1**: Create a phenopype project and organize raw images into separate folders where all relevant data, attributes and results are stored. \n",
    "    \n",
    "</div>\n",
    "</center>"
   ]
  },
  {
   "cell_type": "markdown",
   "metadata": {},
   "source": [
    "A Phenopype project directory can be initiatlized with the `project` function. The *phenoype project root folder* should be separate from the raw data, e.g. as a folder inside of your *main project folder*:"
   ]
  },
  {
   "cell_type": "code",
   "execution_count": 3,
   "metadata": {},
   "outputs": [],
   "source": [
    "import phenopype as pp\n",
    "import os\n",
    "os.getcwd()"
   ]
  },
  {
   "cell_type": "code",
   "execution_count": 6,
   "metadata": {},
   "outputs": [
    {
     "name": "stdout",
     "output_type": "stream",
     "text": [
      "--------------------------------------------\n",
      "Phenopype will create a new project at\n",
      "\n",
      "E:\\git_repos\\phenopype\\_temp\\my_project\\phenopype\n",
      "\n",
      "and change the current working directory to this location.\n",
      "Proceed? (y/n)\n",
      "y\n",
      "\n",
      "project attributes written to E:\\git_repos\\phenopype\\_temp\\my_project\\phenopype\\attributes.yaml\n",
      "--------------------------------------------\n"
     ]
    }
   ],
   "source": [
    "myproj = pp.project(root_dir=r\"../_temp/my_project/phenopype\") ## doesn't have to be \"myproj\", can be named anything"
   ]
  },
  {
   "cell_type": "code",
   "execution_count": 9,
   "metadata": {},
   "outputs": [
    {
     "data": {
      "text/plain": [
       "'E:\\\\git_repos\\\\phenopype\\\\_temp\\\\my_project\\\\phenopype'"
      ]
     },
     "execution_count": 9,
     "metadata": {},
     "output_type": "execute_result"
    }
   ],
   "source": [
    "os.getcwd()"
   ]
  },
  {
   "cell_type": "markdown",
   "metadata": {},
   "source": [
    "Next step is to add images to the project. You can do so with the `add_files` method of the created project (a *method* is an executable function that belongs to an existing *object*, in this case \"myproj. see [this SO question](https://stackoverflow.com/questions/155609/whats-the-difference-between-a-method-and-a-function)). The function offers some flexibility in terms of which files to import. Most important arguments here are `include`, `exclude` and `filetypes`. For example, given the following list of images:"
   ]
  },
  {
   "cell_type": "code",
   "execution_count": 16,
   "metadata": {},
   "outputs": [
    {
     "data": {
      "text/plain": [
       "['isopods.jpg',\n",
       " 'isopods_fish.mp4',\n",
       " 'phytoplankton.jpg',\n",
       " 'snail.jpg',\n",
       " 'stickle1.JPG',\n",
       " 'stickle2.JPG',\n",
       " 'stickle3.JPG',\n",
       " 'stickleback_side.jpg',\n",
       " 'stickleback_top.jpg',\n",
       " 'worms.jpg']"
      ]
     },
     "execution_count": 16,
     "metadata": {},
     "output_type": "execute_result"
    }
   ],
   "source": [
    "images = \"../../../tutorials/images\"\n",
    "os.listdir(images) ##"
   ]
  },
  {
   "cell_type": "markdown",
   "metadata": {},
   "source": [
    "If we want to import \"stickle1\", \"stickle2\", and \"stickle3\", we can do a combination `include` and `exclude` (also prints all other default settings):"
   ]
  },
  {
   "cell_type": "code",
   "execution_count": 17,
   "metadata": {},
   "outputs": [
    {
     "name": "stdout",
     "output_type": "stream",
     "text": [
      "--------------------------------------------\n",
      "phenopype will search for files at\n",
      "\n",
      "E:\\git_repos\\phenopype\\tutorials\\images\n",
      "\n",
      "using the following settings:\n",
      "\n",
      "filetypes: ['jpg', 'JPG', 'jpeg', 'JPEG', 'tif', 'png'], include: stickle, exclude: ['side', 'top'], raw_mode: copy, search_mode: dir, unique_mode: path\n",
      "\n",
      "Found image stickle1.JPG - phenopype-project folder 0__stickle1 created\n",
      "no meta-data found\n",
      "Found image stickle2.JPG - phenopype-project folder 0__stickle2 created\n",
      "no meta-data found\n",
      "Found image stickle3.JPG - phenopype-project folder 0__stickle3 created\n",
      "no meta-data found\n",
      "\n",
      "Found 3 files\n",
      "--------------------------------------------\n"
     ]
    }
   ],
   "source": [
    "myproj.add_files(image_dir=images,\n",
    "                 include=\"stickle\",       ## can be type \"str\" or type \"list\"\n",
    "                 exclude=[\"side\",\"top\"]   ## can be type \"str\" or type \"list\"\n",
    "                ) "
   ]
  },
  {
   "cell_type": "markdown",
   "metadata": {},
   "source": [
    "The three images have the same (nonstandard) file ending, so we can also use the filetype argument (and the overwrite argument, because have already added them above):"
   ]
  },
  {
   "cell_type": "code",
   "execution_count": 18,
   "metadata": {},
   "outputs": [
    {
     "name": "stdout",
     "output_type": "stream",
     "text": [
      "--------------------------------------------\n",
      "phenopype will search for files at\n",
      "\n",
      "E:\\git_repos\\phenopype\\tutorials\\images\n",
      "\n",
      "using the following settings:\n",
      "\n",
      "filetypes: JPG, include: [], exclude: ['side', 'top'], raw_mode: copy, search_mode: dir, unique_mode: path\n",
      "\n",
      "Found image stickle1.JPG - phenopype-project folder 0__stickle1 created (overwritten)\n",
      "no meta-data found\n",
      "Found image stickle2.JPG - phenopype-project folder 0__stickle2 created (overwritten)\n",
      "no meta-data found\n",
      "Found image stickle3.JPG - phenopype-project folder 0__stickle3 created (overwritten)\n",
      "no meta-data found\n",
      "\n",
      "Found 3 files\n",
      "--------------------------------------------\n"
     ]
    }
   ],
   "source": [
    " myproj.add_files(image_dir=images,\n",
    "                 filetypes=\"JPG\" ,       ## can be type \"str\" or type \"list\"\n",
    "                 exclude=[\"side\",\"top\"],      ## can be type \"str\" or type \"list\"\n",
    "                 overwrite=True\n",
    "                ) "
   ]
  },
  {
   "cell_type": "markdown",
   "metadata": {},
   "source": [
    "The remaining settings are `raw_mode`, `search_mode`, `unique_mode`. `raw_mode` determines whether raw files should be copied to each folder in the Phenopype directory tree (using `copy` [default]), or just their filepath (using `link`), which can be useful if data sets contain many or very large images. `search_mode` indicates whether only the top directory (`dir` [default]), or also all subdirectories (`recursive`) should be included in the search. `unique_mode` indicates whether files should be unique by their path (`filepath` [default]) or only by their name (`filename`) - duplicate files will be skipped.  "
   ]
  },
  {
   "cell_type": "code",
   "execution_count": 19,
   "metadata": {},
   "outputs": [
    {
     "name": "stdout",
     "output_type": "stream",
     "text": [
      "Help on function add_files in module phenopype.main:\n",
      "\n",
      "add_files(self, image_dir, filetypes=['jpg', 'JPG', 'jpeg', 'JPEG', 'tif', 'png'], include=[], exclude=[], raw_mode='copy', search_mode='dir', unique_mode='path', overwrite=False, resize=1, **kwargs)\n",
      "    Add files to your project from a directory, can look recursively. \n",
      "    Specify in- or exclude arguments, filetypes, duplicate-action and copy \n",
      "    or link raw files to save memory on the harddrive. For each found image,\n",
      "    a folder will be created in the \"data\" folder within the projects root\n",
      "    directory. If found images are in subfolders and search_mode is \n",
      "    recursive, the respective phenopype directories will be created with \n",
      "    flattened path as prefix. \n",
      "    \n",
      "    E.g., with \"raw_files\" as folder with the original image files \n",
      "    and \"phenopype_proj\" as rootfolder:\n",
      "    \n",
      "    - raw_files/file.jpg ==> phenopype_proj/data/file.jpg\n",
      "    - raw_files/subdir1/file.jpg ==> phenopype_proj/data/1__subdir1__file.jpg\n",
      "    - raw_files/subdir1/subdir2/file.jpg ==> phenopype_proj/data/2__subdir1__subdir2__file.jpg\n",
      "    \n",
      "    Parameters\n",
      "    ----------\n",
      "    image_dir: str \n",
      "        path to directory with images\n",
      "    filetypes: list or str, optional\n",
      "        single or multiple string patterns to target files with certain endings.\n",
      "        \"default_filetypes\" are configured in settings.py\n",
      "    include: list or str, optional\n",
      "        single or multiple string patterns to target certain files to include\n",
      "    exclude: list or str, optional\n",
      "        single or multiple string patterns to target certain files to exclude - \n",
      "        can overrule \"include\"\n",
      "    raw_mode: {\"copy\", \"link\"} str, optional\n",
      "        how should the raw files be passed on to the phenopype directory tree: \n",
      "        \"copy\" will make a copy of the original file, \"link\" will only send the \n",
      "        link to the original raw file to attributes, but not copy the actual \n",
      "        file (useful for big files)\n",
      "    search_mode: {\"dir\", \"recursive\"}, str, optional\n",
      "        \"dir\" searches current directory for valid files; \"recursive\" walks \n",
      "        through all subdirectories\n",
      "    unique_mode: {\"filepath\", \"filename\"}, str, optional:\n",
      "        how to deal with image duplicates - \"filepath\" is useful if identically \n",
      "        named files exist in different subfolders (folder structure will be \n",
      "        collapsed and goes into the filename), whereas filename will ignore \n",
      "        all similar named files after their first occurrence.\n",
      "    kwargs: \n",
      "        developer options\n",
      "\n"
     ]
    }
   ],
   "source": [
    "help(pp.project.add_files)"
   ]
  },
  {
   "cell_type": "markdown",
   "metadata": {},
   "source": [
    "## Add pype-configuration files "
   ]
  },
  {
   "cell_type": "markdown",
   "metadata": {},
   "source": [
    "<center>\n",
    "<div style=\"width:500px; text-align: left\" >\n",
    "    \n",
    "![Step 2](_assets/workflow_high_step2.png)\n",
    "    \n",
    "**Step. 2**: Create configuration files and store them alongside the raw images.\n",
    "    \n",
    "</div>\n",
    "</center>"
   ]
  },
  {
   "cell_type": "markdown",
   "metadata": {},
   "source": [
    "In the next step we prepare the files we added for use with the `pype` routine by addding a configuration file with the `add_config` method. Instead of adding the functions one by one we can load presets that are appropriate for the given computer vision analysis.\n",
    "\n",
    "Currently, the different templates are stored inside a Python file, and can be inspected using `dir(pp.presets)` to show all existing presets, and `print(pp.presets.landmarks_plain)` to show the contents."
   ]
  },
  {
   "cell_type": "code",
   "execution_count": 20,
   "metadata": {},
   "outputs": [
    {
     "data": {
      "text/plain": [
       "['__builtins__',\n",
       " '__cached__',\n",
       " '__doc__',\n",
       " '__file__',\n",
       " '__loader__',\n",
       " '__name__',\n",
       " '__package__',\n",
       " '__spec__',\n",
       " 'demo1',\n",
       " 'demo2',\n",
       " 'ex7',\n",
       " 'inverted1',\n",
       " 'landmarks_2',\n",
       " 'landmarks_plain',\n",
       " 'object_detection_morph',\n",
       " 'object_detection_plain',\n",
       " 'preset1',\n",
       " 'preset3',\n",
       " 'preset4',\n",
       " 'watershed']"
      ]
     },
     "execution_count": 20,
     "metadata": {},
     "output_type": "execute_result"
    }
   ],
   "source": [
    "dir(pp.presets)"
   ]
  },
  {
   "cell_type": "code",
   "execution_count": 21,
   "metadata": {},
   "outputs": [
    {
     "name": "stdout",
     "output_type": "stream",
     "text": [
      "\n",
      "measurement:\n",
      "- landmarks:\n",
      "    point_size: 25\n",
      "    point_colour: green\n",
      "    label_size: 3\n",
      "    label_width: 5\n",
      "visualization:\n",
      "- draw_landmarks:\n",
      "    point_size: 25\n",
      "    point_colour: green\n",
      "    label_size: 3\n",
      "    label_width: 5\n",
      "export:\n",
      "- save_landmarks\n",
      "\n"
     ]
    }
   ],
   "source": [
    "print(pp.presets.landmarks_plain)"
   ]
  },
  {
   "cell_type": "markdown",
   "metadata": {},
   "source": [
    "For example, if we want to place landmarks, we can use one of the corresponding presets.  \n"
   ]
  },
  {
   "cell_type": "code",
   "execution_count": 22,
   "metadata": {},
   "outputs": [
    {
     "name": "stdout",
     "output_type": "stream",
     "text": [
      "pype config generated from landmarks_plain.\n",
      "pype_lm.yaml created for 0__stickle1\n",
      "pype_lm.yaml created for 0__stickle2\n",
      "pype_lm.yaml created for 0__stickle3\n"
     ]
    }
   ],
   "source": [
    "myproj.add_config(name = \"lm\", config_preset=\"landmarks_plain\")"
   ]
  },
  {
   "cell_type": "markdown",
   "metadata": {},
   "source": [
    "Now all images folders contain a configuration file in *yaml*  format (see [Tutorial 2](tutorial_2_phenopype_workflow.ipynb#yaml-syntax) and the [resources section](resources.html) of the Documentation for details). "
   ]
  },
  {
   "cell_type": "markdown",
   "metadata": {},
   "source": [
    "An imporant feature of `add_config` is the opportunity to evulate and edit the template before it gets saved in the folders. This is done by setting the flag `interactive=True` in the arguments. For example, if we globally want to change point and label size of the landmark preset, we can do: \n",
    "\n",
    "<center>\n",
    "<div style=\"width:500px; text-align: left\" >\n",
    "    \n",
    "![Edit template](_assets/change_template.png)\n",
    "    \n",
    "Edit the templates before saving them to the image folders.\n",
    "    \n",
    "</div>\n",
    "</center>\n",
    "\n",
    "**NOTE 1:** The `pype` function opens a text editor and a python window. To modify the `pype` configuration templates, by default, the first image in your project directory tree will copied over to the phenopype project root directory. After the windows have opened they can be controlled as described as in [Tutorial 2](tutorial_2_phenopype_workflow.ipynb#pype-behavior).\n",
    "\n",
    "**NOTE 2:** If you have issues with this step, e.g. no text editor window is popping up, make sure you have set the default app for opening *yaml* files. Furthermore, consult the [installation instructions](installation.html#choose-a-text-editor) and check if your text editor is configured correctly. \n"
   ]
  },
  {
   "cell_type": "code",
   "execution_count": 23,
   "metadata": {},
   "outputs": [
    {
     "name": "stdout",
     "output_type": "stream",
     "text": [
      "pype config generated from landmarks_plain.\n",
      "E:\\git_repos\\phenopype\\_temp\\my_project\\phenopype\\pype_config_template-lm.yaml\n",
      "\n",
      "\n",
      "------------+++ new pype iteration 2020:04:20 16:10:59 +++--------------\n",
      "\n",
      "\n",
      "MEASUREMENT\n",
      "landmarks\n",
      "- setting landmarks\n",
      "VISUALIZATION\n",
      "draw_landmarks\n",
      "\n",
      "\n",
      "TERMINATE\n",
      "pype_lm.yaml created for 0__stickle1 (overwritten)\n",
      "pype_lm.yaml created for 0__stickle2 (overwritten)\n",
      "pype_lm.yaml created for 0__stickle3 (overwritten)\n"
     ]
    }
   ],
   "source": [
    "myproj.add_config(name = \"lm\", \n",
    "                  config_preset=\"landmarks_plain\",\n",
    "                  interactive=True,\n",
    "                  overwrite=True                 ## needed because config with the name \"lm\" already exists in the folders\n",
    "                 )"
   ]
  },
  {
   "cell_type": "code",
   "execution_count": 24,
   "metadata": {},
   "outputs": [
    {
     "name": "stdout",
     "output_type": "stream",
     "text": [
      "Help on function add_config in module phenopype.main:\n",
      "\n",
      "add_config(self, name, config_preset='preset1', interactive=False, overwrite=False, idx=0, **kwargs)\n",
      "    Add pype configuration presets to all image folders in the project, either by using\n",
      "    the templates included in the presets folder, or by adding your own templates\n",
      "    by providing a path to a yaml file. Can be tested and modified using the \n",
      "    interactive flag before distributing the config files.\n",
      "    \n",
      "    Parameters\n",
      "    ----------\n",
      "    \n",
      "    name: str\n",
      "        name of config-file. this gets appended to all files and serves as and\n",
      "        identifier of a specific analysis pipeline\n",
      "    preset: str, optional\n",
      "        can be either a string denoting a template name (e.g. preset1, preset2, \n",
      "        landamarking1, ... - in \"phenopype/settings/presets.py\") or a path to a \n",
      "        compatible yaml file\n",
      "    interactive: bool, optional\n",
      "        start a pype and modify preset before saving it to phenopype directories\n",
      "    overwrite: bool, optional\n",
      "        overwrite option, if a given pype config-file already exist\n",
      "    kwargs: \n",
      "        developer options\n",
      "\n"
     ]
    }
   ],
   "source": [
    "help(pp.project.add_config)"
   ]
  },
  {
   "cell_type": "markdown",
   "metadata": {},
   "source": [
    "## Saving and loading a project"
   ]
  },
  {
   "cell_type": "markdown",
   "metadata": {},
   "source": [
    "Project objects can be saved using a the static method `save` (static = unbound to any object). This will save the project data to the project's root directory. Currently, the only useful information stored in the project object is the list of all contained directories. Future releases will make more use of the project object. \n",
    "\n",
    "**NOTE:** `pp.project.save` saves ONLY the project data, all data collected with the pype method or any of the other workflows need to be saved inside the folders using the appropriate [export](api.html#export) functions."
   ]
  },
  {
   "cell_type": "code",
   "execution_count": 40,
   "metadata": {},
   "outputs": [
    {
     "name": "stdout",
     "output_type": "stream",
     "text": [
      "Project data saved under E:\\git_repos\\phenopype\\_temp\\my_project\\phenopype\\project.data.\n"
     ]
    }
   ],
   "source": [
    "pp.project.save(myproj, overwrite=True)"
   ]
  },
  {
   "cell_type": "markdown",
   "metadata": {},
   "source": [
    "To load the project again, add provide the path of the `project.data` file in the root folder to the `load` method:"
   ]
  },
  {
   "cell_type": "code",
   "execution_count": 30,
   "metadata": {},
   "outputs": [
    {
     "name": "stdout",
     "output_type": "stream",
     "text": [
      "--------------------------------------------\n",
      "Project loaded and current working directory changed to\n",
      "\n",
      "E:\\git_repos\\phenopype\\_temp\\my_project\\phenopype\n",
      "--------------------------------------------\n"
     ]
    },
    {
     "data": {
      "text/plain": [
       "['data/0__stickle1', 'data/0__stickle2', 'data/0__stickle3']"
      ]
     },
     "execution_count": 30,
     "metadata": {},
     "output_type": "execute_result"
    }
   ],
   "source": [
    "import phenopype as pp\n",
    "\n",
    "myproj = pp.project.load(\".\") ## \".\" because we are still in the same working directory\n",
    "myproj.dirpaths"
   ]
  },
  {
   "cell_type": "markdown",
   "metadata": {},
   "source": [
    "## Applying the pype to project folders"
   ]
  },
  {
   "cell_type": "markdown",
   "metadata": {},
   "source": [
    "<center>\n",
    "<div style=\"width:800px; text-align: left\" >\n",
    "    \n",
    "![Step 3](_assets/workflow_high_step3.png)\n",
    "    \n",
    "**Step. 3**: Apply `pype` function image by image.\n",
    "    \n",
    "</div>\n",
    "</center>"
   ]
  },
  {
   "cell_type": "markdown",
   "metadata": {},
   "source": [
    "After adding images and configuration, all is set to process your dataset with high throughput. Using a simple `for` loop, we go through all directories one by one. You can modify the configuration file and controll the window as described as in [Tutorial 2](tutorial_2_phenopype_workflow.ipynb#yaml-syntax). The `skip` argument will allow to skip files with a given config name you have already analyzed. This allows you to return to the point where you left off.\n",
    "\n",
    "**NOTE 1:** Make sure to specifiy the name of the config file you added before, in this case, \"lm\". The config file name serves multiple purposes: on the one hand it tells the `pype` function which configuration to load, if you have multiple in one directory. On the other hand, the name gets appended to all results files that are produced by this constellation.  \n",
    "\n",
    "**NOTE 2:** Consult [Tutorial 2](tutorial_2_phenopype_workflow.ipynb#pype-behavior) to understand `pype` behavior. For example, the `pype` will automatically save all collected data, and by default overwrite any existing results files, but the latter only if indicated in the config file.   "
   ]
  },
  {
   "cell_type": "code",
   "execution_count": 31,
   "metadata": {},
   "outputs": [
    {
     "name": "stdout",
     "output_type": "stream",
     "text": [
      "E:\\git_repos\\phenopype\\_temp\\my_project\\phenopype\\data/0__stickle1\n",
      "E:\\git_repos\\phenopype\\_temp\\my_project\\phenopype\\data/0__stickle2\n",
      "E:\\git_repos\\phenopype\\_temp\\my_project\\phenopype\\data/0__stickle3\n"
     ]
    }
   ],
   "source": [
    "for folder in myproj.dirpaths:\n",
    "    directory = os.path.join(myproj.root_dir, folder)\n",
    "    print(directory)"
   ]
  },
  {
   "cell_type": "code",
   "execution_count": 32,
   "metadata": {},
   "outputs": [
    {
     "data": {
      "text/plain": [
       "True"
      ]
     },
     "execution_count": 32,
     "metadata": {},
     "output_type": "execute_result"
    }
   ],
   "source": [
    "os.path.isdir(directory)"
   ]
  },
  {
   "cell_type": "code",
   "execution_count": 33,
   "metadata": {},
   "outputs": [
    {
     "name": "stdout",
     "output_type": "stream",
     "text": [
      "E:\\git_repos\\phenopype\\_temp\\my_project\\phenopype\\data/0__stickle1\\pype_config_lm.yaml\n",
      "\n",
      "\n",
      "------------+++ new pype iteration 2020:04:20 16:12:12 +++--------------\n",
      "\n",
      "\n",
      "MEASUREMENT\n",
      "landmarks\n",
      "- setting landmarks\n",
      "VISUALIZATION\n",
      "draw_landmarks\n",
      "EXPORT\n",
      "save_landmarks\n",
      "- landmarks saved under E:\\git_repos\\phenopype\\_temp\\my_project\\phenopype\\data/0__stickle1\\landmarks_lm.csv.\n",
      "AUTOSAVE\n",
      "save_canvas\n",
      "- canvas saved under E:\\git_repos\\phenopype\\_temp\\my_project\\phenopype\\data/0__stickle1\\canvas_lm.jpg.\n",
      "\n",
      "\n",
      "TERMINATE\n",
      "E:\\git_repos\\phenopype\\_temp\\my_project\\phenopype\\data/0__stickle2\\pype_config_lm.yaml\n",
      "\n",
      "\n",
      "------------+++ new pype iteration 2020:04:20 16:12:16 +++--------------\n",
      "\n",
      "\n",
      "MEASUREMENT\n",
      "landmarks\n",
      "- setting landmarks\n"
     ]
    },
    {
     "ename": "SystemExit",
     "evalue": "\n\nTERMINATE (by user)",
     "output_type": "error",
     "traceback": [
      "An exception has occurred, use %tb to see the full traceback.\n",
      "\u001b[1;31mSystemExit\u001b[0m\u001b[1;31m:\u001b[0m \n\nTERMINATE (by user)\n"
     ]
    },
    {
     "name": "stderr",
     "output_type": "stream",
     "text": [
      "WARNING: To exit: use 'exit', 'quit', or Ctrl-D.\n"
     ]
    }
   ],
   "source": [
    "for folder in myproj.dirpaths:\n",
    "    directory = os.path.join(myproj.root_dir, folder)\n",
    "    pp.pype(directory, \n",
    "            name=\"lm\",         ## loads the config file \"pype_config_lm.yaml\". \"lm\" gets appended to all results files\n",
    "            skip=True          ## skip=True will skip over any directories that already contain results files with \"lm\"\n",
    "           )"
   ]
  },
  {
   "cell_type": "markdown",
   "metadata": {},
   "source": [
    "<center>\n",
    "<div style=\"width:500px; text-align: left\" >\n",
    "    \n",
    "![Step 4](_assets/workflow_high_step4.png)\n",
    "    \n",
    "**Step. 4**: Each folder contains all information necessary to reproduce the collected phenopytic data. Ouput from different `pype` runs can be stored side by side in the same folders. \n",
    "    \n",
    "</div>\n",
    "</center>"
   ]
  },
  {
   "cell_type": "markdown",
   "metadata": {},
   "source": [
    "As mentioned above, it's possible to have multiple configuration files side by side in phenopype folders. For example, if we want to implement an alternative set of landmarks, we can simply do:"
   ]
  },
  {
   "cell_type": "code",
   "execution_count": 34,
   "metadata": {},
   "outputs": [
    {
     "name": "stdout",
     "output_type": "stream",
     "text": [
      "pype config generated from landmarks_plain.\n",
      "pype_lm2.yaml created for 0__stickle1\n",
      "pype_lm2.yaml created for 0__stickle2\n",
      "pype_lm2.yaml created for 0__stickle3\n"
     ]
    }
   ],
   "source": [
    "myproj.add_config(name = \"lm2\",                  ## add different name (my not contain underscores or other special characters)\n",
    "                  config_preset=\"landmarks_plain\"    ## same preset\n",
    "                 )"
   ]
  },
  {
   "cell_type": "code",
   "execution_count": 35,
   "metadata": {},
   "outputs": [
    {
     "name": "stdout",
     "output_type": "stream",
     "text": [
      "data/0__stickle1\\pype_config_lm2.yaml\n",
      "\n",
      "\n",
      "------------+++ new pype iteration 2020:04:20 16:13:01 +++--------------\n",
      "\n",
      "\n",
      "MEASUREMENT\n",
      "landmarks\n",
      "- setting landmarks\n"
     ]
    },
    {
     "ename": "SystemExit",
     "evalue": "\n\nTERMINATE (by user)",
     "output_type": "error",
     "traceback": [
      "An exception has occurred, use %tb to see the full traceback.\n",
      "\u001b[1;31mSystemExit\u001b[0m\u001b[1;31m:\u001b[0m \n\nTERMINATE (by user)\n"
     ]
    },
    {
     "name": "stderr",
     "output_type": "stream",
     "text": [
      "WARNING: To exit: use 'exit', 'quit', or Ctrl-D.\n"
     ]
    }
   ],
   "source": [
    "for img in myproj.dirpaths:\n",
    "    pp.pype(img, \n",
    "            name=\"lm2\",         ## loads the config file \"pype_config_lm2.yaml\". \"lm2\" gets appended to all results files\n",
    "            skip=True          ## skip=True will skip over any directories that already contain results files with \"lm2\"\n",
    "           )"
   ]
  },
  {
   "cell_type": "code",
   "execution_count": 39,
   "metadata": {},
   "outputs": [
    {
     "data": {
      "text/plain": [
       "['attributes.yaml',\n",
       " 'canvas_lm.jpg',\n",
       " 'landmarks_lm.csv',\n",
       " 'pype_config_lm.yaml',\n",
       " 'pype_config_lm2.yaml',\n",
       " 'raw.JPG']"
      ]
     },
     "execution_count": 39,
     "metadata": {},
     "output_type": "execute_result"
    }
   ],
   "source": [
    "os.listdir(r\"data/0__stickle1\")"
   ]
  },
  {
   "cell_type": "code",
   "execution_count": null,
   "metadata": {},
   "outputs": [],
   "source": []
  }
 ],
 "metadata": {
  "kernelspec": {
   "display_name": "Python 3",
   "language": "python",
   "name": "python3"
  },
  "language_info": {
   "codemirror_mode": {
    "name": "ipython",
    "version": 3
   },
   "file_extension": ".py",
   "mimetype": "text/x-python",
   "name": "python",
   "nbconvert_exporter": "python",
   "pygments_lexer": "ipython3",
   "version": "3.7.6"
  }
 },
 "nbformat": 4,
 "nbformat_minor": 2
}
