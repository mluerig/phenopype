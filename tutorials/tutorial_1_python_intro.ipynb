{
 "cells": [
  {
   "cell_type": "markdown",
   "metadata": {},
   "source": [
    "# Tutorial 1: A (very) brief python introduction\n",
    "\n",
    "This notebook is meant to provide a very short overview of the basic python syntax needed for basic phenopype operability. This is useful if you have never used python before, but would like to be able to explore phenopype functionality on your own.\n",
    "\n",
    "Additionally, if you are new to programming alltogether, you could have a look at this tutorial https://www.learnpython.org/ or find this reference useful https://docs.python.org/3/tutorial/. \n",
    "\n",
    "If you are familiar with python, you probably want to skip ahead to [Tutorial 2: Working with phenopype](tutorial_2_phenopype_workflow.ipynb)."
   ]
  },
  {
   "cell_type": "markdown",
   "metadata": {},
   "source": [
    "## Python modules <a name=\"modules\"></a>\n",
    " At the beginning of our skript we import the python modules that we want to work with using `import`. When we import the module, we can call its methods and functions using what comes after `import`. In this case, these \"bindings\" are simply `os`. "
   ]
  },
  {
   "cell_type": "code",
   "execution_count": 1,
   "metadata": {},
   "outputs": [],
   "source": [
    "import os"
   ]
  },
  {
   "cell_type": "markdown",
   "metadata": {},
   "source": [
    "We can inspect all the components  of this module (i.e., its \"namespace\") by using `dir()`: https://docs.python.org/3/library/functions.html?highlight=dir#dir). We can see that `os` is a comprehensive package with a lots of classes and functions:"
   ]
  },
  {
   "cell_type": "code",
   "execution_count": 2,
   "metadata": {},
   "outputs": [
    {
     "name": "stdout",
     "output_type": "stream",
     "text": [
      "['DirEntry', 'F_OK', 'MutableMapping', 'O_APPEND', 'O_BINARY', 'O_CREAT', 'O_EXCL', 'O_NOINHERIT', 'O_RANDOM', 'O_RDONLY', 'O_RDWR', 'O_SEQUENTIAL', 'O_SHORT_LIVED', 'O_TEMPORARY', 'O_TEXT', 'O_TRUNC', 'O_WRONLY', 'P_DETACH', 'P_NOWAIT', 'P_NOWAITO', 'P_OVERLAY', 'P_WAIT', 'PathLike', 'R_OK', 'SEEK_CUR', 'SEEK_END', 'SEEK_SET', 'TMP_MAX', 'W_OK', 'X_OK', '_AddedDllDirectory', '_Environ', '__all__', '__builtins__', '__cached__', '__doc__', '__file__', '__loader__', '__name__', '__package__', '__spec__', '_check_methods', '_execvpe', '_exists', '_exit', '_fspath', '_get_exports_list', '_putenv', '_unsetenv', '_wrap_close', 'abc', 'abort', 'access', 'add_dll_directory', 'altsep', 'chdir', 'chmod', 'close', 'closerange', 'cpu_count', 'curdir', 'defpath', 'device_encoding', 'devnull', 'dup', 'dup2', 'environ', 'error', 'execl', 'execle', 'execlp', 'execlpe', 'execv', 'execve', 'execvp', 'execvpe', 'extsep', 'fdopen', 'fsdecode', 'fsencode', 'fspath', 'fstat', 'fsync', 'ftruncate', 'get_exec_path', 'get_handle_inheritable', 'get_inheritable', 'get_terminal_size', 'getcwd', 'getcwdb', 'getenv', 'getlogin', 'getpid', 'getppid', 'isatty', 'kill', 'linesep', 'link', 'listdir', 'lseek', 'lstat', 'makedirs', 'mkdir', 'name', 'open', 'pardir', 'path', 'pathsep', 'pipe', 'popen', 'putenv', 'read', 'readlink', 'remove', 'removedirs', 'rename', 'renames', 'replace', 'rmdir', 'scandir', 'sep', 'set_handle_inheritable', 'set_inheritable', 'spawnl', 'spawnle', 'spawnv', 'spawnve', 'st', 'startfile', 'stat', 'stat_result', 'statvfs_result', 'strerror', 'supports_bytes_environ', 'supports_dir_fd', 'supports_effective_ids', 'supports_fd', 'supports_follow_symlinks', 'symlink', 'sys', 'system', 'terminal_size', 'times', 'times_result', 'truncate', 'umask', 'uname_result', 'unlink', 'urandom', 'utime', 'waitpid', 'walk', 'write']\n"
     ]
    }
   ],
   "source": [
    "print(dir(os))"
   ]
  },
  {
   "cell_type": "markdown",
   "metadata": {},
   "source": [
    "The double underscores (\"dunders\") before and after the numeric string indicate that these are \"special\" names reserved for the python namespace (https://dbader.org/blog/meaning-of-underscores-in-python). We cannot tell what type of object is behind each name, e.g., whether it's a function (like `open`) or a submodule, with a set of functions (like `path`). Higher level functions are accessed from the package namespace by joining the module name `os` with the function `open`, connected by a dot. "
   ]
  },
  {
   "cell_type": "markdown",
   "metadata": {},
   "source": [
    "If you are ever unsure about what a package does,  simply call `help(os)` (or any other package) to get some basic information. This also works for its methods and functions, e.g. for the `open` method:"
   ]
  },
  {
   "cell_type": "code",
   "execution_count": 3,
   "metadata": {},
   "outputs": [
    {
     "name": "stdout",
     "output_type": "stream",
     "text": [
      "Help on built-in function open in module nt:\n",
      "\n",
      "open(path, flags, mode=511, *, dir_fd=None)\n",
      "    Open a file for low level IO.  Returns a file descriptor (integer).\n",
      "    \n",
      "    If dir_fd is not None, it should be a file descriptor open to a directory,\n",
      "      and path should be relative; path will then be relative to that directory.\n",
      "    dir_fd may not be implemented on your platform.\n",
      "      If it is unavailable, using it will raise a NotImplementedError.\n",
      "\n"
     ]
    }
   ],
   "source": [
    "help(os.open)"
   ]
  },
  {
   "cell_type": "markdown",
   "metadata": {},
   "source": [
    "`path` on the other hand is a submodule: here we see some functions we can use (they don't have dunders), for example `join`, which can join separate character strings to a python-readable path string."
   ]
  },
  {
   "cell_type": "code",
   "execution_count": 4,
   "metadata": {},
   "outputs": [
    {
     "name": "stdout",
     "output_type": "stream",
     "text": [
      "['__all__', '__builtins__', '__cached__', '__doc__', '__file__', '__loader__', '__name__', '__package__', '__spec__', '_abspath_fallback', '_get_bothseps', '_getfinalpathname', '_getfinalpathname_nonstrict', '_getfullpathname', '_getvolumepathname', '_nt_readlink', '_readlink_deep', 'abspath', 'altsep', 'basename', 'commonpath', 'commonprefix', 'curdir', 'defpath', 'devnull', 'dirname', 'exists', 'expanduser', 'expandvars', 'extsep', 'genericpath', 'getatime', 'getctime', 'getmtime', 'getsize', 'isabs', 'isdir', 'isfile', 'islink', 'ismount', 'join', 'lexists', 'normcase', 'normpath', 'os', 'pardir', 'pathsep', 'realpath', 'relpath', 'samefile', 'sameopenfile', 'samestat', 'sep', 'split', 'splitdrive', 'splitext', 'stat', 'supports_unicode_filenames', 'sys']\n"
     ]
    }
   ],
   "source": [
    "print(dir(os.path))"
   ]
  },
  {
   "cell_type": "code",
   "execution_count": 5,
   "metadata": {},
   "outputs": [
    {
     "name": "stdout",
     "output_type": "stream",
     "text": [
      "Help on function join in module ntpath:\n",
      "\n",
      "join(path, *paths)\n",
      "    # Join two (or more) paths.\n",
      "\n"
     ]
    }
   ],
   "source": [
    "help(os.path.join)"
   ]
  },
  {
   "cell_type": "markdown",
   "metadata": {},
   "source": [
    "## Paths and directories <a name=\"paths\"></a>\n",
    "\n",
    "Time to actually do something with a function. A useful function from the `os` module is `listdir`, which will list all files in a specified directory. If you don't specify any directory, it will use the current directory"
   ]
  },
  {
   "cell_type": "code",
   "execution_count": 6,
   "metadata": {},
   "outputs": [
    {
     "data": {
      "text/plain": [
       "['.ipynb_checkpoints',\n",
       " 'example_1_detect_objects_isopods.ipynb',\n",
       " 'example_2_landmarks_stickleback.ipynb',\n",
       " 'example_3_phytoplankton.ipynb',\n",
       " 'example_4_video_analysis_stickleback.ipynb',\n",
       " 'example_5_shape_stickleback.ipynb',\n",
       " 'example_6_counting_snails.ipynb',\n",
       " 'example_7_worm_length.ipynb',\n",
       " 'example_8_cichlid_teeth.ipynb',\n",
       " 'images',\n",
       " 'tutorial_0.rst',\n",
       " 'tutorial_1_python_intro.ipynb',\n",
       " 'tutorial_2_phenopype_workflow.ipynb',\n",
       " 'tutorial_3_managing_projects_1.ipynb',\n",
       " 'tutorial_4_managing_projects_2.ipynb',\n",
       " 'tutorial_5_gui_interactions.ipynb',\n",
       " 'tutorial_6_video_analysis.ipynb',\n",
       " '_assets']"
      ]
     },
     "execution_count": 6,
     "metadata": {},
     "output_type": "execute_result"
    }
   ],
   "source": [
    "os.listdir()"
   ]
  },
  {
   "cell_type": "code",
   "execution_count": 7,
   "metadata": {},
   "outputs": [
    {
     "data": {
      "text/plain": [
       "['cichlid1.jpg',\n",
       " 'cichlid2.jpg',\n",
       " 'cichlid3.jpg',\n",
       " 'cichlid_multi1.jpg',\n",
       " 'cichlid_multi2.jpg',\n",
       " 'cichlid_multi3.jpg',\n",
       " 'isopods.jpg',\n",
       " 'isopods_fish.mp4',\n",
       " 'phyto_445.jpg',\n",
       " 'phyto_469.jpg',\n",
       " 'phyto_586.jpg',\n",
       " 'phyto_bright.jpg',\n",
       " 'snails1.jpg',\n",
       " 'snails2.jpg',\n",
       " 'stickle1.JPG',\n",
       " 'stickle2.JPG',\n",
       " 'stickle3.JPG',\n",
       " 'stickleback_side.jpg',\n",
       " 'stickleback_top.jpg',\n",
       " 'worms.jpg']"
      ]
     },
     "execution_count": 7,
     "metadata": {},
     "output_type": "execute_result"
    }
   ],
   "source": [
    "os.listdir(\"images\")"
   ]
  },
  {
   "cell_type": "markdown",
   "metadata": {},
   "source": [
    "Note that I used the relative path here - full paths of course are also possible. To check where you are, you can use `getcwd` (getCurrentWorkingDirectory):"
   ]
  },
  {
   "cell_type": "code",
   "execution_count": 8,
   "metadata": {},
   "outputs": [
    {
     "data": {
      "text/plain": [
       "'E:\\\\git_repos\\\\phenopype\\\\tutorials'"
      ]
     },
     "execution_count": 8,
     "metadata": {},
     "output_type": "execute_result"
    }
   ],
   "source": [
    "os.getcwd()"
   ]
  },
  {
   "cell_type": "markdown",
   "metadata": {},
   "source": [
    "`listdir`, as the name suggest, creates a list. The list can be accessed with squarebrackets and by giving the position inside you want to have returned. \n",
    "\n",
    "**IMPORTANT:** \n",
    "\n",
    "In python, referencing starts with `0` and not with `1`, as in R for example."
   ]
  },
  {
   "cell_type": "code",
   "execution_count": 9,
   "metadata": {},
   "outputs": [
    {
     "name": "stdout",
     "output_type": "stream",
     "text": [
      "['cichlid1.jpg', 'cichlid2.jpg', 'cichlid3.jpg', 'cichlid_multi1.jpg', 'cichlid_multi2.jpg', 'cichlid_multi3.jpg', 'isopods.jpg', 'isopods_fish.mp4', 'phyto_445.jpg', 'phyto_469.jpg', 'phyto_586.jpg', 'phyto_bright.jpg', 'snails1.jpg', 'snails2.jpg', 'stickle1.JPG', 'stickle2.JPG', 'stickle3.JPG', 'stickleback_side.jpg', 'stickleback_top.jpg', 'worms.jpg']\n",
      "cichlid1.jpg\n"
     ]
    }
   ],
   "source": [
    "image_dir = \"images\"\n",
    "image_list = os.listdir(image_dir)\n",
    "print(image_list)\n",
    "print(image_list[0])"
   ]
  },
  {
   "cell_type": "markdown",
   "metadata": {},
   "source": [
    "So far we have only returned name-strings of our files, but unless our current working directory is the same as the target directory (or we have added it to the `PYTHONPATH`), we need the full or relative path of our files. We can get it using the `path` submodule. Getting the absolute path of a file is usually a two-part coding step: joining the directory path and the names of files within it. The joining operation is done with `join`:"
   ]
  },
  {
   "cell_type": "markdown",
   "metadata": {},
   "source": [
    "Although you can join path strings by simply adding them, this sometimes leads to unexpected results, so better try to avoid it:"
   ]
  },
  {
   "cell_type": "code",
   "execution_count": 10,
   "metadata": {},
   "outputs": [
    {
     "data": {
      "text/plain": [
       "'imagescichlid1.jpg'"
      ]
     },
     "execution_count": 10,
     "metadata": {},
     "output_type": "execute_result"
    }
   ],
   "source": [
    "image_dir + image_list[0] # doesn't work"
   ]
  },
  {
   "cell_type": "code",
   "execution_count": 11,
   "metadata": {},
   "outputs": [
    {
     "data": {
      "text/plain": [
       "'images\\\\cichlid1.jpg'"
      ]
     },
     "execution_count": 11,
     "metadata": {},
     "output_type": "execute_result"
    }
   ],
   "source": [
    "os.path.join(image_dir, image_list[0]) # works"
   ]
  },
  {
   "cell_type": "markdown",
   "metadata": {},
   "source": [
    "Putting it all together, let's try to get the path of all the images in our directory. For this, we need a `for` loop, and an empty list we can populate:"
   ]
  },
  {
   "cell_type": "code",
   "execution_count": 12,
   "metadata": {},
   "outputs": [
    {
     "data": {
      "text/plain": [
       "['images\\\\cichlid1.jpg',\n",
       " 'images\\\\cichlid2.jpg',\n",
       " 'images\\\\cichlid3.jpg',\n",
       " 'images\\\\cichlid_multi1.jpg',\n",
       " 'images\\\\cichlid_multi2.jpg',\n",
       " 'images\\\\cichlid_multi3.jpg',\n",
       " 'images\\\\isopods.jpg',\n",
       " 'images\\\\isopods_fish.mp4',\n",
       " 'images\\\\phyto_445.jpg',\n",
       " 'images\\\\phyto_469.jpg',\n",
       " 'images\\\\phyto_586.jpg',\n",
       " 'images\\\\phyto_bright.jpg',\n",
       " 'images\\\\snails1.jpg',\n",
       " 'images\\\\snails2.jpg',\n",
       " 'images\\\\stickle1.JPG',\n",
       " 'images\\\\stickle2.JPG',\n",
       " 'images\\\\stickle3.JPG',\n",
       " 'images\\\\stickleback_side.jpg',\n",
       " 'images\\\\stickleback_top.jpg',\n",
       " 'images\\\\worms.jpg']"
      ]
     },
     "execution_count": 12,
     "metadata": {},
     "output_type": "execute_result"
    }
   ],
   "source": [
    "filepaths = [] # square-brakets make an empty list\n",
    "names = os.listdir(image_dir) # making a list of all the files names inside a directory\n",
    "\n",
    "for i in names: # looping along our list of names\n",
    "    filepath = os.path.join(image_dir, i) # joining name and path strings \n",
    "    filepaths.append(filepath) # appending the joint string to the list\n",
    "    \n",
    "filepaths # showing the list content\n"
   ]
  },
  {
   "cell_type": "markdown",
   "metadata": {},
   "source": [
    "## Images in OpenCV <a name=\"images\"></a>\n",
    "\n",
    "Let's import another module. In fact _the_ module that phenopype is built around: OpenCV (see the [resources](resources.html#opencv) section of the documentation). Note: sometimes the modules are called differently than their bindings in python, e.g., for opencv, we have to call `cv2`. Once imported, we then can use a basic opencv function: importing an image as an array using `imread`."
   ]
  },
  {
   "cell_type": "code",
   "execution_count": 13,
   "metadata": {},
   "outputs": [],
   "source": [
    "import cv2\n",
    "img = cv2.imread(\"images/isopods.jpg\")"
   ]
  },
  {
   "cell_type": "markdown",
   "metadata": {},
   "source": [
    "About digital images: `cv2.imread` converts a digital image file to an array, a stack of three matrices containing pixel wise information on the red, green and blue channel of an image, which - taken together - creates the colour image. To learn more about digital images and computer vision, check the [resources](resources.html#computer-vision) section of the documentation."
   ]
  },
  {
   "cell_type": "markdown",
   "metadata": {},
   "source": [
    "Lets examine our image. It is not informative neither possible to look at the whole matrix of pixel values inside the console, but sometimes it is useful to look at specific features of your image, which we can acess directly from the image-object. For example, the dimensions, using `shape`:"
   ]
  },
  {
   "cell_type": "code",
   "execution_count": 14,
   "metadata": {},
   "outputs": [
    {
     "data": {
      "text/plain": [
       "(1400, 2100, 3)"
      ]
     },
     "execution_count": 14,
     "metadata": {},
     "output_type": "execute_result"
    }
   ],
   "source": [
    "img.shape"
   ]
  },
  {
   "cell_type": "markdown",
   "metadata": {},
   "source": [
    "Or the mean pixel intensity:"
   ]
  },
  {
   "cell_type": "code",
   "execution_count": 15,
   "metadata": {},
   "outputs": [
    {
     "data": {
      "text/plain": [
       "172.50664954648525"
      ]
     },
     "execution_count": 15,
     "metadata": {},
     "output_type": "execute_result"
    }
   ],
   "source": [
    "img.mean()"
   ]
  },
  {
   "cell_type": "markdown",
   "metadata": {},
   "source": [
    "We can look at the picture with `imshow`. However, because many `opencv` functions are  GUI based, we need to add some more controller functions so we can control it."
   ]
  },
  {
   "cell_type": "code",
   "execution_count": 16,
   "metadata": {},
   "outputs": [],
   "source": [
    "cv2.namedWindow('image', cv2.WINDOW_NORMAL) # open a resizable window\n",
    "cv2.imshow('image',img) # show the image in that window\n",
    "cv2.waitKey(0) # do nothing until a keystroke ...\n",
    "cv2.destroyAllWindows() # ... and then close all open windows"
   ]
  },
  {
   "cell_type": "markdown",
   "metadata": {},
   "source": [
    "## Images in phenopype\n",
    "Complicated. Luckily, phenopype has a neat functions to load and display images. It even can even zoom in using the scroll wheel: "
   ]
  },
  {
   "cell_type": "code",
   "execution_count": 17,
   "metadata": {},
   "outputs": [
    {
     "ename": "ModuleNotFoundError",
     "evalue": "No module named 'phenopype'",
     "output_type": "error",
     "traceback": [
      "\u001b[1;31m---------------------------------------------------------------------------\u001b[0m",
      "\u001b[1;31mModuleNotFoundError\u001b[0m                       Traceback (most recent call last)",
      "\u001b[1;32m<ipython-input-17-7454b093115d>\u001b[0m in \u001b[0;36m<module>\u001b[1;34m\u001b[0m\n\u001b[1;32m----> 1\u001b[1;33m \u001b[1;32mimport\u001b[0m \u001b[0mphenopype\u001b[0m \u001b[1;32mas\u001b[0m \u001b[0mpp\u001b[0m\u001b[1;33m\u001b[0m\u001b[1;33m\u001b[0m\u001b[0m\n\u001b[0m\u001b[0;32m      2\u001b[0m \u001b[0mimg\u001b[0m \u001b[1;33m=\u001b[0m \u001b[0mpp\u001b[0m\u001b[1;33m.\u001b[0m\u001b[0mload_image\u001b[0m\u001b[1;33m(\u001b[0m\u001b[1;34m\"images/isopods.jpg\"\u001b[0m\u001b[1;33m)\u001b[0m\u001b[1;33m\u001b[0m\u001b[1;33m\u001b[0m\u001b[0m\n\u001b[0;32m      3\u001b[0m \u001b[0mpp\u001b[0m\u001b[1;33m.\u001b[0m\u001b[0mshow_image\u001b[0m\u001b[1;33m(\u001b[0m\u001b[0mimg\u001b[0m\u001b[1;33m)\u001b[0m\u001b[1;33m\u001b[0m\u001b[1;33m\u001b[0m\u001b[0m\n",
      "\u001b[1;31mModuleNotFoundError\u001b[0m: No module named 'phenopype'"
     ]
    }
   ],
   "source": [
    "import phenopype as pp\n",
    "img = pp.load_image(\"images/isopods.jpg\")\n",
    "pp.show_image(img)"
   ]
  },
  {
   "cell_type": "markdown",
   "metadata": {},
   "source": [
    "`show_image` can also work with lists of arrays / images, to show multiple images at the same time. Individual zoom possible. Close with `Esc` or `Enter`"
   ]
  },
  {
   "cell_type": "code",
   "execution_count": 21,
   "metadata": {},
   "outputs": [],
   "source": [
    "import os\n",
    "images = [] # square-brakets make an empty list\n",
    "names = os.listdir(\"images\") # making a list of all the files names inside a directory\n",
    "\n",
    "for i in names: # looping along our list of names\n",
    "    filepath = os.path.join(\"images\", i) # joining name and path strings \n",
    "    images.append(pp.load_image(filepath)) # load images and store them in list\n",
    "\n",
    "pp.show_image(images, position_offset=100) ## show all images in the image folder in the tutorial directory"
   ]
  }
 ],
 "metadata": {
  "kernelspec": {
   "display_name": "Python 3",
   "language": "python",
   "name": "python3"
  },
  "language_info": {
   "codemirror_mode": {
    "name": "ipython",
    "version": 3
   },
   "file_extension": ".py",
   "mimetype": "text/x-python",
   "name": "python",
   "nbconvert_exporter": "python",
   "pygments_lexer": "ipython3",
   "version": "3.8.3"
  }
 },
 "nbformat": 4,
 "nbformat_minor": 2
}
