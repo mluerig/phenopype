{
 "cells": [
  {
   "cell_type": "markdown",
   "metadata": {},
   "source": [
    "# Tutorial 3: Phenopype's workflows: prototyping, low throughput, high throughput\n",
    "\n",
    "Analysis of scientific images can be an iterative process that may require users to go back and forth, try different processing steps and check the obtained results. At later stages, when the appropriate functions and settings have been identified and efficient data production has priority, the workflow should be streamlined to increase throughput and reproducibility. In phenopype, users can choose from three different workflows that accomodate all stages of scientific image analysis:\n",
    "\n",
    "---\n",
    "\n",
    "| Workflow | Use case | Principle of operation | Explicitness | Reproducibility |\n",
    "|:---|:---------|:------------|:---|:---|\n",
    "| [**Prototyping**](#Prototyping-worflow) | analysis prototyping, self education and evaluation | images are loaded as arrays and functions are applied one by one | High | Low |\n",
    "| [**Low throughput**](#Low-throughput-worflow) | single pictures and very small datasets | images are loaded into phenopype containers | Medium | low |\n",
    "| [**High throughput**](#High-throughput-worflow) | medium and large datasets - default analysis workflow | images are loaded from a phenopype project directory tree, and analyzed with the [pype](api.html#pype-high-throughput-function) method | Low | High |\n",
    "\n",
    "---\n",
    "\n",
    "The basic principle is the same for all three workflows: users assemble a stack (or sequence) of computer vision functions from phenopypes five core modules (preprocessing, segmentation, measurement, export, visualization - for an overview check the [API reference](api.html)). The major differences between the three workflows are the degree of user interaction, visual feedback, code-explicitness, as well as reproducibility. \n",
    "\n",
    "In the **prototyping** and **low throughput** workflow, users write a phenopype function stack in directly in Python code. This is recommended for users who wish to familiarize themselves with the basic principles of computer vision and to explore the phenopype function library. The **high throughput** workflow is for production stage, when image analysis should be efficient and reproducibile for other users and scientists.\n",
    "\n",
    "To get started with Phenopype's high througput workflow, [see below](#High-throughput-worflow), check [Tutorial 3](tutorial_3_managing_projects_1.ipynb) and consult the [pype section in the API reference](api.html#pype-method)."
   ]
  },
  {
   "cell_type": "markdown",
   "metadata": {},
   "source": [
    "<center>\n",
    "<div style=\"width:600px; text-align: left\" >\n",
    "    \n",
    "![Phenopype workflow example](_assets/workflow_example_case.png)\n",
    "    \n",
    "**Fig. 1:** Workflow demonstration using a stained stickleback (*Gasterosteus aculeatus*) stained with alizarin red. Traits of interest are bone-plate area and shape, and, within the detected plates, pixel intensities that denote bone-density. The computer vision functions used to extract the trait of interest (bone-plate area, shape and pixel density) are the same in all workflows, but workflows differ in the amount of code necessary and in reproducibility. \n",
    "    \n",
    "</div>\n",
    "</center>"
   ]
  },
  {
   "cell_type": "markdown",
   "metadata": {},
   "source": [
    "## Prototyping worflow"
   ]
  },
  {
   "cell_type": "markdown",
   "metadata": {},
   "source": [
    "The low throughput workflow starts with the path to an image that is stored on the hard drive. `load_image` imports the file as a three-channel [1] numpy array (*ndarray*), together with image meta data (file name, exposure, dimensions, etc.) as a pandas *DataFrame*. The array gets passed on to the `threshold` function, which will return a binary array of the same dimensions. This array needs to be passed on to the `find_contours` function, which will return a dictionary with the detected contours. This dictionary, together with the original array, can then be passed to the `colour_intensity` function. This function will collect the average color value from within the perimeter coordinates for each contour and return a pandas dataframe containing those values. Finally, the dataframe can be exported as a csv file with `save_colour`. By passing on the initially created meta-data, the function will automatically expand the provided columns of meta-info into the exported csv.  \n",
    "\n",
    "[1] to learn more about the basics of Computer Vision check the [resources section](resources.html) of the phenopype documentation. "
   ]
  },
  {
   "cell_type": "markdown",
   "metadata": {},
   "source": [
    "![Phenopype prototyping workflow](_assets/workflow_proto.png)\n",
    "<strong>Fig. 2:</strong> Schematic of Phenopype's prototyping workflow"
   ]
  },
  {
   "cell_type": "code",
   "execution_count": 10,
   "metadata": {},
   "outputs": [
    {
     "name": "stdout",
     "output_type": "stream",
     "text": [
      "no meta-data found\n",
      "- create mask\n",
      "- include mask \"mask1\" pixels\n",
      "- contours saved under ../_temp/output\\contours.csv (overwritten).\n"
     ]
    }
   ],
   "source": [
    "import phenopype as pp\n",
    "\n",
    "filepath = r\"images/stickleback_side.jpg\"\n",
    "\n",
    "## load image as array, supply image_data (DataFrame containing meta data)\n",
    "image, image_data = pp.load_image(filepath, df = True, meta=True)\n",
    "## draw mask\n",
    "mask = pp.preprocessing.create_mask(image, tool=\"polygon\") \n",
    "\n",
    "## thresholding converts multichannel to binary image\n",
    "image_bin = pp.segmentation.threshold(image, method=\"adaptive\", \n",
    "                                      channel=\"red\", blocksize=199, \n",
    "                                      constant=5, df_masks=mask) \n",
    "## perform morphology operations on binarized image\n",
    "image_morph = pp.segmentation.morphology(image_bin, operation=\"close\", \n",
    "                                         shape=\"ellipse\", kernel_size=3, \n",
    "                                         iterations=3) \n",
    "## detect contours ony binary image\n",
    "contours = pp.segmentation.find_contours(image_morph, df_image_data=image_data, \n",
    "                                         retrieval=\"ext\", min_area=150) \n",
    "## draw detected contours onto canvas\n",
    "image_drawn = pp.visualization.draw_contours(image, \n",
    "                                             df_contours=contours)  \n",
    "## export contours to csv\n",
    "pp.export.save_contours(contours, dirpath = r\"../_temp/output\")\n",
    "## show convas\n",
    "pp.show_image(image_drawn)"
   ]
  },
  {
   "cell_type": "markdown",
   "metadata": {},
   "source": [
    "While analyzing the image, you can explore output from the different steps to see what is going on. For example, the binary image resulting from the thresholding: "
   ]
  },
  {
   "cell_type": "code",
   "execution_count": 11,
   "metadata": {},
   "outputs": [],
   "source": [
    "pp.show_image(image_bin)"
   ]
  },
  {
   "cell_type": "markdown",
   "metadata": {},
   "source": [
    "## Low throughput worflow"
   ]
  },
  {
   "cell_type": "markdown",
   "metadata": {},
   "source": [
    "The `load_image` function can also load an image into a phenopype container, which is a python class that incorporates loaded images, dataframes, detected contours, intermediate output, etc. so that they are available for inspection or storage at the end of the analysis. The advantage of using containers is that they don’t litter the global environment and namespace, while still containing all intermediate steps (e.g. binary masks or contour DataFrames). Containers can be used manually to analyze images, but typically they are used automatically within the pype-routine that is part of phenoype's high throughput workflow (see below)."
   ]
  },
  {
   "cell_type": "markdown",
   "metadata": {},
   "source": [
    "![Phenopype low throughput workflow](_assets/workflow_low.png)"
   ]
  },
  {
   "cell_type": "code",
   "execution_count": 1,
   "metadata": {},
   "outputs": [
    {
     "name": "stdout",
     "output_type": "stream",
     "text": [
      "dirpath defaulted to file directory - E:\\git_repos\\phenopype\\tutorials\\images\n",
      "no meta-data found\n",
      "Directory to save files set at - E:\\git_repos\\phenopype\\tutorials\\images\n",
      "- create mask\n",
      "- include mask \"mask1\" pixels\n",
      "Found 6 contours that match criteria.\n",
      "- raw image\n",
      "- contours saved under ../_temp/output\\contours.csv.\n"
     ]
    }
   ],
   "source": [
    "import phenopype as pp\n",
    "\n",
    "filepath = r\"images/stickleback_side.jpg\"\n",
    "\n",
    "## load image as a phenopype container which will include all images, dataframes, \n",
    "## detected contours and intermediate output\n",
    "container = pp.load_image(filepath, cont=True, meta=True) \n",
    "\n",
    "## afterwards, same as in the prototyping workflow, functions are applied \n",
    "## directly to the container\n",
    "pp.preprocessing.create_mask(container, tool=\"polygon\") \n",
    "pp.segmentation.threshold(container, method=\"adaptive\", channel=\"red\", \n",
    "                          blocksize=199, constant=5) # 3/4\n",
    "pp.segmentation.morphology(container, operation=\"close\", shape=\"ellipse\", \n",
    "                           kernel_size=3, iterations=3) # 5\n",
    "pp.segmentation.find_contours(container, retrieval=\"ext\", min_area=150) # 6\n",
    "pp.visualization.select_canvas(container, canvas=\"raw\")\n",
    "pp.visualization.draw_contours(container) # 6\n",
    "pp.export.save_contours(container, dirpath = r\"../_temp/output\")\n",
    "pp.show_image(container.canvas) "
   ]
  },
  {
   "cell_type": "markdown",
   "metadata": {},
   "source": [
    "Although the intermediate steps from the functions are not present as objects in the namespace, you can access and evaluate it from the container. Again, we will look at the binary image:"
   ]
  },
  {
   "cell_type": "code",
   "execution_count": 13,
   "metadata": {},
   "outputs": [],
   "source": [
    "pp.show_image(container.image_bin)"
   ]
  },
  {
   "cell_type": "markdown",
   "metadata": {},
   "source": [
    "Use `dir` to inspect all the components of the container:"
   ]
  },
  {
   "cell_type": "code",
   "execution_count": 14,
   "metadata": {},
   "outputs": [
    {
     "name": "stdout",
     "output_type": "stream",
     "text": [
      "['__class__', '__delattr__', '__dict__', '__dir__', '__doc__', '__eq__', '__format__', '__ge__', '__getattribute__', '__gt__', '__hash__', '__init__', '__init_subclass__', '__le__', '__lt__', '__module__', '__ne__', '__new__', '__reduce__', '__reduce_ex__', '__repr__', '__setattr__', '__sizeof__', '__str__', '__subclasshook__', '__weakref__', 'canvas', 'df_contours', 'df_image_data', 'df_image_data_copy', 'df_masks', 'dirpath', 'image', 'image_bin', 'image_copy', 'image_data', 'image_gray', 'image_mod', 'load', 'reset', 'save', 'save_suffix']\n"
     ]
    }
   ],
   "source": [
    "print(dir(container))"
   ]
  },
  {
   "cell_type": "markdown",
   "metadata": {},
   "source": [
    "## High throughput worflow"
   ]
  },
  {
   "cell_type": "markdown",
   "metadata": {},
   "source": [
    "The pype routine is phenopype’s standard method to analyse medium and large image datasets, where a function stack is constructed with the human readable `yaml` syntax ([see below](#yaml-syntax)). Users can execute the pype method on a filepath, an array, or a phenopype directory, which always will trigger three actions: \n",
    "\n",
    "1. open the contained yaml configuration with the default OS text editor\n",
    "2. parse the contained functions and execute them in the sequence\n",
    "3. open a Python-window showing the processed image. \n",
    "\n",
    "After one iteration of these steps, users can evaluate the results and decide to modify the opened configuration file (e.g. either change function parameters or add new functions), and run the pype again, or to terminate the pype and save all results. The processed image, any extracted phenotypic information, as well as the modified config-file is stored inside the image directory. Together with the raw images, which may be either stored separately or within the directory tree, users can thereby provide the full image analysis pipeline to anyone who wishes to reproduce the obtained results. "
   ]
  },
  {
   "cell_type": "markdown",
   "metadata": {},
   "source": [
    "**Further information** \n",
    "\n",
    "- For more detailed information on the `pype` method, configuration files, and default behavior, see [below](#yaml-syntax), and the [pype section of the API reference](api.html#pype-method)\n",
    "- For more information on how to use the `pype` in conjunction with phenopype projects please refer to the [Tutorial 3](tutorial_3_managing_projects_1.ipynb).\n",
    "- Also, check the examples (e.g. [Example 2](example_2_landmarks_stickleback.ipynb)), which include code for both low and high throughput."
   ]
  },
  {
   "cell_type": "markdown",
   "metadata": {},
   "source": [
    "![Phenopype high throughput workflow](_assets/workflow_high.png)"
   ]
  },
  {
   "cell_type": "code",
   "execution_count": 2,
   "metadata": {},
   "outputs": [
    {
     "name": "stdout",
     "output_type": "stream",
     "text": [
      "dirpath defaulted to file directory - E:\\git_repos\\phenopype\\tutorials\\images\n",
      "Directory to save files set at - E:\\git_repos\\phenopype\\tutorials\\images\n",
      "Did not find \"pype_config_demo.yaml\" -  create at following location? (y/n):\n",
      "../_temp/output\\pype_config_demo.yaml\n",
      "y\n",
      "pype config generated from demo1.\n",
      "Created and saved new pype config \"pype_config_demo.yaml\" in folder ../_temp/output\n",
      "../_temp/output\\pype_config_demo.yaml\n",
      "\n",
      "\n",
      "------------+++ new pype iteration 2020:08:27 17:09:47 +++--------------\n",
      "\n",
      "\n",
      "Nothing loaded.\n",
      "PREPROCESSING\n",
      "create_mask\n",
      "- create mask\n",
      "SEGMENTATION\n",
      "threshold\n",
      "- include mask \"mask1\" pixels\n",
      "morphology\n",
      "find_contours\n",
      "Found 6 contours that match criteria.\n",
      "VISUALIZATION\n",
      "select_canvas\n",
      "- invalid selection - defaulting to raw image\n",
      "draw_contours\n",
      "draw_masks\n",
      " - show mask: mask1.\n",
      "EXPORT\n",
      "save_contours\n",
      "- contours saved under ../_temp/output\\contours_demo.csv.\n",
      "save_canvas\n",
      "- canvas saved under ../_temp/output\\canvas_demo.jpg.\n",
      "AUTOSAVE\n",
      "save_masks\n",
      "- masks saved under ../_temp/output\\masks_demo.csv.\n",
      "\n",
      "\n",
      "TERMINATE\n"
     ]
    },
    {
     "data": {
      "text/plain": [
       "<phenopype.main.pype at 0x247a2b31188>"
      ]
     },
     "execution_count": 2,
     "metadata": {},
     "output_type": "execute_result"
    }
   ],
   "source": [
    "import phenopype as pp\n",
    "\n",
    "filepath = r\"images/stickleback_side.jpg\"\n",
    "\n",
    "pp.pype(image=filepath, # input - can be also an array or a phenopype directory \n",
    "        dirpath = r\"../_temp/output\", ## where output is stored - folder needs to exist\n",
    "        name=\"demo\", # name of the  pype routine, appended to all results-files \n",
    "        config_preset=\"demo1\" # template for the analysis - you can create your own!\n",
    "        )"
   ]
  },
  {
   "cell_type": "markdown",
   "metadata": {},
   "source": [
    "At the current stage of development, the pype method is prone to errors resulting from incorrect yaml syntax, e.g. missing spaces or wrong indentation. The pype will still try to run from bottom to top and pass exceptions, but may result in errors that cascade through the function stack. Consult the section [below](#yaml-syntax) on how to modify yaml-syntax.\n",
    "\n",
    "Moreover, the pype will trigger specific behavior of some functions to facilitate user experience when working with large data sets. Fore example, some functions get called automatically (e.g. from the `visualization` and `export` modules), but they don't necessarily show default behavior as documented in the api (e.g. `visualization.save_canvas` will always have `overwrite=True` to save output canvas).  Consult the section [below](#pype-behavior) to learn about pype-behavior.\n"
   ]
  },
  {
   "cell_type": "markdown",
   "metadata": {},
   "source": [
    "### yaml-syntax"
   ]
  },
  {
   "cell_type": "markdown",
   "metadata": {},
   "source": [
    "The configuration files needed to run the pype are written in yaml (a recursive acronym for \"YAML Ain't Markup Language\"). In principle, these are just text files that follow a specific syntax that follows rules for [indentation and separation](https://www.tutorialspoint.com/yaml/yaml_indentation_and_separation.htm)."
   ]
  },
  {
   "cell_type": "code",
   "execution_count": 16,
   "metadata": {},
   "outputs": [
    {
     "name": "stdout",
     "output_type": "stream",
     "text": [
      "\n",
      "preprocessing:\n",
      "- create_mask: \n",
      "    tool: polygon\n",
      "segmentation:\n",
      "- threshold:\n",
      "    method: adaptive \n",
      "    blocksize: 199\n",
      "    constant: 5\n",
      "    channel: red\n",
      "- morphology:\n",
      "    operation: close\n",
      "    shape: ellipse\n",
      "    kernel_size: 3\n",
      "    iterations: 3\n",
      "- find_contours:\n",
      "    retrieval: ext\n",
      "    min_diameter: 0\n",
      "    min_area: 150\n",
      "measurement:\n",
      "visualization:\n",
      "- select_canvas:\n",
      "    canvas: image\n",
      "- draw_contours:\n",
      "    line_width: 2\n",
      "    label_width: 1\n",
      "    label_size: 1\n",
      "    fill: 0.3\n",
      "- draw_masks\n",
      "export:\n",
      "- save_contours:\n",
      "    overwrite: true\n",
      "- save_canvas:\n",
      "    resize: 0.5\n",
      "    overwrite: true\n",
      "\n"
     ]
    }
   ],
   "source": [
    "import phenopype as pp\n",
    "print(pp.presets.demo1)"
   ]
  },
  {
   "cell_type": "markdown",
   "metadata": {},
   "source": [
    "The text inside the yaml configuration files is parsed by Python from top to bottom, i.e. converted to modules and functions in Phenopype. The first level without any indentation, e.g. from the above example `segmentation`, `visualization` and `export`, denote from the core module that a function is part of. The second level, e.g. `- threshold` and `- find_contours` are functions inside the `segmentation` module. The third level, e.g. `method: otsu` and `blocksize: 99`, are arguments passed on to the function. Following this notation, the yaml parser in Python would interpret the first item in `segmentation` as follows:"
   ]
  },
  {
   "cell_type": "markdown",
   "metadata": {},
   "source": [
    "pp.segmentation.threshold(image, method=\"otsu\", blocksize=99, constant=1, value=127, channel=\"gray\")"
   ]
  },
  {
   "cell_type": "markdown",
   "metadata": {},
   "source": [
    "When running the pype routine, `image` is automatically loaded and passed to all functions. Apart from that you can add or remove functions as you like. Note the hyphen followed by a space in front (`- `) a function: this notation indicates that during parsing the items are interpreted as part of a list. This important, as it allows you to specify the same function as many times as you want.\n",
    "\n",
    "When adding or modifying modules and functions, it is important to keep in mind that the **function stack is executed sequentially**. So, if you want to perform a `morphology` operation on a binary images, it should come *after* and not before the main segmentation function (in this case `threshold`). Also, the order for modules should always be:\n",
    "\n",
    "**preprocessing > segmentation > measurement > visualization > export**"
   ]
  },
  {
   "cell_type": "markdown",
   "metadata": {},
   "source": [
    "Here are the most important syntax rules summed up:\n",
    "\n",
    "- **indentation rules:**  0 spaces for modules, hyphen+space in front of functions, 4 spaces in front of arguments\n",
    "- **separation rules:** modules and functions with arguments are followed by a colon (`:`) and a new line; functions without specified arguments don't need a colon; arguments are followed by a colon, a space and then the value\n",
    "- modules and functions can be emtpy (e.g. see `measurement:` and `- draw_masks` above), but function arguments *cannot* (e.g. `overwrite:` needs to be `true` or `false`)\n",
    "- as per Python syntax, optional function arguments can, but don't have to be specified and the functions will just run on default values\n",
    "- if you need to add modules (not all presets contain all modules), stick to this order: \n",
    "preprocessing > segmentation > measurement > visualization > export\n",
    "- functions can be added multiple times, but sometimes their output may be overwtritten (e.g. `- threshold` only works once, `- create_mask` multiple times [1])\n",
    " \n",
    "\n",
    "[1] Note that one `create_mask` mask operation already can create multiple masks - see [Tutorial 5](tutorial_5_gui_interactions.ipynb). "
   ]
  },
  {
   "cell_type": "markdown",
   "metadata": {},
   "source": [
    "### pype behavior"
   ]
  },
  {
   "cell_type": "markdown",
   "metadata": {},
   "source": [
    "The `pype` function has specific implicit [1] behavior that aims at supporting speed and robustness when working in \"production\" (i.e. when performing the actual analysis of large image datasets compared to prototyping and low throughput workflow). Here I list some important aspects of that behavior."
   ]
  },
  {
   "cell_type": "markdown",
   "metadata": {},
   "source": [
    "#### Window control\n",
    "\n",
    "Handling the popped up image and text windows (if your text window didn't pop up, check the [installation instructions](installation.html#choose-a-text-editor)).\n",
    "\n",
    "1. Editing and saving the opened configuration file will close the image window, run the functions in the control file, and show the updated results. \n",
    "2. Closing the image window manually (with the X button in the upper right), also runs the functions in the control file, and show the updated results.\n",
    "3. `Esc` will close all windows and interrupt the pype routine (`Esc` triggers `sys.exit()`, which will also end a Python session if run from the command line) [2,3].\n",
    "4. Each step that requires user interaction (e.g. `create_mask` or `landmarks`) needs to be confirmed with `Return` until the next function in the sequence is executed [2,3].\n",
    "5. At the end of the analysis, when the final steps (visualization and export functions) have run, you can end the pype routine with another `Return` keystroke [2,3].  \n",
    "\n",
    "\n",
    "[1] At this point, it's not configurable, but later versions will allow to customize the behavior.\n",
    "\n",
    "[2] Sometimes keystrokes will not be recognized, so they need to be executed multiple times - see [Tutorial 5](tutorial_5_gui_interactions.ipynb).\n",
    "\n",
    "[3] The image window needs to be highlighted to detect keystrokes, not the text editor or the console - see [Tutorial 5](tutorial_5_gui_interactions.ipynb). \n"
   ]
  },
  {
   "cell_type": "markdown",
   "metadata": {},
   "source": [
    "#### Function execution\n",
    "\n",
    "Handling the function stack specified in the config files\n",
    "\n",
    "1. The `pype` function will execute all functions in sequence and overwrite past iterations, except data from interactive user input (e.g. `create_mask` or `landmarks` - see point 2.).\n",
    "2. To overwrite interactive user input, set the argument `overwrite: true` at the specific function in the configuration file. **Remember to remove it after the next run. [1]**\n",
    "3. If a `pype` is initialized on a directory (either from a Phenopype project or a directory specified with the argument `dirpath`), it will attempt to load input data (e.g. masks) that contain the provided `name` argument [2].\n",
    "4. To edit the loaded input data,  set the argument `overwrite: true` as explained in point 2.\n",
    "\n",
    "[1] If you forget to remove an overwrite argument and are prompted to overwrite previous input, simply remove the `overwrite: true` argument, and save to run the `pype` again, it will fall back onto input from the last iteration.\n",
    "\n",
    "[2] For example, `pp.pype(image, name=\"run1\", dirpath=\"path\\to\\directory)` will attempt to load any saved files in `directory` that contains the suffix `\"run1\"` (e.g. `\"masks_run1.csv\"`).<br>"
   ]
  },
  {
   "cell_type": "markdown",
   "metadata": {},
   "source": [
    "#### Visualizing the results\n",
    "\n",
    "Handling aspects of visual feedback (can be completely suppressed by setting `feedback=False` in the `pype` arguments).\n",
    "\n",
    "1. Visual feedback is always generated automatically by an internal function that show results (i.e. output from `landmarks`, `find_contours` or `create_mask`) on top of a \"canvas\". \n",
    "2. The canvas can be the image at any step of analytic process (i.e. raw image, binary image, or a colour channel [gray, red, green or blue]) and is selected with `- select_canvas` as part of the `visualization` module. \n",
    "3. If `- select_canvas` is not specified explicitly, it is called automatically and defaults to the raw image as canvas. \n",
    "4. Output from all functions, needs to be specified manually. So, after using `- landmarks`, `- draw_landmarks` should be called in the `visualization` module. [1]\n",
    "5. Visual parameters of interactive tools (e.g. `point_size` or `line_thickness`) is specified separately in the respective function, *and* in the `visualization` module. \n",
    "\n",
    "[1] Experimental: use the flag `autoshow=True` in the `pype` arguments to automatically show results.  "
   ]
  },
  {
   "cell_type": "markdown",
   "metadata": {},
   "source": [
    "#### Exporting the results\n",
    "\n",
    "Saving results and canvas for quality control.\n",
    "\n",
    "1. All results are saved automatically, even if the respective functions in `export` are not specified, with the `name` argument in `pype` as suffix [1,2]. \n",
    "2. If a file already exist in the directory, and the respective function is *not* listed under `export:`, then it *will not* be overwritten. If an export function *is* specified under `export:`, it *will overwrite* any existing file [3]\n",
    "3. The canvas is an exception: it will always be saved and always be overwritten to show the output from the last iteration. However, users can modify the canvas name with `name` in the arguments to save different output side by side [3].\n",
    "\n",
    "[1] Experimental: use the flag `autosave=False` in the `pype` arguments to deactivate this behavior.\n",
    "\n",
    "[2] For example, `pp.pype(image, name=\"run1\")` will save `\"masks_run1.csv\"` or `\"contours_run1.csv\"`. \n",
    "\n",
    "[3] For example, listing `- save_landmarks` under `export:` will overwrite `landmarks_run1.csv`\n",
    "\n",
    "[4] For example, `name: binary` under `- save_canvas:` save the canvas as `canvas_binary.jpg`"
   ]
  },
  {
   "cell_type": "code",
   "execution_count": null,
   "metadata": {},
   "outputs": [],
   "source": []
  }
 ],
 "metadata": {
  "kernelspec": {
   "display_name": "Python 3",
   "language": "python",
   "name": "python3"
  },
  "language_info": {
   "codemirror_mode": {
    "name": "ipython",
    "version": 3
   },
   "file_extension": ".py",
   "mimetype": "text/x-python",
   "name": "python",
   "nbconvert_exporter": "python",
   "pygments_lexer": "ipython3",
   "version": "3.7.9"
  }
 },
 "nbformat": 4,
 "nbformat_minor": 4
}
