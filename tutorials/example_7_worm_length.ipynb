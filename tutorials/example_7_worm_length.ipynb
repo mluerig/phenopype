{
 "cells": [
  {
   "cell_type": "markdown",
   "metadata": {},
   "source": [
    "# Example 7: Measuring worm length\n",
    "\n",
    "Body length is a commonly measured trait. However, live animals are typically not well behaved in front of camera: typically the body is not aligned straight, which makes length measure difficult and sometimes time consuming. Some computer vision can help here, such as skeletonization (https://en.wikipedia.org/wiki/Topological_skeleton) for an acurate semi automatic approach, and polyline drawing for a less acurate, manual aproach.\n",
    "\n",
    "Here I demonstrate how to automatically measure the length of california blackworms (*Lumbriculus variegatus*) in 6 well plates by dragging a mask around them. A future implementation will like include a variant of [Hough transformation](https://en.wikipedia.org/wiki/Hough_transform) to automatically detect the circles of the wellplates for a full automatic workflow. \n",
    "\n",
    "**Note:** For details on the differen workflows (prototyping-, low throughput- and high throughout) see [Tutorial 2](tutorial_2_phenopype_workflow.ipynb). Not all examples include the prototyping workflow."
   ]
  },
  {
   "cell_type": "markdown",
   "metadata": {},
   "source": [
    "<div class=\"row; text-align: left\">\n",
    "    \n",
    "<div class=\"col-md-6\">\n",
    "    \n",
    "![Before](_assets/ex7_before.jpg)\n",
    "    \n",
    "**Input** - Worms placed in 6 well plates\n",
    "</div>\n",
    "<div class=\"col-md-6\">\n",
    "\n",
    "![After](_assets/ex7_after.jpg)\n",
    "    \n",
    "**Results** - extracted body contour (green area) and body length (red line) as a topological skeleton\n",
    "</div>\n",
    "</div>\n"
   ]
  },
  {
   "cell_type": "markdown",
   "metadata": {},
   "source": [
    "## Low throughput\n",
    "\n",
    "First we load the image as a container. If you have saved data before with a specific `save_suffix` (recommended for reproducibility and to not overwrite files) you can reload it if you have provided it at the point of container creation in `load_image`:"
   ]
  },
  {
   "cell_type": "code",
   "execution_count": 1,
   "metadata": {},
   "outputs": [],
   "source": [
    "import phenopype as pp"
   ]
  },
  {
   "cell_type": "code",
   "execution_count": 2,
   "metadata": {},
   "outputs": [],
   "source": [
    "filepath = r\"./images/worms.jpg\"\n",
    "image, img_data = pp.load_image(filepath, df=True)\n",
    "pp.show_image(image)"
   ]
  },
  {
   "cell_type": "markdown",
   "metadata": {},
   "source": [
    "First we drag a rectangle around each worm in each well. Future releases will include \"circle\"-shaped mask tools, and the opportunity to automatically find circles using hough transform - OpenCV is already set up to do so: https://docs.opencv.org/3.4/d4/d70/tutorial_hough_circle.html"
   ]
  },
  {
   "cell_type": "code",
   "execution_count": 4,
   "metadata": {},
   "outputs": [
    {
     "name": "stdout",
     "output_type": "stream",
     "text": [
      "- creating mask\n"
     ]
    }
   ],
   "source": [
    "df_masks = pp.preprocessing.create_mask(image) "
   ]
  },
  {
   "cell_type": "markdown",
   "metadata": {},
   "source": [
    "Next step is to perform the segmentation. To adjust vor variable brightness inside the wells we use the `\"adaptive\"` `threshold` method, and afterwards, `find_contours`. If the worms touch the border of the well, or their own body, you can directly manipulate the binary image using the draw function (two clicks draw a line, or use the argument `tool=\"rectangle\"`. Sometimes a worm may overlap with itself - in that case, use `polylines` to measure it manually."
   ]
  },
  {
   "cell_type": "code",
   "execution_count": 5,
   "metadata": {},
   "outputs": [
    {
     "name": "stdout",
     "output_type": "stream",
     "text": [
      "- including pixels from 6 drawn masks \n"
     ]
    }
   ],
   "source": [
    "image_bin = pp.segmentation.threshold(image, \n",
    "                          df_masks=df_masks,\n",
    "                          method=\"adaptive\", \n",
    "                          blocksize=49, \n",
    "                          constant=5)"
   ]
  },
  {
   "cell_type": "code",
   "execution_count": 6,
   "metadata": {},
   "outputs": [
    {
     "name": "stdout",
     "output_type": "stream",
     "text": [
      "- found 6 contours that match criteria\n"
     ]
    }
   ],
   "source": [
    "## pp.segmentation(draw) # uncomment this if you need to manually separate worms from the well-border\n",
    "df_contours = pp.segmentation.find_contours(image_bin, \n",
    "                                            min_diameter=50)\n",
    "## pp.visualization.polylines(ct) # uncomment this if you need to manually measure a worm\n",
    "# this will measure the longest distance in a curvy object\n",
    "df_contours = pp.measurement.skeletonize(image_bin, \n",
    "                                         img_data,\n",
    "                                         df_contours) "
   ]
  },
  {
   "cell_type": "markdown",
   "metadata": {},
   "source": [
    "Next we draw the output, and save the results (including a visualization)."
   ]
  },
  {
   "cell_type": "code",
   "execution_count": 7,
   "metadata": {},
   "outputs": [
    {
     "name": "stdout",
     "output_type": "stream",
     "text": [
      "- raw image\n",
      "drawing mask: mask1\n"
     ]
    }
   ],
   "source": [
    "canvas = pp.visualization.select_canvas(image, \n",
    "                                        canvas=\"raw\") # first select a background (try \"binary\")\n",
    "canvas = pp.visualization.draw_contours(canvas, \n",
    "                                        df_contours) # this draws both the contour (green) and the skeleton\n",
    "canvas = pp.visualization.draw_masks(canvas, \n",
    "                                     df_masks) # will be skipped if loaded before"
   ]
  },
  {
   "cell_type": "code",
   "execution_count": 8,
   "metadata": {},
   "outputs": [],
   "source": [
    "pp.show_image(canvas)"
   ]
  },
  {
   "cell_type": "code",
   "execution_count": 9,
   "metadata": {},
   "outputs": [
    {
     "name": "stdout",
     "output_type": "stream",
     "text": [
      "- masks saved under _temp/output/ex7\\masks.csv (overwritten).\n",
      "- contours saved under _temp/output/ex7\\contours.csv (overwritten).\n",
      "- canvas saved under _temp/output/ex7\\canvas.jpg (overwritten).\n"
     ]
    }
   ],
   "source": [
    "pp.export.save_masks(df_masks, \n",
    "                     dirpath=r\"_temp/output/ex7\") # \n",
    "pp.export.save_contours(df_contours, \n",
    "                        dirpath=r\"_temp/output/ex7\")\n",
    "pp.export.save_canvas(canvas, \n",
    "                      dirpath=r\"_temp/output/ex7\", resize=1) # resize=1 to have the original sized picture"
   ]
  },
  {
   "cell_type": "markdown",
   "metadata": {},
   "source": [
    "Should a worm superimpose itself it is not possible for the skeletonization algorithm to follow the shape through from beginning to end (e.g. in worm 3 in this example). In that case one has to manually draw a line along the worm using the `polylines` tool. \n",
    "\n",
    "<center>\n",
    "<div style=\"width:300px; text-align: left\" >\n",
    "    \n",
    "![Canvas masking](_assets/ex7_poly.png)\n",
    "    \n",
    "</div>\n",
    "</center>"
   ]
  },
  {
   "cell_type": "code",
   "execution_count": 12,
   "metadata": {},
   "outputs": [
    {
     "name": "stdout",
     "output_type": "stream",
     "text": [
      "- draw polylines\n"
     ]
    }
   ],
   "source": [
    "df_polylines = pp.measurement.polylines(canvas)\n",
    "\n",
    "canvas = pp.visualization.draw_polylines(canvas, \n",
    "                                         df_polylines)"
   ]
  },
  {
   "cell_type": "code",
   "execution_count": 14,
   "metadata": {},
   "outputs": [],
   "source": [
    "pp.show_image(canvas)"
   ]
  },
  {
   "cell_type": "code",
   "execution_count": 15,
   "metadata": {},
   "outputs": [
    {
     "name": "stdout",
     "output_type": "stream",
     "text": [
      "- polylines saved under _temp/output/ex7\\polylines.csv (overwritten).\n"
     ]
    }
   ],
   "source": [
    "pp.export.save_polylines(df_polylines, dirpath=r\"_temp/output/ex7\")"
   ]
  },
  {
   "cell_type": "markdown",
   "metadata": {},
   "source": [
    "Alternatively to the `polylines` tool, one can also use the drawing tool if you just need to separte an endpoint or if the worm touches the border. This should be done on the binary image, *before* the contour are detected. "
   ]
  },
  {
   "cell_type": "markdown",
   "metadata": {},
   "source": [
    "## High throughput"
   ]
  },
  {
   "cell_type": "markdown",
   "metadata": {},
   "source": [
    "As for the other examples I have created a template (`ex7`) with appropriate settings for the example. The template can be passed to the `pype` using `template=\"ex7\"` - see below. "
   ]
  },
  {
   "cell_type": "code",
   "execution_count": 16,
   "metadata": {},
   "outputs": [
    {
     "name": "stdout",
     "output_type": "stream",
     "text": [
      "SHOWING BUILTIN PHENOPYPE TEMPLATE ex7.yaml\n",
      "\n",
      "\n",
      "- preprocessing:\n",
      "  - create_mask\n",
      "- segmentation:\n",
      "  - threshold:\n",
      "      method: adaptive\n",
      "      blocksize: 49\n",
      "      constant: 5\n",
      "  - draw\n",
      "  - find_contours:\n",
      "      retrieval: ccomp\n",
      "      min_diameter: 50\n",
      "      min_area: 0\n",
      "- measurement:\n",
      "  - skeletonize\n",
      "  - polylines\n",
      "- visualization:\n",
      "  - select_canvas:\n",
      "      canvas: image\n",
      "  - draw_contours:\n",
      "      line_width: 2\n",
      "      label_width: 1\n",
      "      label_size: 1\n",
      "      fill: 0.3\n",
      "  - draw_masks\n",
      "  - draw_polylines\n",
      "- export:\n",
      "  - save_contours:\n",
      "      overwrite: true\n"
     ]
    }
   ],
   "source": [
    "import phenopype as pp\n",
    "\n",
    "image_path = r\"./images/worms.jpg\"\n",
    "\n",
    "pp.show_config_template(\"ex7\")"
   ]
  },
  {
   "cell_type": "code",
   "execution_count": 17,
   "metadata": {},
   "outputs": [
    {
     "name": "stdout",
     "output_type": "stream",
     "text": [
      "Directory to save phenopype-container output set to parent folder of image:\n",
      "D:\\workspace\\git\\phenopype\\tutorials\\images\n",
      "pype_config_worms2.yaml already exists - overwrite?\n",
      "y: yes, file will be overwritten and loaded\n",
      "n: no, existing file will be loaded instead\n",
      "To load an existing file, use \"config\" instead of \"template\".y\n",
      "New pype configuration created (ex7.yaml) from phenopype template:\n",
      "d:\\workspace\\git\\phenopype\\phenopype\\templates\\ex7.yaml\n",
      "\n",
      "\n",
      "------------+++ new pype iteration 2021:05:10 16:18:55 +++--------------\n",
      "\n",
      "\n",
      "=== AUTOLOAD ===\n",
      "- polylines_worms2.csv\n",
      "- masks_worms2.csv\n",
      "PREPROCESSING\n",
      "create_mask\n",
      "- mask with label mask1 already created (edit/overwrite=False)\n",
      "SEGMENTATION\n",
      "threshold\n",
      "- including pixels from 2 drawn masks \n",
      "draw\n",
      "- drawing\n",
      "zero coordinates - redo drawing!\n",
      "segmentation.draw: ValueError - No objects to concatenate\n",
      "find_contours\n",
      "- found 8 contours that match criteria\n",
      "MEASUREMENT\n",
      "skeletonize\n",
      "polylines\n",
      "- polylines already drawn (overwrite=False)\n",
      "VISUALIZATION\n",
      "select_canvas\n",
      "- invalid selection - defaulting to raw image\n",
      "draw_contours\n",
      "draw_masks\n",
      "drawing mask: mask1\n",
      "draw_polylines\n",
      "EXPORT\n",
      "save_contours\n",
      "- contours saved under _temp/output/ex7\\contours_worms2.csv (overwritten).\n",
      "=== AUTOSAVE ===\n",
      "save_canvas\n",
      "- canvas saved under _temp/output/ex7\\canvas_worms2.jpg (overwritten).\n",
      "save_masks\n",
      "- masks saved under _temp/output/ex7\\masks_worms2.csv (overwritten).\n",
      "save_polylines\n",
      "- polylines saved under _temp/output/ex7\\polylines_worms2.csv (overwritten).\n",
      "\n",
      "\n",
      "------------+++ finished pype iteration +++--------------\n",
      "-------(End with Ctrl+Enter or re-run with Enter)--------\n",
      "\n",
      "\n"
     ]
    },
    {
     "ename": "SystemExit",
     "evalue": "\n\nTERMINATE (by user)",
     "output_type": "error",
     "traceback": [
      "An exception has occurred, use %tb to see the full traceback.\n",
      "\u001b[1;31mSystemExit\u001b[0m\u001b[1;31m:\u001b[0m \n\nTERMINATE (by user)\n"
     ]
    },
    {
     "name": "stderr",
     "output_type": "stream",
     "text": [
      "WARNING: To exit: use 'exit', 'quit', or Ctrl-D.\n"
     ]
    }
   ],
   "source": [
    "pp.pype(image_path, \n",
    "        name=\"worms2\",\n",
    "        dirpath=r\"_temp/output/ex7\", \n",
    "        template=\"ex7\")"
   ]
  },
  {
   "cell_type": "code",
   "execution_count": null,
   "metadata": {},
   "outputs": [],
   "source": []
  }
 ],
 "metadata": {
  "kernelspec": {
   "display_name": "Python 3",
   "language": "python",
   "name": "python3"
  },
  "language_info": {
   "codemirror_mode": {
    "name": "ipython",
    "version": 3
   },
   "file_extension": ".py",
   "mimetype": "text/x-python",
   "name": "python",
   "nbconvert_exporter": "python",
   "pygments_lexer": "ipython3",
   "version": "3.7.9"
  }
 },
 "nbformat": 4,
 "nbformat_minor": 4
}
