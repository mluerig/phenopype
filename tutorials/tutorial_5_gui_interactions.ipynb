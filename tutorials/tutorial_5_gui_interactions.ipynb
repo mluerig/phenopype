{
 "cells": [
  {
   "cell_type": "markdown",
   "metadata": {},
   "source": [
    "# Tutorial 5: GUI interactions (masks, lines and drawing tools)\n",
    "\n",
    "Phenopype uses OpenCV's [High GUI module](https://docs.opencv.org/3.4/d7/dfc/group__highgui.html) to display images and to allow users to interact with images. High GUI has a few pros and cons: \n",
    "\n",
    "```\n",
    "+ native OpenCV GUI (no extra GUI libraries required)\n",
    "+ the module is extremely fast in displaying images \n",
    "+ it can display very large image-arrays (> 10000x10000 pixels)\n",
    "+ it can display multiple images side by side\n",
    "+ interactions (drawing and measuring) are possible \n",
    "\n",
    "- sometimes unstable (e.g. windows are not closed but freeze)\n",
    "- issues with cross plattform stability (e.g. on macOS)\n",
    "- displaying instructions is hacky (text is \"painted\" onto a displayed image) \n",
    "- user input (key strokes and mouse clicks) sometimes isn't captured properly\n",
    "```\n",
    "\n",
    "Currently Phenopype uses the standard GUI libraries that ship with the most recent precompiled `opencv-contrib-python` that are listed on the [Python package index](https://pypi.org/project/opencv-python/), which is `Qt` for Linux and macOS, and `Win32 UI` on Windows. The `Qt` GUI is a bit more userfriendly with builtin buttons, scrollbars, RGB info and zoom ([see the OpenCV docs](https://docs.opencv.org/master/dc/d46/group__highgui__qt.html)), but you don't actually need those things for Phenopype GUI interactions. "
   ]
  },
  {
   "cell_type": "markdown",
   "metadata": {},
   "source": [
    "**Notes regarding High GUI windows in Phenopype** \n",
    "\n",
    "- If you want to close a High GUI window, use `Enter`\n",
    "- If you want to close a High GUI window and quit the Phenoype process that invoked it, use `Esc`\n",
    "- If your High GUI window is frozen, use `Esc`. If the window still does't close, type `cv2.destroyAllWindows()` into the console\n",
    "- If the last step doesn't work, restart the kernel"
   ]
  },
  {
   "cell_type": "markdown",
   "metadata": {},
   "source": [
    "## Show images\n",
    "\n",
    "To show an image, it first has to be loaded as an array using `load_image`. The array can then be passed on to `show_image`, which simply displays an image (no interactions, except zooming in using the mousewheel). The window is closed by keystroke (`Enter`, or `Esc` which closes the window and ends ongoing processes). "
   ]
  },
  {
   "cell_type": "code",
   "execution_count": 1,
   "metadata": {},
   "outputs": [],
   "source": [
    "import phenopype as pp\n",
    "import os"
   ]
  },
  {
   "cell_type": "code",
   "execution_count": null,
   "metadata": {},
   "outputs": [],
   "source": [
    "img = pp.load_image(\"images/stickle1.jpg\") \n",
    "pp.show_image(img,\n",
    "              window_aspect=\"free\" # resize the window\n",
    "             )"
   ]
  },
  {
   "cell_type": "markdown",
   "metadata": {},
   "source": [
    "However, `show_image` can also handle multiple arrays. Here we loop through the *images* folder, attach all images to a list, and pass that list of arrays to the functions - it will give a warning if more than 10 images are being opened at the same time. "
   ]
  },
  {
   "cell_type": "code",
   "execution_count": null,
   "metadata": {},
   "outputs": [],
   "source": [
    "img_list = []\n",
    "for i in os.listdir(\"images\"):\n",
    "    img = pp.load_image(os.path.join(\"images\",i))\n",
    "    img_list.append(img)\n",
    "pp.show_image(img_list)"
   ]
  },
  {
   "cell_type": "markdown",
   "metadata": {},
   "source": [
    "The function has a few more options: "
   ]
  },
  {
   "cell_type": "code",
   "execution_count": null,
   "metadata": {},
   "outputs": [],
   "source": [
    "pp.show_image(img_list, \n",
    "              max_dim=250,           # maximu dimension (in either direction) for the windows\n",
    "              check=False,           # don't issue warning if more than 10 images are opened\n",
    "              position_offset=50,    # window offset if multiple windows are displayed\n",
    "              position_reset=False)  # don't reset position of windows (i.e. window position will be remembered)"
   ]
  },
  {
   "cell_type": "markdown",
   "metadata": {},
   "source": [
    "## Create masks\n",
    "\n",
    "Masking, i.e. removing unwanted parts of an image that contain noise by including or excluding certain parts of the image, is an important preprocessing step in any computer vision workflow. Phenopype's `create_mask` tool provides flexibility when drawing masks.   \n",
    "\n",
    "<center>\n",
    "<div style=\"width:500px; text-align: left\" >\n",
    "    \n",
    "![Create masks](_assets/masks1.gif)\n",
    "    \n",
    "**Fig. 1:** Phenopype's mask tool in action. You can include or exclude certain parts of the image; the resulting coordinates are recognized in subsequent computer vision steps (e.g. thresholding)\n",
    "    \n",
    "</div>\n",
    "</center>"
   ]
  },
  {
   "cell_type": "markdown",
   "metadata": {},
   "source": [
    "Using `create_mask` results in a DataFrame object that contains coordinates of the created mask. You can add multiple \"submasks\" that belong to the same mask layer that don't have to be connected. Finish with `Enter`."
   ]
  },
  {
   "cell_type": "code",
   "execution_count": null,
   "metadata": {},
   "outputs": [],
   "source": [
    "img = pp.load_image(os.path.join(\"images\",'isopods.jpg')) \n",
    "masks = pp.preprocessing.create_mask(img, label=\"tray\")\n",
    "masks"
   ]
  },
  {
   "cell_type": "markdown",
   "metadata": {},
   "source": [
    "The masks DataFrame can also be attached to an existing DataFrame, when provided via `df_image_data`."
   ]
  },
  {
   "cell_type": "code",
   "execution_count": null,
   "metadata": {},
   "outputs": [],
   "source": [
    "img,df = pp.load_image(os.path.join(\"images\",'isopods.jpg'), df=True) \n",
    "masks = pp.preprocessing.create_mask(img, label=\"tray\",df_image_data=df)\n",
    "masks"
   ]
  },
  {
   "cell_type": "markdown",
   "metadata": {},
   "source": [
    "Creating masks like this corresponds to the [prototyping workflow](tutorial_2_phenopype_workflow.ipynb#Prototyping-worflow), which explicitly requires a subsequent call of visualization functions to show the mask that was just created."
   ]
  },
  {
   "cell_type": "code",
   "execution_count": null,
   "metadata": {},
   "outputs": [],
   "source": [
    "canvas = pp.visualization.draw_masks(img, df_masks=masks)    \n",
    "pp.show_image(canvas)"
   ]
  },
  {
   "cell_type": "markdown",
   "metadata": {},
   "source": [
    "Existing mask DataFrames can be updated if they are provided via `df_mask`."
   ]
  },
  {
   "cell_type": "code",
   "execution_count": null,
   "metadata": {},
   "outputs": [],
   "source": [
    "masks = pp.preprocessing.create_mask(img, \n",
    "                                     df_masks=masks, \n",
    "                                     label=\"scale\", \n",
    "                                     include=False # will be automatically drawn in red\n",
    "                                    )\n",
    "canvas = pp.visualization.draw_masks(img, \n",
    "                                     df_masks=masks, \n",
    "                                     label=True, \n",
    "                                     label_colour=\"black\", \n",
    "                                     label_size=3, \n",
    "                                     line_width=2,\n",
    "                                     label_width=4)    \n",
    "pp.show_image(canvas)"
   ]
  },
  {
   "cell_type": "markdown",
   "metadata": {},
   "source": [
    "Try the `polygon` tool - single polygons are finished with `Ctrl`, finish with `Enter` - the last open polyon will automatically be completed."
   ]
  },
  {
   "cell_type": "code",
   "execution_count": null,
   "metadata": {},
   "outputs": [],
   "source": [
    "masks = pp.preprocessing.create_mask(img, df_masks=masks, tool=\"polygon\")\n",
    "canvas = pp.visualization.draw_masks(img, df_masks=masks)    \n",
    "pp.show_image(canvas)"
   ]
  },
  {
   "cell_type": "markdown",
   "metadata": {},
   "source": [
    "## Landmarks, lines, and drawings\n",
    "\n",
    "Functional morphology of organisms is often measured by placing landmarks at specific points that show structural, functional or developmental significance. In Phenopype, this is done using the `landmark` tool. \n",
    "\n",
    "<center>\n",
    "<div style=\"text-align: left\">\n",
    "    \n",
    "![Landmarks in high throughput](_assets/ex2_ht.gif)\n",
    "    \n",
    "**Fig. 2:** Phenopype's landmark tool (here called with the high throughput method). \n",
    "</div>\n",
    "</center>"
   ]
  },
  {
   "cell_type": "code",
   "execution_count": null,
   "metadata": {},
   "outputs": [],
   "source": [
    "img = pp.load_image(os.path.join(\"images\",'stickle1.jpg')) \n",
    "df_lm = pp.measurement.landmarks(img)"
   ]
  },
  {
   "cell_type": "markdown",
   "metadata": {},
   "source": [
    "There are a few more options ..."
   ]
  },
  {
   "cell_type": "code",
   "execution_count": null,
   "metadata": {},
   "outputs": [],
   "source": [
    "df_lm = pp.measurement.landmarks(img, \n",
    "                                 point_size=15, \n",
    "                                 point_colour=\"green\", \n",
    "                                 label_size=2,\n",
    "                                 label_width=3, \n",
    "                                 label_colour=\"blue\") "
   ]
  },
  {
   "cell_type": "markdown",
   "metadata": {},
   "source": [
    "... and like for the masks, we need to explicitly call a drawing function."
   ]
  },
  {
   "cell_type": "code",
   "execution_count": null,
   "metadata": {},
   "outputs": [],
   "source": [
    "canvas = pp.visualization.draw_landmarks(img, df_landmarks=df_lm,\n",
    "                                         point_size=15, \n",
    "                                         point_colour=\"green\", \n",
    "                                         label_size=2,\n",
    "                                         label_width=3, \n",
    "                                         label_colour=\"blue\")    \n",
    "pp.show_image(canvas)"
   ]
  },
  {
   "cell_type": "markdown",
   "metadata": {},
   "source": [
    "Similiar to the `polygon` tool in the `create_mask` function, one can use the `draw_polyline` tool to measure an object:"
   ]
  },
  {
   "cell_type": "code",
   "execution_count": null,
   "metadata": {},
   "outputs": [],
   "source": [
    "df_lines = pp.measurement.polylines(img, \n",
    "                                 line_width=2, \n",
    "                                 line_colour=\"green\") \n",
    "canvas = pp.visualization.draw_polylines(canvas, df_polylines=df_lines,\n",
    "                                         line_width=2, \n",
    "                                         line_colour=\"green\")    \n",
    "pp.show_image(canvas)"
   ]
  },
  {
   "cell_type": "markdown",
   "metadata": {},
   "source": [
    "Similar to this function is the `draw` tool, which is useful to separate objects after binarization. Here, for example, use a combination of `create_mask` and `draw` to detect and separate connected stickleback plates: first draw a mask, then do the segmentation. The `draw` tool is used directly on the binary image, and always creates lines with two points (or rectangles when `tool=\"rectangle\"` is selected. Then find the contours, and show the result."
   ]
  },
  {
   "cell_type": "code",
   "execution_count": 2,
   "metadata": {},
   "outputs": [
    {
     "name": "stdout",
     "output_type": "stream",
     "text": [
      "- create mask mask1\n"
     ]
    }
   ],
   "source": [
    "image = pp.load_image(os.path.join(\"images\",'stickle1.jpg')) \n",
    "mask = pp.preprocessing.create_mask(image, tool=\"polygon\")"
   ]
  },
  {
   "cell_type": "code",
   "execution_count": 6,
   "metadata": {},
   "outputs": [
    {
     "name": "stdout",
     "output_type": "stream",
     "text": [
      "- include mask \"mask1\" pixels\n"
     ]
    }
   ],
   "source": [
    "image_bin = pp.segmentation.threshold(image, \n",
    "                                      method=\"adaptive\", \n",
    "                                      channel=\"red\",\n",
    "                                      blocksize=199, \n",
    "                                      constant=5,\n",
    "                                      df_masks=mask) \n",
    "image_morph = pp.segmentation.morphology(image_bin, \n",
    "                                         operation=\"open\", \n",
    "                                         shape=\"ellipse\",\n",
    "                                         kernel_size=3, \n",
    "                                         iterations=1)"
   ]
  },
  {
   "cell_type": "code",
   "execution_count": 7,
   "metadata": {},
   "outputs": [
    {
     "name": "stdout",
     "output_type": "stream",
     "text": [
      "- draw polylines\n"
     ]
    }
   ],
   "source": [
    "image_bin_draw = pp.segmentation.draw(image_morph)"
   ]
  },
  {
   "cell_type": "code",
   "execution_count": 8,
   "metadata": {},
   "outputs": [],
   "source": [
    "contours = pp.segmentation.find_contours(image_bin_draw,  retrieval=\"ext\", min_area=150)\n",
    "image_drawn = pp.visualization.draw_contours(image, df_contours=contours) \n",
    "pp.show_image(image_drawn)"
   ]
  },
  {
   "cell_type": "markdown",
   "metadata": {},
   "source": [
    "## Data entry\n",
    "\n",
    "For high data quality it is important to verify the ID of the specimen in the current picture. Often, the picture name contains the ID, but typically an label is placed inside the image. Using the `enter_data` tool we open the image and an entry prompt that will create a column with a name of our chosing inside all exported results."
   ]
  },
  {
   "cell_type": "code",
   "execution_count": 9,
   "metadata": {},
   "outputs": [],
   "source": [
    "image, df_img_data = pp.load_image(os.path.join(\"images\",'stickle1.jpg'), df=True) "
   ]
  },
  {
   "cell_type": "code",
   "execution_count": 11,
   "metadata": {},
   "outputs": [
    {
     "name": "stdout",
     "output_type": "stream",
     "text": [
      "- add column ID\n"
     ]
    },
    {
     "data": {
      "text/html": [
       "<div>\n",
       "<style scoped>\n",
       "    .dataframe tbody tr th:only-of-type {\n",
       "        vertical-align: middle;\n",
       "    }\n",
       "\n",
       "    .dataframe tbody tr th {\n",
       "        vertical-align: top;\n",
       "    }\n",
       "\n",
       "    .dataframe thead th {\n",
       "        text-align: right;\n",
       "    }\n",
       "</style>\n",
       "<table border=\"1\" class=\"dataframe\">\n",
       "  <thead>\n",
       "    <tr style=\"text-align: right;\">\n",
       "      <th></th>\n",
       "      <th>filename</th>\n",
       "      <th>width</th>\n",
       "      <th>height</th>\n",
       "      <th>size_ratio_original</th>\n",
       "      <th>ID</th>\n",
       "    </tr>\n",
       "  </thead>\n",
       "  <tbody>\n",
       "    <tr>\n",
       "      <th>0</th>\n",
       "      <td>stickle1.jpg</td>\n",
       "      <td>2400</td>\n",
       "      <td>1600</td>\n",
       "      <td>1</td>\n",
       "      <td>142501</td>\n",
       "    </tr>\n",
       "  </tbody>\n",
       "</table>\n",
       "</div>"
      ],
      "text/plain": [
       "       filename  width  height  size_ratio_original      ID\n",
       "0  stickle1.jpg   2400    1600                    1  142501"
      ]
     },
     "execution_count": 11,
     "metadata": {},
     "output_type": "execute_result"
    }
   ],
   "source": [
    "df_img_data = pp.preprocessing.enter_data(image, df_img_data, columns=\"ID\")"
   ]
  },
  {
   "cell_type": "code",
   "execution_count": null,
   "metadata": {},
   "outputs": [],
   "source": []
  }
 ],
 "metadata": {
  "kernelspec": {
   "display_name": "Python 3",
   "language": "python",
   "name": "python3"
  },
  "language_info": {
   "codemirror_mode": {
    "name": "ipython",
    "version": 3
   },
   "file_extension": ".py",
   "mimetype": "text/x-python",
   "name": "python",
   "nbconvert_exporter": "python",
   "pygments_lexer": "ipython3",
   "version": "3.7.7"
  }
 },
 "nbformat": 4,
 "nbformat_minor": 4
}
